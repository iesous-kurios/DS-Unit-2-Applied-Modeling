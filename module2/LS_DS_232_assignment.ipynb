{
 "cells": [
  {
   "cell_type": "markdown",
   "metadata": {
    "colab_type": "text",
    "id": "nCc3XZEyG3XV"
   },
   "source": [
    "Lambda School Data Science\n",
    "\n",
    "*Unit 2, Sprint 3, Module 2*\n",
    "\n",
    "---\n",
    "\n",
    "\n",
    "# Permutation & Boosting\n",
    "\n",
    "You will use your portfolio project dataset for all assignments this sprint.\n",
    "\n",
    "## Assignment\n",
    "\n",
    "Complete these tasks for your project, and document your work.\n",
    "\n",
    "- [ ] If you haven't completed assignment #1, please do so first.\n",
    "- [ ] Continue to clean and explore your data. Make exploratory visualizations.\n",
    "- [ ] Fit a model. Does it beat your baseline? \n",
    "- [ ] Try xgboost.\n",
    "- [ ] Get your model's permutation importances.\n",
    "\n",
    "You should try to complete an initial model today, because the rest of the week, we're making model interpretation visualizations.\n",
    "\n",
    "But, if you aren't ready to try xgboost and permutation importances with your dataset today, that's okay. You can practice with another dataset instead. You may choose any dataset you've worked with previously.\n",
    "\n",
    "The data subdirectory includes the Titanic dataset for classification and the NYC apartments dataset for regression. You may want to choose one of these datasets, because example solutions will be available for each.\n",
    "\n",
    "\n",
    "## Reading\n",
    "\n",
    "Top recommendations in _**bold italic:**_\n",
    "\n",
    "#### Permutation Importances\n",
    "- _**[Kaggle / Dan Becker: Machine Learning Explainability](https://www.kaggle.com/dansbecker/permutation-importance)**_\n",
    "- [Christoph Molnar: Interpretable Machine Learning](https://christophm.github.io/interpretable-ml-book/feature-importance.html)\n",
    "\n",
    "#### (Default) Feature Importances\n",
    "  - [Ando Saabas: Selecting good features, Part 3, Random Forests](https://blog.datadive.net/selecting-good-features-part-iii-random-forests/)\n",
    "  - [Terence Parr, et al: Beware Default Random Forest Importances](https://explained.ai/rf-importance/index.html)\n",
    "\n",
    "#### Gradient Boosting\n",
    "  - [A Gentle Introduction to the Gradient Boosting Algorithm for Machine Learning](https://machinelearningmastery.com/gentle-introduction-gradient-boosting-algorithm-machine-learning/)\n",
    "  - _**[A Kaggle Master Explains Gradient Boosting](http://blog.kaggle.com/2017/01/23/a-kaggle-master-explains-gradient-boosting/)**_\n",
    "  - [_An Introduction to Statistical Learning_](http://www-bcf.usc.edu/~gareth/ISL/ISLR%20Seventh%20Printing.pdf) Chapter 8\n",
    "  - [Gradient Boosting Explained](http://arogozhnikov.github.io/2016/06/24/gradient_boosting_explained.html)\n",
    "  - _**[Boosting](https://www.youtube.com/watch?v=GM3CDQfQ4sw) (2.5 minute video)**_"
   ]
  },
  {
   "cell_type": "code",
   "execution_count": 1,
   "metadata": {},
   "outputs": [],
   "source": [
    "# all imports needed for this sheet\n",
    "\n",
    "import numpy as np\n",
    "import pandas as pd\n",
    "from sklearn.model_selection import train_test_split\n",
    "import category_encoders as ce\n",
    "from sklearn.ensemble import RandomForestClassifier\n",
    "from sklearn.impute import SimpleImputer\n",
    "from sklearn.pipeline import make_pipeline\n",
    "from sklearn.feature_selection import f_regression, SelectKBest\n",
    "from sklearn.linear_model import Ridge\n",
    "from sklearn.model_selection import cross_val_score\n",
    "from sklearn.preprocessing import StandardScaler\n",
    "import matplotlib.pyplot as plt\n",
    "from sklearn.model_selection import validation_curve\n",
    "from sklearn.tree import DecisionTreeRegressor\n",
    "import xgboost as xgb\n",
    "\n",
    "%matplotlib inline\n",
    "import seaborn as sns\n",
    "from sklearn.metrics import accuracy_score\n",
    "\n",
    "from sklearn.model_selection import GridSearchCV, RandomizedSearchCV\n"
   ]
  },
  {
   "cell_type": "code",
   "execution_count": 2,
   "metadata": {},
   "outputs": [],
   "source": [
    "%%capture\n",
    "import sys\n",
    "\n",
    "# If you're on Colab:\n",
    "if 'google.colab' in sys.modules:\n",
    "    DATA_PATH = 'https://raw.githubusercontent.com/LambdaSchool/DS-Unit-2-Applied-Modeling/master/data/'\n",
    "    !pip install category_encoders==2.*\n",
    "    !pip install eli5\n",
    "\n",
    "# If you're working locally:\n",
    "else:\n",
    "    DATA_PATH = '../data/'\n"
   ]
  },
  {
   "cell_type": "code",
   "execution_count": 3,
   "metadata": {},
   "outputs": [],
   "source": [
    "df = pd.read_excel(DATA_PATH+'/Unit_2_project_data.xlsx')"
   ]
  },
  {
   "cell_type": "code",
   "execution_count": 4,
   "metadata": {},
   "outputs": [],
   "source": [
    "exit_reasons = ['Rental by client with RRH or equivalent subsidy', \n",
    "                'Rental by client, no ongoing housing subsidy', \n",
    "                'Staying or living with family, permanent tenure', \n",
    "                'Rental by client, other ongoing housing subsidy',\n",
    "                'Permanent housing (other than RRH) for formerly homeless persons', \n",
    "                'Staying or living with friends, permanent tenure', \n",
    "                'Owned by client, with ongoing housing subsidy', \n",
    "                'Rental by client, VASH housing Subsidy'\n",
    "               ]"
   ]
  },
  {
   "cell_type": "code",
   "execution_count": 5,
   "metadata": {},
   "outputs": [],
   "source": [
    "# pull all exit destinations from main data file and sum up the totals of each destination, \n",
    "# placing them into new df for calculations\n",
    "exits = df['3.12 Exit Destination'].value_counts()"
   ]
  },
  {
   "cell_type": "code",
   "execution_count": 6,
   "metadata": {},
   "outputs": [],
   "source": [
    " # create target column (multiple types of exits to perm)\n",
    "df['perm_leaver'] = df['3.12 Exit Destination'].isin(exit_reasons)"
   ]
  },
  {
   "cell_type": "code",
   "execution_count": 7,
   "metadata": {},
   "outputs": [
    {
     "data": {
      "text/plain": [
       "False    0.713086\n",
       "True     0.286914\n",
       "Name: perm_leaver, dtype: float64"
      ]
     },
     "execution_count": 7,
     "metadata": {},
     "output_type": "execute_result"
    }
   ],
   "source": [
    "# base case\n",
    "df['perm_leaver'].value_counts(normalize=True)"
   ]
  },
  {
   "cell_type": "code",
   "execution_count": 8,
   "metadata": {},
   "outputs": [],
   "source": [
    "# replace spaces with underscore\n",
    "df.columns = df.columns.str.replace(' ', '_')"
   ]
  },
  {
   "cell_type": "code",
   "execution_count": 9,
   "metadata": {},
   "outputs": [
    {
     "data": {
      "text/plain": [
       "(2025, 119)"
      ]
     },
     "execution_count": 9,
     "metadata": {},
     "output_type": "execute_result"
    }
   ],
   "source": [
    "# see size of df prior to dropping empties\n",
    "df.shape"
   ]
  },
  {
   "cell_type": "code",
   "execution_count": 10,
   "metadata": {},
   "outputs": [],
   "source": [
    "# drop rows with no exit destination (current guests at time of report)\n",
    "df = df.dropna(subset=['3.12_Exit_Destination'])"
   ]
  },
  {
   "cell_type": "code",
   "execution_count": 11,
   "metadata": {},
   "outputs": [
    {
     "data": {
      "text/plain": [
       "(1873, 119)"
      ]
     },
     "execution_count": 11,
     "metadata": {},
     "output_type": "execute_result"
    }
   ],
   "source": [
    "# shape of df after dropping current guests\n",
    "df.shape"
   ]
  },
  {
   "cell_type": "code",
   "execution_count": 12,
   "metadata": {},
   "outputs": [
    {
     "data": {
      "text/plain": [
       "False    1873\n",
       "Name: 3.12_Exit_Destination, dtype: int64"
      ]
     },
     "execution_count": 12,
     "metadata": {},
     "output_type": "execute_result"
    }
   ],
   "source": [
    "# verify no NaN in exit destination feature\n",
    "df['3.12_Exit_Destination'].isna().value_counts()"
   ]
  },
  {
   "cell_type": "code",
   "execution_count": 13,
   "metadata": {},
   "outputs": [],
   "source": [
    "import numpy as np\n",
    "import pandas as pd\n",
    "from sklearn.model_selection import train_test_split\n",
    "\n",
    "train = df\n",
    "\n",
    "# Split train into train & val\n",
    "train, val = train_test_split(train, train_size=0.80, test_size=0.20, \n",
    "                              stratify=train['perm_leaver'], random_state=42)\n",
    "\n",
    "def wrangle(X):\n",
    "    \"\"\"Wrangle train, validate, and test sets in the same way\"\"\"\n",
    "    \n",
    "    # Prevent SettingWithCopyWarning\n",
    "    X = X.copy()\n",
    "    \n",
    "    # drop any private information\n",
    "    X = X.drop(columns=['3.1_FirstName', '3.1_LastName', '3.2_SocSecNo', \n",
    "                      '3.3_Birthdate', 'V5_Prior_Address'])\n",
    "    \n",
    "    # drop unusable columns\n",
    "    X = X.drop(columns=['2.1_Organization_Name', '2.4_ProjectType',\n",
    "                        'WorkSource_Referral_Most_Recent', 'YAHP_Referral_Most_Recent',\n",
    "                        'SOAR_Enrollment_Determination_(Most_Recent)',\n",
    "                        'R7_General_Health_Status', 'R8_Dental_Health_Status',\n",
    "                        'R9_Mental_Health_Status', 'RRH_Date_Of_Move-In',\n",
    "                        'RRH_In_Permanent_Housing', 'R10_Pregnancy_Due_Date',\n",
    "                        'R10_Pregnancy_Status', 'R1_Referral_Source',\n",
    "                        'R2_Date_Status_Determined', 'R2_Enroll_Status',\n",
    "                        'R2_Reason_Why_No_Services_Funded', 'R2_Runaway_Youth',\n",
    "                        'R3_Sexual_Orientation', '2.5_Utilization_Tracking_Method_(Invalid)',\n",
    "                        '2.2_Project_Name', '2.6_Federal_Grant_Programs', '3.16_Client_Location',\n",
    "                        '3.917_Stayed_Less_Than_90_Days', \n",
    "                        '3.917b_Stayed_in_Streets,_ES_or_SH_Night_Before', \n",
    "                        '3.917b_Stayed_Less_Than_7_Nights', '4.24_In_School_(Retired_Data_Element)',\n",
    "                        'CaseChildren', 'ClientID', 'HEN-HP_Referral_Most_Recent',\n",
    "                        'HEN-RRH_Referral_Most_Recent', 'Emergency_Shelter_|_Most_Recent_Enrollment',\n",
    "                        'ProgramType', 'Days_Enrolled_Until_RRH_Date_of_Move-in',\n",
    "                        'CurrentDate', 'Current_Age', 'Count_of_Bed_Nights_-_Entire_Episode',\n",
    "                        'Bed_Nights_During_Report_Period'])\n",
    "        \n",
    "    # drop rows with no exit destination (current guests at time of report)\n",
    "    X = X.dropna(subset=['3.12_Exit_Destination'])\n",
    "    \n",
    "    # remove columns to avoid data leakage\n",
    "    X = X.drop(columns=['3.12_Exit_Destination', '5.9_Household_ID', '5.8_Personal_ID',\n",
    "                       '4.2_Income_Total_at_Exit', '4.3_Non-Cash_Benefit_Count_at_Exit'])\n",
    "    \n",
    "    # Drop needless feature\n",
    "    unusable_variance = ['Enrollment_Created_By', '4.24_Current_Status_(Retired_Data_Element)']\n",
    "    X = X.drop(columns=unusable_variance)\n",
    "\n",
    "    # Drop columns with timestamp\n",
    "    timestamp_columns = ['3.10_Enroll_Date', '3.11_Exit_Date', \n",
    "                         'Date_of_Last_ES_Stay_(Beta)', 'Date_of_First_ES_Stay_(Beta)', \n",
    "                         'Prevention_|_Most_Recent_Enrollment', 'PSH_|_Most_Recent_Enrollment', \n",
    "                         'Transitional_Housing_|_Most_Recent_Enrollment', 'Coordinated_Entry_|_Most_Recent_Enrollment', \n",
    "                         'Street_Outreach_|_Most_Recent_Enrollment', 'RRH_|_Most_Recent_Enrollment', \n",
    "                         'SOAR_Eligibility_Determination_(Most_Recent)', 'Date_of_First_Contact_(Beta)',\n",
    "                         'Date_of_Last_Contact_(Beta)', '4.13_Engagement_Date', '4.11_Domestic_Violence_-_When_it_Occurred',\n",
    "                         '3.917_Homeless_Start_Date']\n",
    "    X = X.drop(columns=timestamp_columns)\n",
    "    \n",
    "    # return the wrangled dataframe\n",
    "    return X\n",
    "\n"
   ]
  },
  {
   "cell_type": "code",
   "execution_count": 14,
   "metadata": {},
   "outputs": [],
   "source": [
    "train = wrangle(train)\n",
    "val = wrangle(val)"
   ]
  },
  {
   "cell_type": "code",
   "execution_count": 15,
   "metadata": {},
   "outputs": [
    {
     "data": {
      "text/plain": [
       "Index(['3.15_Relationship_to_HoH', 'CaseMembers',\n",
       "       '3.2_Social_Security_Quality', '3.3_Birthdate_Quality',\n",
       "       'Age_at_Enrollment', '3.4_Race', '3.5_Ethnicity', '3.6_Gender',\n",
       "       '3.7_Veteran_Status', '3.8_Disabling_Condition_at_Entry',\n",
       "       '3.917_Living_Situation', '3.917_Length_of_Stay',\n",
       "       'Length_of_Time_Homeless_(3.917_Approximate_Start)',\n",
       "       '3.917_Times_Homeless_Last_3_Years',\n",
       "       '3.917_Total_Months_Homeless_Last_3_Years', 'V5_Last_Permanent_Address',\n",
       "       'V5_State', 'V5_Zip', 'Municipality_(City_or_County)',\n",
       "       'Days_Enrolled_in_Project', '4.1_Housing_Status',\n",
       "       '4.4_Covered_by_Health_Insurance', '4.11_Domestic_Violence',\n",
       "       '4.11_Domestic_Violence_-_Currently_Fleeing_DV?',\n",
       "       'Days_Enrolled_Until_Engagement_Date',\n",
       "       '4.24_Connected_to_McKinney_Vento_Liason_(Retired)', 'Household_Type',\n",
       "       'Latitude', 'Longitude', 'R4_Last_Grade_Completed', 'R5_School_Status',\n",
       "       'R6_Employed_Status', 'R6_Why_Not_Employed', 'R6_Type_of_Employment',\n",
       "       'R6_Looking_for_Work', 'Client_Record_Restricted', 'InfoReleaseNo',\n",
       "       'Information_Release_Status', '4.12_Contact_Services',\n",
       "       'Count_of_Bed_Nights_(Housing_Check-ins)', '4.2_Income_Total_at_Entry',\n",
       "       '4.3_Non-Cash_Benefit_Count', 'Barrier_Count_at_Entry',\n",
       "       'Chronic_Homeless_Status', 'Under_25_Years_Old',\n",
       "       '4.10_Alcohol_Abuse_(Substance_Abuse)', '4.07_Chronic_Health_Condition',\n",
       "       '4.06_Developmental_Disability', '4.10_Drug_Abuse_(Substance_Abuse)',\n",
       "       '4.08_HIV/AIDS', '4.09_Mental_Health_Problem',\n",
       "       '4.05_Physical_Disability', 'CaseAdults', 'perm_leaver'],\n",
       "      dtype='object')"
      ]
     },
     "execution_count": 15,
     "metadata": {},
     "output_type": "execute_result"
    }
   ],
   "source": [
    "train.columns"
   ]
  },
  {
   "cell_type": "code",
   "execution_count": 16,
   "metadata": {},
   "outputs": [],
   "source": [
    "# Arrange data into X features matrix and y target vector\n",
    "target = 'perm_leaver'\n",
    "X_train = train.drop(columns=target)\n",
    "y_train = train[target]\n",
    "X_val = val.drop(columns=target)\n",
    "y_val = val[target]\n"
   ]
  },
  {
   "cell_type": "code",
   "execution_count": 40,
   "metadata": {},
   "outputs": [
    {
     "name": "stdout",
     "output_type": "stream",
     "text": [
      "Validation Accuracy 0.8213333333333334\n"
     ]
    }
   ],
   "source": [
    "import category_encoders as ce\n",
    "from sklearn.impute import SimpleImputer\n",
    "from sklearn.ensemble import RandomForestClassifier\n",
    "from sklearn.model_selection import train_test_split\n",
    "from sklearn.pipeline import make_pipeline\n",
    "\n",
    "# Make pipeline!\n",
    "pipeline = make_pipeline(\n",
    "    ce.OrdinalEncoder(), \n",
    "    SimpleImputer(strategy='most_frequent'), \n",
    "    RandomForestClassifier(n_estimators=100\n",
    "                       )\n",
    ")\n",
    "\n",
    "# Fit on train, score on val\n",
    "pipeline.fit(X_train, y_train)\n",
    "y_pred = pipeline.predict(X_val)\n",
    "print('Validation Accuracy', accuracy_score(y_val, y_pred))"
   ]
  },
  {
   "cell_type": "code",
   "execution_count": 18,
   "metadata": {},
   "outputs": [
    {
     "data": {
      "text/plain": [
       "Pipeline(memory=None,\n",
       "         steps=[('ordinalencoder',\n",
       "                 OrdinalEncoder(cols=['3.15_Relationship_to_HoH',\n",
       "                                      '3.2_Social_Security_Quality',\n",
       "                                      '3.3_Birthdate_Quality', '3.4_Race',\n",
       "                                      '3.5_Ethnicity', '3.6_Gender',\n",
       "                                      '3.7_Veteran_Status',\n",
       "                                      '3.8_Disabling_Condition_at_Entry',\n",
       "                                      '3.917_Living_Situation',\n",
       "                                      '3.917_Length_of_Stay',\n",
       "                                      '3.917_Times_Homeless_Last_3_Years',\n",
       "                                      '3.917_Total_Months_Ho...\n",
       "                               colsample_bylevel=1, colsample_bynode=1,\n",
       "                               colsample_bytree=1, gamma=0, learning_rate=0.1,\n",
       "                               max_delta_step=0, max_depth=3,\n",
       "                               min_child_weight=1, missing=None,\n",
       "                               n_estimators=110, n_jobs=-1, nthread=None,\n",
       "                               num_parallel_tree=200,\n",
       "                               objective='binary:logistic', random_state=42,\n",
       "                               reg_alpha=0, reg_lambda=1, scale_pos_weight=1,\n",
       "                               seed=None, silent=None, subsample=1,\n",
       "                               verbosity=1))],\n",
       "         verbose=False)"
      ]
     },
     "execution_count": 18,
     "metadata": {},
     "output_type": "execute_result"
    }
   ],
   "source": [
    "# Make pipeline!\n",
    "pipeline = make_pipeline(\n",
    "    ce.OrdinalEncoder(), \n",
    "    SimpleImputer(strategy='most_frequent'), \n",
    "    xgb.XGBClassifier(n_estimators=110, n_jobs=-1, num_parallel_tree=200,\n",
    "                           random_state=42, max_depth=3\n",
    "                       )\n",
    ")\n",
    "# Fit on Train\n",
    "pipeline.fit(X_train, y_train)"
   ]
  },
  {
   "cell_type": "code",
   "execution_count": 19,
   "metadata": {},
   "outputs": [
    {
     "name": "stdout",
     "output_type": "stream",
     "text": [
      "Validation Accuracy 0.728\n"
     ]
    }
   ],
   "source": [
    "# Score on val\n",
    "y_pred = pipeline.predict(X_val)\n",
    "print('Validation Accuracy', accuracy_score(y_val, y_pred))"
   ]
  },
  {
   "cell_type": "code",
   "execution_count": 20,
   "metadata": {},
   "outputs": [
    {
     "name": "stdout",
     "output_type": "stream",
     "text": [
      "MAE for 3 folds: [-0.72       -0.73947896 -0.74148297]\n"
     ]
    }
   ],
   "source": [
    "# cross validation \n",
    "\n",
    "k = 3\n",
    "scores = cross_val_score(pipeline, X_train, y_train, cv=k, \n",
    "                         scoring='accuracy')\n",
    "print(f'MAE for {k} folds:', -scores)"
   ]
  },
  {
   "cell_type": "code",
   "execution_count": 21,
   "metadata": {},
   "outputs": [
    {
     "data": {
      "text/plain": [
       "-0.7336539746158984"
      ]
     },
     "execution_count": 21,
     "metadata": {},
     "output_type": "execute_result"
    }
   ],
   "source": [
    "-scores.mean()"
   ]
  },
  {
   "cell_type": "code",
   "execution_count": 41,
   "metadata": {
    "scrolled": true
   },
   "outputs": [
    {
     "data": {
      "text/plain": [
       "<matplotlib.axes._subplots.AxesSubplot at 0x7f333801a470>"
      ]
     },
     "execution_count": 41,
     "metadata": {},
     "output_type": "execute_result"
    },
    {
     "data": {
      "image/png": "[encoded data removed]",
      "text/plain": [
       "<Figure size 720x2160 with 1 Axes>"
      ]
     },
     "metadata": {
      "needs_background": "light"
     },
     "output_type": "display_data"
    }
   ],
   "source": [
    "# get and plot feature importances\n",
    "\n",
    "# Linear models have coefficients whereas decision trees have \"Feature Importances\"\n",
    "import matplotlib.pyplot as plt\n",
    "\n",
    "model = pipeline.named_steps['randomforestclassifier']\n",
    "encoder = pipeline.named_steps['ordinalencoder']\n",
    "encoded_columns = encoder.transform(X_val).columns\n",
    "importances = pd.Series(model.feature_importances_, encoded_columns)\n",
    "plt.figure(figsize=(10,30))\n",
    "importances.sort_values().plot.barh(color='grey')"
   ]
  },
  {
   "cell_type": "code",
   "execution_count": null,
   "metadata": {},
   "outputs": [],
   "source": [
    "df['4.1_Housing_Status'].value_counts()"
   ]
  },
  {
   "cell_type": "code",
   "execution_count": null,
   "metadata": {},
   "outputs": [],
   "source": [
    "X_train.shape"
   ]
  },
  {
   "cell_type": "code",
   "execution_count": null,
   "metadata": {},
   "outputs": [],
   "source": [
    "X_train.columns"
   ]
  },
  {
   "cell_type": "code",
   "execution_count": null,
   "metadata": {},
   "outputs": [],
   "source": [
    "X_train.Days_Enrolled_in_Project.value_counts()"
   ]
  },
  {
   "cell_type": "code",
   "execution_count": null,
   "metadata": {},
   "outputs": [],
   "source": [
    "column  = 'Days_Enrolled_in_Project'\n",
    "\n",
    "# Fit without column\n",
    "pipeline = make_pipeline(\n",
    "    ce.OrdinalEncoder(), \n",
    "    SimpleImputer(strategy='most_frequent'), \n",
    "    RandomForestClassifier(n_estimators=250, random_state=42, n_jobs=-1)\n",
    ")\n",
    "pipeline.fit(X_train.drop(columns=column), y_train)\n",
    "score_without = pipeline.score(X_val.drop(columns=column), y_val)\n",
    "print(f'Validation Accuracy without {column}: {score_without}')\n",
    "\n",
    "# Fit with column\n",
    "pipeline = make_pipeline(\n",
    "    ce.OrdinalEncoder(), \n",
    "    SimpleImputer(strategy='most_frequent'), \n",
    "    RandomForestClassifier(n_estimators=250, random_state=42, n_jobs=-1)\n",
    ")\n",
    "pipeline.fit(X_train, y_train)\n",
    "score_with = pipeline.score(X_val, y_val)\n",
    "print(f'Validation Accuracy with {column}: {score_with}')\n",
    "\n",
    "# Compare the error with & without column\n",
    "print(f'Drop-Column Importance for {column}: {score_with - score_without}')"
   ]
  },
  {
   "cell_type": "code",
   "execution_count": null,
   "metadata": {},
   "outputs": [],
   "source": [
    "column  = 'Days_Enrolled_in_Project'\n",
    "\n",
    "# Fit without column\n",
    "pipeline = make_pipeline(\n",
    "    ce.OrdinalEncoder(), \n",
    "    SimpleImputer(strategy='most_frequent'), \n",
    "    RandomForestClassifier(n_estimators=250, max_depth=7, random_state=42, n_jobs=-1)\n",
    ")\n",
    "pipeline.fit(X_train.drop(columns=column), y_train)\n",
    "score_without = pipeline.score(X_val.drop(columns=column), y_val)\n",
    "print(f'Validation Accuracy without {column}: {score_without}')\n",
    "\n",
    "# Fit with column\n",
    "pipeline = make_pipeline(\n",
    "    ce.OrdinalEncoder(), \n",
    "    SimpleImputer(strategy='most_frequent'), \n",
    "    RandomForestClassifier(n_estimators=250, max_depth=7, random_state=42, n_jobs=-1)\n",
    ")\n",
    "pipeline.fit(X_train, y_train)\n",
    "score_with = pipeline.score(X_val, y_val)\n",
    "print(f'Validation Accuracy with {column}: {score_with}')\n",
    "\n",
    "# Compare the error with & without column\n",
    "print(f'Drop-Column Importance for {column}: {score_with - score_without}')"
   ]
  },
  {
   "cell_type": "code",
   "execution_count": null,
   "metadata": {},
   "outputs": [],
   "source": [
    "# Fit with all the data\n",
    "pipeline = make_pipeline(\n",
    "    ce.OrdinalEncoder(), \n",
    "    SimpleImputer(strategy='most_frequent'), \n",
    "    RandomForestClassifier(n_estimators=100, random_state=42, n_jobs=-1)\n",
    ")\n",
    "pipeline.fit(X_train, y_train)\n",
    "score_with = pipeline.score(X_val, y_val)\n",
    "print(f'Validation Accuracy with {column}: {score_with}')"
   ]
  },
  {
   "cell_type": "code",
   "execution_count": null,
   "metadata": {},
   "outputs": [],
   "source": [
    "# Before: Sequence of features to be permuted\n",
    "feature = 'Days_Enrolled_in_Project'\n",
    "X_val[feature].head()"
   ]
  },
  {
   "cell_type": "code",
   "execution_count": null,
   "metadata": {},
   "outputs": [],
   "source": [
    "# Before: Distribution of quantity\n",
    "X_val[feature].value_counts()"
   ]
  },
  {
   "cell_type": "code",
   "execution_count": null,
   "metadata": {},
   "outputs": [],
   "source": [
    "# Permute the dataset\n",
    "X_val_permuted = X_val.copy()\n",
    "X_val_permuted[feature] = np.random.permutation(X_val[feature])"
   ]
  },
  {
   "cell_type": "code",
   "execution_count": null,
   "metadata": {},
   "outputs": [],
   "source": [
    "# After: Sequence of features to be permuted\n",
    "X_val_permuted[feature].head()"
   ]
  },
  {
   "cell_type": "code",
   "execution_count": null,
   "metadata": {},
   "outputs": [],
   "source": [
    "# Distribution hasn't changed!\n",
    "X_val_permuted[feature].value_counts()"
   ]
  },
  {
   "cell_type": "code",
   "execution_count": null,
   "metadata": {},
   "outputs": [],
   "source": [
    "# Get the permutation importance\n",
    "score_permuted = pipeline.score(X_val_permuted, y_val)\n",
    "\n",
    "print(f'Validation Accuracy with {column} not permuted: {score_with}')\n",
    "print(f'Validation Accuracy with {column} permuted: {score_permuted}')\n",
    "print(f'Permutation Importance for {column}: {score_with - score_permuted}')"
   ]
  },
  {
   "cell_type": "code",
   "execution_count": null,
   "metadata": {
    "scrolled": true
   },
   "outputs": [],
   "source": [
    "pipeline = make_pipeline(\n",
    "    ce.OrdinalEncoder(),\n",
    "    SimpleImputer(strategy='most_frequent')\n",
    ")\n",
    "\n",
    "X_train_transformed = pipeline.fit_transform(X_train)\n",
    "X_val_transformed = pipeline.transform(X_val)\n",
    "\n",
    "model = RandomForestClassifier(n_estimators=100, random_state=42, n_jobs=-1)\n",
    "model.fit(X_train_transformed, y_train)"
   ]
  },
  {
   "cell_type": "code",
   "execution_count": null,
   "metadata": {},
   "outputs": [],
   "source": [
    "pip install eli5"
   ]
  },
  {
   "cell_type": "code",
   "execution_count": null,
   "metadata": {},
   "outputs": [],
   "source": [
    "import eli5\n",
    "from eli5.sklearn import PermutationImportance\n",
    "\n",
    "permuter = PermutationImportance(\n",
    "    model,\n",
    "    scoring='accuracy',\n",
    "    n_iter=5,\n",
    "    random_state=42\n",
    ")\n",
    "permuter.fit(X_val_transformed, y_val)"
   ]
  },
  {
   "cell_type": "code",
   "execution_count": null,
   "metadata": {},
   "outputs": [],
   "source": [
    "permuter.feature_importances_"
   ]
  },
  {
   "cell_type": "code",
   "execution_count": null,
   "metadata": {},
   "outputs": [],
   "source": [
    "eli5.show_weights(\n",
    "    permuter,\n",
    "    top=None,\n",
    "    feature_names=X_val.columns.tolist()\n",
    ")"
   ]
  },
  {
   "cell_type": "code",
   "execution_count": null,
   "metadata": {},
   "outputs": [],
   "source": [
    "print('Shape before removing features:', X_train.shape)"
   ]
  },
  {
   "cell_type": "code",
   "execution_count": null,
   "metadata": {},
   "outputs": [],
   "source": [
    "minimum_importance = 0 \n",
    "mask = permuter.feature_importances_ > minimum_importance\n",
    "features = X_train.columns[mask]\n",
    "X_train = X_train[features]"
   ]
  },
  {
   "cell_type": "code",
   "execution_count": null,
   "metadata": {},
   "outputs": [],
   "source": [
    "print('Shape after removing features:', X_train.shape)"
   ]
  },
  {
   "cell_type": "code",
   "execution_count": null,
   "metadata": {},
   "outputs": [],
   "source": [
    "X_val = X_val[features]\n",
    "\n",
    "pipeline = make_pipeline(\n",
    "    ce.OrdinalEncoder(),\n",
    "    SimpleImputer(strategy='most_frequent'),\n",
    "    RandomForestClassifier(n_estimators=100, random_state=42, n_jobs=-1)\n",
    ")\n",
    "\n",
    "# Fit on train, score on val\n",
    "pipeline.fit(X_train, y_train)\n",
    "print('Validation Accuracy:', pipeline.score(X_val, y_val))"
   ]
  },
  {
   "cell_type": "code",
   "execution_count": 24,
   "metadata": {},
   "outputs": [
    {
     "name": "stdout",
     "output_type": "stream",
     "text": [
      "Validation Accuracy: 0.744\n"
     ]
    }
   ],
   "source": [
    "from xgboost import XGBClassifier\n",
    "\n",
    "pipeline = make_pipeline(\n",
    "    ce.OrdinalEncoder(),\n",
    "    XGBClassifier(n_estimators=100, random_state=42, n_jobs=-1)\n",
    ")\n",
    "\n",
    "# Fit on train, score on val\n",
    "pipeline.fit(X_train, y_train)\n",
    "print('Validation Accuracy:', pipeline.score(X_val, y_val))"
   ]
  },
  {
   "cell_type": "code",
   "execution_count": 37,
   "metadata": {
    "scrolled": true
   },
   "outputs": [
    {
     "name": "stdout",
     "output_type": "stream",
     "text": [
      "[0]\tvalidation_0-auc:0.854578\tvalidation_1-auc:0.69979\n",
      "Multiple eval metrics have been passed: 'validation_1-auc' will be used for early stopping.\n",
      "\n",
      "Will train until validation_1-auc hasn't improved in 25 rounds.\n",
      "[1]\tvalidation_0-auc:0.884602\tvalidation_1-auc:0.715201\n",
      "[2]\tvalidation_0-auc:0.887154\tvalidation_1-auc:0.712322\n",
      "[3]\tvalidation_0-auc:0.913372\tvalidation_1-auc:0.749168\n",
      "[4]\tvalidation_0-auc:0.920164\tvalidation_1-auc:0.759985\n",
      "[5]\tvalidation_0-auc:0.9253\tvalidation_1-auc:0.76125\n",
      "[6]\tvalidation_0-auc:0.93385\tvalidation_1-auc:0.77473\n",
      "[7]\tvalidation_0-auc:0.936473\tvalidation_1-auc:0.773815\n",
      "[8]\tvalidation_0-auc:0.947158\tvalidation_1-auc:0.782685\n",
      "[9]\tvalidation_0-auc:0.948379\tvalidation_1-auc:0.780023\n",
      "[10]\tvalidation_0-auc:0.953246\tvalidation_1-auc:0.778791\n",
      "[11]\tvalidation_0-auc:0.954876\tvalidation_1-auc:0.776894\n",
      "[12]\tvalidation_0-auc:0.958093\tvalidation_1-auc:0.783168\n",
      "[13]\tvalidation_0-auc:0.959973\tvalidation_1-auc:0.783002\n",
      "[14]\tvalidation_0-auc:0.962695\tvalidation_1-auc:0.788194\n",
      "[15]\tvalidation_0-auc:0.964397\tvalidation_1-auc:0.787478\n",
      "[16]\tvalidation_0-auc:0.966096\tvalidation_1-auc:0.785215\n",
      "[17]\tvalidation_0-auc:0.966839\tvalidation_1-auc:0.785548\n",
      "[18]\tvalidation_0-auc:0.968849\tvalidation_1-auc:0.790141\n",
      "[19]\tvalidation_0-auc:0.969965\tvalidation_1-auc:0.791905\n",
      "[20]\tvalidation_0-auc:0.971728\tvalidation_1-auc:0.790557\n",
      "[21]\tvalidation_0-auc:0.972225\tvalidation_1-auc:0.789542\n",
      "[22]\tvalidation_0-auc:0.972458\tvalidation_1-auc:0.792005\n",
      "[23]\tvalidation_0-auc:0.973982\tvalidation_1-auc:0.7955\n",
      "[24]\tvalidation_0-auc:0.974505\tvalidation_1-auc:0.796016\n",
      "[25]\tvalidation_0-auc:0.975028\tvalidation_1-auc:0.797164\n",
      "[26]\tvalidation_0-auc:0.975684\tvalidation_1-auc:0.79743\n",
      "[27]\tvalidation_0-auc:0.979369\tvalidation_1-auc:0.804553\n",
      "[28]\tvalidation_0-auc:0.980337\tvalidation_1-auc:0.807682\n",
      "[29]\tvalidation_0-auc:0.981805\tvalidation_1-auc:0.807682\n",
      "[30]\tvalidation_0-auc:0.983266\tvalidation_1-auc:0.808381\n",
      "[31]\tvalidation_0-auc:0.985987\tvalidation_1-auc:0.811443\n",
      "[32]\tvalidation_0-auc:0.986945\tvalidation_1-auc:0.813906\n",
      "[33]\tvalidation_0-auc:0.987822\tvalidation_1-auc:0.813374\n",
      "[34]\tvalidation_0-auc:0.988547\tvalidation_1-auc:0.814272\n",
      "[35]\tvalidation_0-auc:0.988566\tvalidation_1-auc:0.815737\n",
      "[36]\tvalidation_0-auc:0.988949\tvalidation_1-auc:0.816902\n",
      "[37]\tvalidation_0-auc:0.990177\tvalidation_1-auc:0.821362\n",
      "[38]\tvalidation_0-auc:0.990739\tvalidation_1-auc:0.82296\n",
      "[39]\tvalidation_0-auc:0.990868\tvalidation_1-auc:0.822793\n",
      "[40]\tvalidation_0-auc:0.99098\tvalidation_1-auc:0.823326\n",
      "[41]\tvalidation_0-auc:0.991174\tvalidation_1-auc:0.825556\n",
      "[42]\tvalidation_0-auc:0.991824\tvalidation_1-auc:0.829883\n",
      "[43]\tvalidation_0-auc:0.992317\tvalidation_1-auc:0.831614\n",
      "[44]\tvalidation_0-auc:0.992238\tvalidation_1-auc:0.831081\n",
      "[45]\tvalidation_0-auc:0.992246\tvalidation_1-auc:0.831281\n",
      "[46]\tvalidation_0-auc:0.992413\tvalidation_1-auc:0.833478\n",
      "[47]\tvalidation_0-auc:0.99235\tvalidation_1-auc:0.832579\n",
      "[48]\tvalidation_0-auc:0.99245\tvalidation_1-auc:0.832246\n",
      "[49]\tvalidation_0-auc:0.992542\tvalidation_1-auc:0.832379\n",
      "[50]\tvalidation_0-auc:0.992692\tvalidation_1-auc:0.835741\n",
      "[51]\tvalidation_0-auc:0.993441\tvalidation_1-auc:0.838737\n",
      "[52]\tvalidation_0-auc:0.993485\tvalidation_1-auc:0.838836\n",
      "[53]\tvalidation_0-auc:0.993719\tvalidation_1-auc:0.839402\n",
      "[54]\tvalidation_0-auc:0.993807\tvalidation_1-auc:0.840334\n",
      "[55]\tvalidation_0-auc:0.993994\tvalidation_1-auc:0.840301\n",
      "[56]\tvalidation_0-auc:0.994083\tvalidation_1-auc:0.840101\n",
      "[57]\tvalidation_0-auc:0.994273\tvalidation_1-auc:0.841998\n",
      "[58]\tvalidation_0-auc:0.994797\tvalidation_1-auc:0.84303\n",
      "[59]\tvalidation_0-auc:0.995033\tvalidation_1-auc:0.845527\n",
      "[60]\tvalidation_0-auc:0.995214\tvalidation_1-auc:0.847757\n",
      "[61]\tvalidation_0-auc:0.995276\tvalidation_1-auc:0.846292\n",
      "[62]\tvalidation_0-auc:0.99543\tvalidation_1-auc:0.846991\n",
      "[63]\tvalidation_0-auc:0.995476\tvalidation_1-auc:0.847091\n",
      "[64]\tvalidation_0-auc:0.99558\tvalidation_1-auc:0.848189\n",
      "[65]\tvalidation_0-auc:0.995639\tvalidation_1-auc:0.848489\n",
      "[66]\tvalidation_0-auc:0.995641\tvalidation_1-auc:0.849288\n",
      "[67]\tvalidation_0-auc:0.995813\tvalidation_1-auc:0.848655\n",
      "[68]\tvalidation_0-auc:0.995947\tvalidation_1-auc:0.848888\n",
      "[69]\tvalidation_0-auc:0.996492\tvalidation_1-auc:0.852783\n",
      "[70]\tvalidation_0-auc:0.996657\tvalidation_1-auc:0.85438\n",
      "[71]\tvalidation_0-auc:0.996677\tvalidation_1-auc:0.854979\n",
      "[72]\tvalidation_0-auc:0.996675\tvalidation_1-auc:0.855179\n",
      "[73]\tvalidation_0-auc:0.996756\tvalidation_1-auc:0.855379\n",
      "[74]\tvalidation_0-auc:0.996786\tvalidation_1-auc:0.855212\n",
      "[75]\tvalidation_0-auc:0.997248\tvalidation_1-auc:0.85691\n",
      "[76]\tvalidation_0-auc:0.997337\tvalidation_1-auc:0.858374\n",
      "[77]\tvalidation_0-auc:0.997346\tvalidation_1-auc:0.858175\n",
      "[78]\tvalidation_0-auc:0.997362\tvalidation_1-auc:0.858175\n",
      "[79]\tvalidation_0-auc:0.997564\tvalidation_1-auc:0.858974\n",
      "[80]\tvalidation_0-auc:0.99767\tvalidation_1-auc:0.860638\n",
      "[81]\tvalidation_0-auc:0.997926\tvalidation_1-auc:0.861903\n",
      "[82]\tvalidation_0-auc:0.998014\tvalidation_1-auc:0.863367\n",
      "[83]\tvalidation_0-auc:0.998072\tvalidation_1-auc:0.864632\n",
      "[84]\tvalidation_0-auc:0.998085\tvalidation_1-auc:0.863999\n",
      "[85]\tvalidation_0-auc:0.998139\tvalidation_1-auc:0.8635\n",
      "[86]\tvalidation_0-auc:0.998139\tvalidation_1-auc:0.864033\n",
      "[87]\tvalidation_0-auc:0.998149\tvalidation_1-auc:0.863434\n",
      "[88]\tvalidation_0-auc:0.99818\tvalidation_1-auc:0.864432\n",
      "[89]\tvalidation_0-auc:0.998199\tvalidation_1-auc:0.863933\n",
      "[90]\tvalidation_0-auc:0.998195\tvalidation_1-auc:0.863533\n",
      "[91]\tvalidation_0-auc:0.998249\tvalidation_1-auc:0.8639\n",
      "[92]\tvalidation_0-auc:0.998295\tvalidation_1-auc:0.865031\n",
      "[93]\tvalidation_0-auc:0.998368\tvalidation_1-auc:0.865997\n",
      "[94]\tvalidation_0-auc:0.998499\tvalidation_1-auc:0.866163\n",
      "[95]\tvalidation_0-auc:0.998499\tvalidation_1-auc:0.866263\n",
      "[96]\tvalidation_0-auc:0.99857\tvalidation_1-auc:0.867128\n",
      "[97]\tvalidation_0-auc:0.998624\tvalidation_1-auc:0.866862\n",
      "[98]\tvalidation_0-auc:0.998711\tvalidation_1-auc:0.868193\n",
      "[99]\tvalidation_0-auc:0.998834\tvalidation_1-auc:0.868792\n",
      "[100]\tvalidation_0-auc:0.998859\tvalidation_1-auc:0.869525\n",
      "[101]\tvalidation_0-auc:0.998895\tvalidation_1-auc:0.869824\n",
      "[102]\tvalidation_0-auc:0.998978\tvalidation_1-auc:0.871455\n",
      "[103]\tvalidation_0-auc:0.999053\tvalidation_1-auc:0.871056\n",
      "[104]\tvalidation_0-auc:0.99908\tvalidation_1-auc:0.871156\n",
      "[105]\tvalidation_0-auc:0.999092\tvalidation_1-auc:0.87262\n",
      "[106]\tvalidation_0-auc:0.999094\tvalidation_1-auc:0.872254\n",
      "[107]\tvalidation_0-auc:0.999103\tvalidation_1-auc:0.871821\n",
      "[108]\tvalidation_0-auc:0.99914\tvalidation_1-auc:0.873552\n",
      "[109]\tvalidation_0-auc:0.99914\tvalidation_1-auc:0.873552\n",
      "[110]\tvalidation_0-auc:0.999182\tvalidation_1-auc:0.873552\n",
      "[111]\tvalidation_0-auc:0.999203\tvalidation_1-auc:0.874151\n",
      "[112]\tvalidation_0-auc:0.999242\tvalidation_1-auc:0.873852\n",
      "[113]\tvalidation_0-auc:0.999342\tvalidation_1-auc:0.875017\n",
      "[114]\tvalidation_0-auc:0.999357\tvalidation_1-auc:0.874651\n",
      "[115]\tvalidation_0-auc:0.999457\tvalidation_1-auc:0.873818\n",
      "[116]\tvalidation_0-auc:0.999471\tvalidation_1-auc:0.873486\n",
      "[117]\tvalidation_0-auc:0.999486\tvalidation_1-auc:0.873885\n",
      "[118]\tvalidation_0-auc:0.999527\tvalidation_1-auc:0.874185\n",
      "[119]\tvalidation_0-auc:0.999536\tvalidation_1-auc:0.873885\n",
      "[120]\tvalidation_0-auc:0.999544\tvalidation_1-auc:0.873885\n",
      "[121]\tvalidation_0-auc:0.999557\tvalidation_1-auc:0.87475\n",
      "[122]\tvalidation_0-auc:0.999561\tvalidation_1-auc:0.875017\n",
      "[123]\tvalidation_0-auc:0.999584\tvalidation_1-auc:0.875216\n",
      "[124]\tvalidation_0-auc:0.999619\tvalidation_1-auc:0.876182\n",
      "[125]\tvalidation_0-auc:0.999632\tvalidation_1-auc:0.877047\n",
      "[126]\tvalidation_0-auc:0.999638\tvalidation_1-auc:0.878012\n",
      "[127]\tvalidation_0-auc:0.999636\tvalidation_1-auc:0.878645\n",
      "[128]\tvalidation_0-auc:0.999663\tvalidation_1-auc:0.878445\n",
      "[129]\tvalidation_0-auc:0.999661\tvalidation_1-auc:0.878545\n",
      "[130]\tvalidation_0-auc:0.999717\tvalidation_1-auc:0.878844\n",
      "[131]\tvalidation_0-auc:0.999742\tvalidation_1-auc:0.879344\n",
      "[132]\tvalidation_0-auc:0.999758\tvalidation_1-auc:0.879077\n",
      "[133]\tvalidation_0-auc:0.999765\tvalidation_1-auc:0.880142\n",
      "[134]\tvalidation_0-auc:0.999781\tvalidation_1-auc:0.880009\n",
      "[135]\tvalidation_0-auc:0.999786\tvalidation_1-auc:0.880309\n",
      "[136]\tvalidation_0-auc:0.99979\tvalidation_1-auc:0.880509\n",
      "[137]\tvalidation_0-auc:0.999792\tvalidation_1-auc:0.880642\n",
      "[138]\tvalidation_0-auc:0.999794\tvalidation_1-auc:0.880409\n",
      "[139]\tvalidation_0-auc:0.9998\tvalidation_1-auc:0.881407\n",
      "[140]\tvalidation_0-auc:0.999808\tvalidation_1-auc:0.88174\n",
      "[141]\tvalidation_0-auc:0.999813\tvalidation_1-auc:0.881607\n"
     ]
    },
    {
     "name": "stdout",
     "output_type": "stream",
     "text": [
      "[142]\tvalidation_0-auc:0.999821\tvalidation_1-auc:0.881707\n",
      "[143]\tvalidation_0-auc:0.999833\tvalidation_1-auc:0.882239\n",
      "[144]\tvalidation_0-auc:0.999831\tvalidation_1-auc:0.882173\n",
      "[145]\tvalidation_0-auc:0.999831\tvalidation_1-auc:0.882972\n",
      "[146]\tvalidation_0-auc:0.999831\tvalidation_1-auc:0.88427\n",
      "[147]\tvalidation_0-auc:0.999833\tvalidation_1-auc:0.884736\n",
      "[148]\tvalidation_0-auc:0.999842\tvalidation_1-auc:0.885102\n",
      "[149]\tvalidation_0-auc:0.999848\tvalidation_1-auc:0.885834\n",
      "[150]\tvalidation_0-auc:0.999846\tvalidation_1-auc:0.885867\n",
      "[151]\tvalidation_0-auc:0.999846\tvalidation_1-auc:0.885934\n",
      "[152]\tvalidation_0-auc:0.999846\tvalidation_1-auc:0.886134\n",
      "[153]\tvalidation_0-auc:0.99985\tvalidation_1-auc:0.886799\n",
      "[154]\tvalidation_0-auc:0.999846\tvalidation_1-auc:0.887232\n",
      "[155]\tvalidation_0-auc:0.99985\tvalidation_1-auc:0.886999\n",
      "[156]\tvalidation_0-auc:0.999856\tvalidation_1-auc:0.886533\n",
      "[157]\tvalidation_0-auc:0.999854\tvalidation_1-auc:0.887032\n",
      "[158]\tvalidation_0-auc:0.999858\tvalidation_1-auc:0.887332\n",
      "[159]\tvalidation_0-auc:0.999858\tvalidation_1-auc:0.888796\n",
      "[160]\tvalidation_0-auc:0.999867\tvalidation_1-auc:0.889029\n",
      "[161]\tvalidation_0-auc:0.999865\tvalidation_1-auc:0.889063\n",
      "[162]\tvalidation_0-auc:0.999858\tvalidation_1-auc:0.889429\n",
      "[163]\tvalidation_0-auc:0.999858\tvalidation_1-auc:0.889495\n",
      "[164]\tvalidation_0-auc:0.999861\tvalidation_1-auc:0.889396\n",
      "[165]\tvalidation_0-auc:0.999867\tvalidation_1-auc:0.889995\n",
      "[166]\tvalidation_0-auc:0.999863\tvalidation_1-auc:0.89066\n",
      "[167]\tvalidation_0-auc:0.999867\tvalidation_1-auc:0.891126\n",
      "[168]\tvalidation_0-auc:0.999875\tvalidation_1-auc:0.891326\n",
      "[169]\tvalidation_0-auc:0.999875\tvalidation_1-auc:0.891126\n",
      "[170]\tvalidation_0-auc:0.999875\tvalidation_1-auc:0.892524\n",
      "[171]\tvalidation_0-auc:0.999877\tvalidation_1-auc:0.892491\n",
      "[172]\tvalidation_0-auc:0.999883\tvalidation_1-auc:0.893456\n",
      "[173]\tvalidation_0-auc:0.999894\tvalidation_1-auc:0.893556\n",
      "[174]\tvalidation_0-auc:0.999894\tvalidation_1-auc:0.893157\n",
      "[175]\tvalidation_0-auc:0.999894\tvalidation_1-auc:0.893623\n",
      "[176]\tvalidation_0-auc:0.999898\tvalidation_1-auc:0.893356\n",
      "[177]\tvalidation_0-auc:0.999898\tvalidation_1-auc:0.893789\n",
      "[178]\tvalidation_0-auc:0.999902\tvalidation_1-auc:0.894055\n",
      "[179]\tvalidation_0-auc:0.999904\tvalidation_1-auc:0.894588\n",
      "[180]\tvalidation_0-auc:0.999904\tvalidation_1-auc:0.894422\n",
      "[181]\tvalidation_0-auc:0.999906\tvalidation_1-auc:0.894954\n",
      "[182]\tvalidation_0-auc:0.999906\tvalidation_1-auc:0.894754\n",
      "[183]\tvalidation_0-auc:0.999929\tvalidation_1-auc:0.894488\n",
      "[184]\tvalidation_0-auc:0.999935\tvalidation_1-auc:0.894854\n",
      "[185]\tvalidation_0-auc:0.999935\tvalidation_1-auc:0.89522\n",
      "[186]\tvalidation_0-auc:0.999935\tvalidation_1-auc:0.895254\n",
      "[187]\tvalidation_0-auc:0.999946\tvalidation_1-auc:0.897051\n",
      "[188]\tvalidation_0-auc:0.999948\tvalidation_1-auc:0.896951\n",
      "[189]\tvalidation_0-auc:0.999948\tvalidation_1-auc:0.897783\n",
      "[190]\tvalidation_0-auc:0.999944\tvalidation_1-auc:0.898682\n",
      "[191]\tvalidation_0-auc:0.999944\tvalidation_1-auc:0.898549\n",
      "[192]\tvalidation_0-auc:0.999944\tvalidation_1-auc:0.899048\n",
      "[193]\tvalidation_0-auc:0.99995\tvalidation_1-auc:0.898982\n",
      "[194]\tvalidation_0-auc:0.999948\tvalidation_1-auc:0.898815\n",
      "[195]\tvalidation_0-auc:0.999958\tvalidation_1-auc:0.898516\n",
      "[196]\tvalidation_0-auc:0.999967\tvalidation_1-auc:0.898382\n",
      "[197]\tvalidation_0-auc:0.999967\tvalidation_1-auc:0.898948\n",
      "[198]\tvalidation_0-auc:0.999975\tvalidation_1-auc:0.898815\n",
      "[199]\tvalidation_0-auc:0.999975\tvalidation_1-auc:0.898649\n",
      "[200]\tvalidation_0-auc:0.999973\tvalidation_1-auc:0.898715\n",
      "[201]\tvalidation_0-auc:0.999971\tvalidation_1-auc:0.899015\n",
      "[202]\tvalidation_0-auc:0.999975\tvalidation_1-auc:0.899148\n",
      "[203]\tvalidation_0-auc:0.999975\tvalidation_1-auc:0.899381\n",
      "[204]\tvalidation_0-auc:0.999973\tvalidation_1-auc:0.899215\n",
      "[205]\tvalidation_0-auc:0.999973\tvalidation_1-auc:0.899614\n",
      "[206]\tvalidation_0-auc:0.999973\tvalidation_1-auc:0.89988\n",
      "[207]\tvalidation_0-auc:0.999973\tvalidation_1-auc:0.899947\n",
      "[208]\tvalidation_0-auc:0.999973\tvalidation_1-auc:0.900047\n",
      "[209]\tvalidation_0-auc:0.999975\tvalidation_1-auc:0.900013\n",
      "[210]\tvalidation_0-auc:0.999975\tvalidation_1-auc:0.900413\n",
      "[211]\tvalidation_0-auc:0.999973\tvalidation_1-auc:0.900546\n",
      "[212]\tvalidation_0-auc:0.999975\tvalidation_1-auc:0.900379\n",
      "[213]\tvalidation_0-auc:0.999977\tvalidation_1-auc:0.900779\n",
      "[214]\tvalidation_0-auc:0.999977\tvalidation_1-auc:0.900845\n",
      "[215]\tvalidation_0-auc:0.999977\tvalidation_1-auc:0.900845\n",
      "[216]\tvalidation_0-auc:0.999977\tvalidation_1-auc:0.901078\n",
      "[217]\tvalidation_0-auc:0.999979\tvalidation_1-auc:0.901644\n",
      "[218]\tvalidation_0-auc:0.999979\tvalidation_1-auc:0.901711\n",
      "[219]\tvalidation_0-auc:0.999979\tvalidation_1-auc:0.901644\n",
      "[220]\tvalidation_0-auc:0.999979\tvalidation_1-auc:0.901544\n",
      "[221]\tvalidation_0-auc:0.999979\tvalidation_1-auc:0.901578\n",
      "[222]\tvalidation_0-auc:0.999977\tvalidation_1-auc:0.902243\n",
      "[223]\tvalidation_0-auc:0.999981\tvalidation_1-auc:0.90201\n",
      "[224]\tvalidation_0-auc:0.999987\tvalidation_1-auc:0.902843\n",
      "[225]\tvalidation_0-auc:0.99999\tvalidation_1-auc:0.903042\n",
      "[226]\tvalidation_0-auc:0.99999\tvalidation_1-auc:0.903342\n",
      "[227]\tvalidation_0-auc:0.999992\tvalidation_1-auc:0.903275\n",
      "[228]\tvalidation_0-auc:0.99999\tvalidation_1-auc:0.903675\n",
      "[229]\tvalidation_0-auc:0.99999\tvalidation_1-auc:0.903708\n",
      "[230]\tvalidation_0-auc:0.99999\tvalidation_1-auc:0.903774\n",
      "[231]\tvalidation_0-auc:0.99999\tvalidation_1-auc:0.90424\n",
      "[232]\tvalidation_0-auc:0.99999\tvalidation_1-auc:0.904174\n",
      "[233]\tvalidation_0-auc:0.99999\tvalidation_1-auc:0.904141\n",
      "[234]\tvalidation_0-auc:0.999992\tvalidation_1-auc:0.904307\n",
      "[235]\tvalidation_0-auc:0.999992\tvalidation_1-auc:0.904307\n",
      "[236]\tvalidation_0-auc:0.999992\tvalidation_1-auc:0.904407\n",
      "[237]\tvalidation_0-auc:0.999992\tvalidation_1-auc:0.904274\n",
      "[238]\tvalidation_0-auc:0.999992\tvalidation_1-auc:0.904041\n",
      "[239]\tvalidation_0-auc:0.999994\tvalidation_1-auc:0.903641\n",
      "[240]\tvalidation_0-auc:0.999994\tvalidation_1-auc:0.904374\n",
      "[241]\tvalidation_0-auc:0.999994\tvalidation_1-auc:0.903808\n",
      "[242]\tvalidation_0-auc:0.999996\tvalidation_1-auc:0.903908\n",
      "[243]\tvalidation_0-auc:0.999996\tvalidation_1-auc:0.904007\n",
      "[244]\tvalidation_0-auc:0.999996\tvalidation_1-auc:0.903974\n",
      "[245]\tvalidation_0-auc:0.999996\tvalidation_1-auc:0.90464\n",
      "[246]\tvalidation_0-auc:0.999996\tvalidation_1-auc:0.904806\n",
      "[247]\tvalidation_0-auc:0.999996\tvalidation_1-auc:0.90464\n",
      "[248]\tvalidation_0-auc:0.999996\tvalidation_1-auc:0.90474\n",
      "[249]\tvalidation_0-auc:0.999996\tvalidation_1-auc:0.90444\n",
      "[250]\tvalidation_0-auc:0.999996\tvalidation_1-auc:0.904507\n",
      "[251]\tvalidation_0-auc:0.999996\tvalidation_1-auc:0.905206\n",
      "[252]\tvalidation_0-auc:0.999996\tvalidation_1-auc:0.905106\n",
      "[253]\tvalidation_0-auc:0.999996\tvalidation_1-auc:0.905372\n",
      "[254]\tvalidation_0-auc:0.999996\tvalidation_1-auc:0.905372\n",
      "[255]\tvalidation_0-auc:0.999996\tvalidation_1-auc:0.905239\n",
      "[256]\tvalidation_0-auc:0.999996\tvalidation_1-auc:0.905572\n",
      "[257]\tvalidation_0-auc:0.999998\tvalidation_1-auc:0.905705\n",
      "[258]\tvalidation_0-auc:0.999998\tvalidation_1-auc:0.905539\n",
      "[259]\tvalidation_0-auc:0.999998\tvalidation_1-auc:0.905971\n",
      "[260]\tvalidation_0-auc:0.999998\tvalidation_1-auc:0.905871\n",
      "[261]\tvalidation_0-auc:0.999998\tvalidation_1-auc:0.905871\n",
      "[262]\tvalidation_0-auc:0.999998\tvalidation_1-auc:0.905705\n",
      "[263]\tvalidation_0-auc:0.999998\tvalidation_1-auc:0.906204\n",
      "[264]\tvalidation_0-auc:0.999998\tvalidation_1-auc:0.906204\n",
      "[265]\tvalidation_0-auc:0.999998\tvalidation_1-auc:0.906204\n",
      "[266]\tvalidation_0-auc:0.999998\tvalidation_1-auc:0.905738\n",
      "[267]\tvalidation_0-auc:0.999998\tvalidation_1-auc:0.905572\n",
      "[268]\tvalidation_0-auc:0.999998\tvalidation_1-auc:0.906005\n",
      "[269]\tvalidation_0-auc:0.999998\tvalidation_1-auc:0.906604\n",
      "[270]\tvalidation_0-auc:0.999998\tvalidation_1-auc:0.907103\n",
      "[271]\tvalidation_0-auc:0.999998\tvalidation_1-auc:0.907036\n",
      "[272]\tvalidation_0-auc:0.999998\tvalidation_1-auc:0.907169\n",
      "[273]\tvalidation_0-auc:0.999998\tvalidation_1-auc:0.907236\n",
      "[274]\tvalidation_0-auc:0.999998\tvalidation_1-auc:0.907336\n",
      "[275]\tvalidation_0-auc:0.999998\tvalidation_1-auc:0.907203\n",
      "[276]\tvalidation_0-auc:0.999998\tvalidation_1-auc:0.907236\n",
      "[277]\tvalidation_0-auc:0.999998\tvalidation_1-auc:0.90707\n",
      "[278]\tvalidation_0-auc:0.999998\tvalidation_1-auc:0.90707\n",
      "[279]\tvalidation_0-auc:0.999998\tvalidation_1-auc:0.906903\n",
      "[280]\tvalidation_0-auc:0.999998\tvalidation_1-auc:0.906903\n",
      "[281]\tvalidation_0-auc:0.999998\tvalidation_1-auc:0.90687\n",
      "[282]\tvalidation_0-auc:0.999998\tvalidation_1-auc:0.907003\n",
      "[283]\tvalidation_0-auc:0.999998\tvalidation_1-auc:0.907269\n"
     ]
    },
    {
     "name": "stdout",
     "output_type": "stream",
     "text": [
      "[284]\tvalidation_0-auc:0.999998\tvalidation_1-auc:0.907103\n",
      "[285]\tvalidation_0-auc:0.999998\tvalidation_1-auc:0.907236\n",
      "[286]\tvalidation_0-auc:0.999998\tvalidation_1-auc:0.907303\n",
      "[287]\tvalidation_0-auc:0.999998\tvalidation_1-auc:0.907169\n",
      "[288]\tvalidation_0-auc:0.999998\tvalidation_1-auc:0.907169\n",
      "[289]\tvalidation_0-auc:0.999998\tvalidation_1-auc:0.907502\n",
      "[290]\tvalidation_0-auc:0.999998\tvalidation_1-auc:0.907602\n",
      "[291]\tvalidation_0-auc:0.999998\tvalidation_1-auc:0.907169\n",
      "[292]\tvalidation_0-auc:0.999998\tvalidation_1-auc:0.907203\n",
      "[293]\tvalidation_0-auc:0.999998\tvalidation_1-auc:0.90657\n",
      "[294]\tvalidation_0-auc:0.999998\tvalidation_1-auc:0.90687\n",
      "[295]\tvalidation_0-auc:0.999998\tvalidation_1-auc:0.906471\n",
      "[296]\tvalidation_0-auc:0.999998\tvalidation_1-auc:0.906703\n",
      "[297]\tvalidation_0-auc:0.999998\tvalidation_1-auc:0.906936\n",
      "[298]\tvalidation_0-auc:0.999998\tvalidation_1-auc:0.90687\n",
      "[299]\tvalidation_0-auc:0.999998\tvalidation_1-auc:0.907203\n",
      "[300]\tvalidation_0-auc:0.999998\tvalidation_1-auc:0.906936\n",
      "[301]\tvalidation_0-auc:0.999998\tvalidation_1-auc:0.906803\n",
      "[302]\tvalidation_0-auc:0.999998\tvalidation_1-auc:0.907569\n",
      "[303]\tvalidation_0-auc:0.999998\tvalidation_1-auc:0.907369\n",
      "[304]\tvalidation_0-auc:0.999998\tvalidation_1-auc:0.907236\n",
      "[305]\tvalidation_0-auc:0.999998\tvalidation_1-auc:0.907569\n",
      "[306]\tvalidation_0-auc:0.999998\tvalidation_1-auc:0.907802\n",
      "[307]\tvalidation_0-auc:0.999998\tvalidation_1-auc:0.907569\n",
      "[308]\tvalidation_0-auc:0.999998\tvalidation_1-auc:0.908002\n",
      "[309]\tvalidation_0-auc:0.999998\tvalidation_1-auc:0.908101\n",
      "[310]\tvalidation_0-auc:0.999998\tvalidation_1-auc:0.908201\n",
      "[311]\tvalidation_0-auc:0.999998\tvalidation_1-auc:0.908268\n",
      "[312]\tvalidation_0-auc:0.999998\tvalidation_1-auc:0.908401\n",
      "[313]\tvalidation_0-auc:0.999998\tvalidation_1-auc:0.908534\n",
      "[314]\tvalidation_0-auc:0.999998\tvalidation_1-auc:0.908634\n",
      "[315]\tvalidation_0-auc:0.999998\tvalidation_1-auc:0.908734\n",
      "[316]\tvalidation_0-auc:0.999998\tvalidation_1-auc:0.908934\n",
      "[317]\tvalidation_0-auc:0.999998\tvalidation_1-auc:0.909033\n",
      "[318]\tvalidation_0-auc:0.999998\tvalidation_1-auc:0.9089\n",
      "[319]\tvalidation_0-auc:0.999998\tvalidation_1-auc:0.908967\n",
      "[320]\tvalidation_0-auc:0.999998\tvalidation_1-auc:0.908967\n",
      "[321]\tvalidation_0-auc:0.999998\tvalidation_1-auc:0.908934\n",
      "[322]\tvalidation_0-auc:0.999998\tvalidation_1-auc:0.908701\n",
      "[323]\tvalidation_0-auc:0.999998\tvalidation_1-auc:0.908501\n",
      "[324]\tvalidation_0-auc:0.999998\tvalidation_1-auc:0.908867\n",
      "[325]\tvalidation_0-auc:0.999998\tvalidation_1-auc:0.909333\n",
      "[326]\tvalidation_0-auc:0.999998\tvalidation_1-auc:0.909167\n",
      "[327]\tvalidation_0-auc:0.999998\tvalidation_1-auc:0.908767\n",
      "[328]\tvalidation_0-auc:0.999998\tvalidation_1-auc:0.908667\n",
      "[329]\tvalidation_0-auc:0.999998\tvalidation_1-auc:0.908734\n",
      "[330]\tvalidation_0-auc:0.999998\tvalidation_1-auc:0.909366\n",
      "[331]\tvalidation_0-auc:0.999998\tvalidation_1-auc:0.909499\n",
      "[332]\tvalidation_0-auc:0.999998\tvalidation_1-auc:0.909766\n",
      "[333]\tvalidation_0-auc:0.999998\tvalidation_1-auc:0.909766\n",
      "[334]\tvalidation_0-auc:0.999998\tvalidation_1-auc:0.909799\n",
      "[335]\tvalidation_0-auc:0.999998\tvalidation_1-auc:0.909699\n",
      "[336]\tvalidation_0-auc:0.999998\tvalidation_1-auc:0.909965\n",
      "[337]\tvalidation_0-auc:0.999998\tvalidation_1-auc:0.910232\n",
      "[338]\tvalidation_0-auc:0.999998\tvalidation_1-auc:0.909932\n",
      "[339]\tvalidation_0-auc:0.999998\tvalidation_1-auc:0.910232\n",
      "[340]\tvalidation_0-auc:0.999998\tvalidation_1-auc:0.910032\n",
      "[341]\tvalidation_0-auc:0.999998\tvalidation_1-auc:0.909932\n",
      "[342]\tvalidation_0-auc:0.999998\tvalidation_1-auc:0.909965\n",
      "[343]\tvalidation_0-auc:0.999998\tvalidation_1-auc:0.909732\n",
      "[344]\tvalidation_0-auc:0.999998\tvalidation_1-auc:0.909366\n",
      "[345]\tvalidation_0-auc:0.999998\tvalidation_1-auc:0.909433\n",
      "[346]\tvalidation_0-auc:0.999998\tvalidation_1-auc:0.909666\n",
      "[347]\tvalidation_0-auc:0.999998\tvalidation_1-auc:0.909533\n",
      "[348]\tvalidation_0-auc:0.999998\tvalidation_1-auc:0.909732\n",
      "[349]\tvalidation_0-auc:0.999998\tvalidation_1-auc:0.909499\n",
      "[350]\tvalidation_0-auc:0.999998\tvalidation_1-auc:0.909599\n",
      "[351]\tvalidation_0-auc:0.999998\tvalidation_1-auc:0.909599\n",
      "[352]\tvalidation_0-auc:1\tvalidation_1-auc:0.909533\n",
      "[353]\tvalidation_0-auc:0.999998\tvalidation_1-auc:0.9093\n",
      "[354]\tvalidation_0-auc:0.999998\tvalidation_1-auc:0.909167\n",
      "[355]\tvalidation_0-auc:0.999998\tvalidation_1-auc:0.909366\n",
      "[356]\tvalidation_0-auc:0.999998\tvalidation_1-auc:0.909167\n",
      "[357]\tvalidation_0-auc:0.999998\tvalidation_1-auc:0.909366\n",
      "[358]\tvalidation_0-auc:0.999998\tvalidation_1-auc:0.909333\n",
      "[359]\tvalidation_0-auc:0.999998\tvalidation_1-auc:0.909433\n",
      "[360]\tvalidation_0-auc:1\tvalidation_1-auc:0.9092\n",
      "[361]\tvalidation_0-auc:1\tvalidation_1-auc:0.909266\n",
      "[362]\tvalidation_0-auc:1\tvalidation_1-auc:0.908667\n",
      "Stopping. Best iteration:\n",
      "[337]\tvalidation_0-auc:0.999998\tvalidation_1-auc:0.910232\n",
      "\n"
     ]
    },
    {
     "data": {
      "text/plain": [
       "XGBClassifier(base_score=0.5, booster='gbtree', colsample_bylevel=1,\n",
       "              colsample_bynode=1, colsample_bytree=1, gamma=0,\n",
       "              learning_rate=0.1, max_delta_step=0, max_depth=7,\n",
       "              min_child_weight=1, missing=None, n_estimators=1000, n_jobs=-1,\n",
       "              nthread=None, num_class=1, objective='binary:logistic',\n",
       "              random_state=42, reg_alpha=0, reg_lambda=1, scale_pos_weight=1,\n",
       "              seed=None, silent=None, subsample=1, verbosity=1)"
      ]
     },
     "execution_count": 37,
     "metadata": {},
     "output_type": "execute_result"
    }
   ],
   "source": [
    "encoder = ce.OrdinalEncoder()\n",
    "X_train_encoded = encoder.fit_transform(X_train)\n",
    "X_val_encoded = encoder.transform(X_val)\n",
    "\n",
    "model = XGBClassifier(n_estimators=1000,    # <= 1000 trees, early stopping depency\n",
    "                      max_depth=7,          # try deeper trees with high cardinality data\n",
    "                      learning_rate=0.1,    # try higher learning rate\n",
    "                      random_state=42,\n",
    "                      num_class=1,\n",
    "                      n_jobs=-1)\n",
    "\n",
    "eval_set = [(X_train_encoded, y_train),\n",
    "            (X_val_encoded, y_val)]\n",
    "\n",
    "# Fit on train, score on val\n",
    "model.fit(X_train_encoded, y_train,\n",
    "          eval_metric='auc',\n",
    "          eval_set=eval_set, \n",
    "          early_stopping_rounds=25)"
   ]
  },
  {
   "cell_type": "code",
   "execution_count": 38,
   "metadata": {},
   "outputs": [
    {
     "data": {
      "image/png": "[encoded data removed]",
      "text/plain": [
       "<Figure size 720x504 with 1 Axes>"
      ]
     },
     "metadata": {
      "needs_background": "light"
     },
     "output_type": "display_data"
    }
   ],
   "source": [
    "from sklearn.metrics import mean_absolute_error as mae\n",
    "results = model.evals_result()\n",
    "train_error = results['validation_0']['auc']\n",
    "val_error = results['validation_1']['auc']\n",
    "\n",
    "iterations = range(1, len(train_error) + 1)\n",
    "\n",
    "plt.figure(figsize=(10,7))\n",
    "plt.plot(iterations, train_error, label='Train')\n",
    "plt.plot(iterations, val_error, label='Validation')\n",
    "plt.title('XGBoost Validation Curve')\n",
    "plt.ylabel('Classification Error')\n",
    "plt.xlabel('Model Complexity (n_estimators)')\n",
    "plt.legend();"
   ]
  }
 ],
 "metadata": {
  "colab": {
   "collapsed_sections": [],
   "name": "assignment_applied_modeling_2.ipynb",
   "provenance": [],
   "version": "0.3.2"
  },
  "kernelspec": {
   "display_name": "Python 3",
   "language": "python",
   "name": "python3"
  },
  "language_info": {
   "codemirror_mode": {
    "name": "ipython",
    "version": 3
   },
   "file_extension": ".py",
   "mimetype": "text/x-python",
   "name": "python",
   "nbconvert_exporter": "python",
   "pygments_lexer": "ipython3",
   "version": "3.6.9"
  }
 },
 "nbformat": 4,
 "nbformat_minor": 1
}
