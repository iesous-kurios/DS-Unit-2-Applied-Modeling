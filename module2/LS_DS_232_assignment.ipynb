{
 "cells": [
  {
   "cell_type": "markdown",
   "metadata": {
    "colab_type": "text",
    "id": "nCc3XZEyG3XV"
   },
   "source": [
    "Lambda School Data Science\n",
    "\n",
    "*Unit 2, Sprint 3, Module 2*\n",
    "\n",
    "---\n",
    "\n",
    "\n",
    "# Permutation & Boosting\n",
    "\n",
    "You will use your portfolio project dataset for all assignments this sprint.\n",
    "\n",
    "## Assignment\n",
    "\n",
    "Complete these tasks for your project, and document your work.\n",
    "\n",
    "- [ ] If you haven't completed assignment #1, please do so first.\n",
    "- [ ] Continue to clean and explore your data. Make exploratory visualizations.\n",
    "- [ ] Fit a model. Does it beat your baseline? \n",
    "- [ ] Try xgboost.\n",
    "- [ ] Get your model's permutation importances.\n",
    "\n",
    "You should try to complete an initial model today, because the rest of the week, we're making model interpretation visualizations.\n",
    "\n",
    "But, if you aren't ready to try xgboost and permutation importances with your dataset today, that's okay. You can practice with another dataset instead. You may choose any dataset you've worked with previously.\n",
    "\n",
    "The data subdirectory includes the Titanic dataset for classification and the NYC apartments dataset for regression. You may want to choose one of these datasets, because example solutions will be available for each.\n",
    "\n",
    "\n",
    "## Reading\n",
    "\n",
    "Top recommendations in _**bold italic:**_\n",
    "\n",
    "#### Permutation Importances\n",
    "- _**[Kaggle / Dan Becker: Machine Learning Explainability](https://www.kaggle.com/dansbecker/permutation-importance)**_\n",
    "- [Christoph Molnar: Interpretable Machine Learning](https://christophm.github.io/interpretable-ml-book/feature-importance.html)\n",
    "\n",
    "#### (Default) Feature Importances\n",
    "  - [Ando Saabas: Selecting good features, Part 3, Random Forests](https://blog.datadive.net/selecting-good-features-part-iii-random-forests/)\n",
    "  - [Terence Parr, et al: Beware Default Random Forest Importances](https://explained.ai/rf-importance/index.html)\n",
    "\n",
    "#### Gradient Boosting\n",
    "  - [A Gentle Introduction to the Gradient Boosting Algorithm for Machine Learning](https://machinelearningmastery.com/gentle-introduction-gradient-boosting-algorithm-machine-learning/)\n",
    "  - _**[A Kaggle Master Explains Gradient Boosting](http://blog.kaggle.com/2017/01/23/a-kaggle-master-explains-gradient-boosting/)**_\n",
    "  - [_An Introduction to Statistical Learning_](http://www-bcf.usc.edu/~gareth/ISL/ISLR%20Seventh%20Printing.pdf) Chapter 8\n",
    "  - [Gradient Boosting Explained](http://arogozhnikov.github.io/2016/06/24/gradient_boosting_explained.html)\n",
    "  - _**[Boosting](https://www.youtube.com/watch?v=GM3CDQfQ4sw) (2.5 minute video)**_"
   ]
  },
  {
   "cell_type": "code",
   "execution_count": 1,
   "metadata": {
    "colab": {},
    "colab_type": "code",
    "id": "D4gBYeKdrOoQ"
   },
   "outputs": [],
   "source": [
    "# all imports needed for this sheet\n",
    "\n",
    "import numpy as np\n",
    "import pandas as pd\n",
    "from sklearn.model_selection import train_test_split\n",
    "import category_encoders as ce\n",
    "from sklearn.ensemble import RandomForestClassifier\n",
    "from sklearn.impute import SimpleImputer\n",
    "from sklearn.pipeline import make_pipeline\n",
    "from sklearn.feature_selection import f_regression, SelectKBest\n",
    "from sklearn.linear_model import Ridge\n",
    "from sklearn.model_selection import cross_val_score\n",
    "from sklearn.preprocessing import StandardScaler\n",
    "import matplotlib.pyplot as plt\n",
    "from sklearn.model_selection import validation_curve\n",
    "from sklearn.tree import DecisionTreeRegressor\n",
    "import xgboost as xgb\n",
    "\n",
    "%matplotlib inline\n",
    "import seaborn as sns\n",
    "from sklearn.metrics import accuracy_score\n",
    "\n",
    "from sklearn.model_selection import GridSearchCV, RandomizedSearchCV\n"
   ]
  },
  {
   "cell_type": "code",
   "execution_count": 12,
   "metadata": {
    "colab": {
     "base_uri": "https://localhost:8080/",
     "height": 204
    },
    "colab_type": "code",
    "id": "31p25VmHrhHX",
    "outputId": "ab53eac9-2f1c-48b1-c976-c74bdd023c94"
   },
   "outputs": [
    {
     "name": "stdout",
     "output_type": "stream",
     "text": [
      "Requirement already satisfied: category_encoders in /usr/local/lib/python3.6/dist-packages (2.1.0)\n",
      "Requirement already satisfied: statsmodels>=0.6.1 in /usr/local/lib/python3.6/dist-packages (from category_encoders) (0.10.2)\n",
      "Requirement already satisfied: scipy>=0.19.0 in /usr/local/lib/python3.6/dist-packages (from category_encoders) (1.3.3)\n",
      "Requirement already satisfied: pandas>=0.21.1 in /usr/local/lib/python3.6/dist-packages (from category_encoders) (0.25.3)\n",
      "Requirement already satisfied: scikit-learn>=0.20.0 in /usr/local/lib/python3.6/dist-packages (from category_encoders) (0.21.3)\n",
      "Requirement already satisfied: numpy>=1.11.3 in /usr/local/lib/python3.6/dist-packages (from category_encoders) (1.17.4)\n",
      "Requirement already satisfied: patsy>=0.4.1 in /usr/local/lib/python3.6/dist-packages (from category_encoders) (0.5.1)\n",
      "Requirement already satisfied: pytz>=2017.2 in /usr/local/lib/python3.6/dist-packages (from pandas>=0.21.1->category_encoders) (2018.9)\n",
      "Requirement already satisfied: python-dateutil>=2.6.1 in /usr/local/lib/python3.6/dist-packages (from pandas>=0.21.1->category_encoders) (2.6.1)\n",
      "Requirement already satisfied: joblib>=0.11 in /usr/local/lib/python3.6/dist-packages (from scikit-learn>=0.20.0->category_encoders) (0.14.1)\n",
      "Requirement already satisfied: six in /usr/local/lib/python3.6/dist-packages (from patsy>=0.4.1->category_encoders) (1.12.0)\n"
     ]
    }
   ],
   "source": [
    "pip install category_encoders"
   ]
  },
  {
   "cell_type": "code",
   "execution_count": 62,
   "metadata": {
    "colab": {},
    "colab_type": "code",
    "id": "TGjMfKKarOoV"
   },
   "outputs": [],
   "source": [
    "%%capture\n",
    "import sys\n",
    "\n",
    "# If you're on Colab:\n",
    "if 'google.colab' in sys.modules:\n",
    "    DATA_PATH = 'https://raw.githubusercontent.com/LambdaSchool/DS-Unit-2-Applied-Modeling/master/data/'\n",
    "    !pip install category_encoders==2.*\n",
    "    !pip install eli5\n",
    "\n",
    "# If you're working locally:\n",
    "else:\n",
    "    DATA_PATH = '../data/'\n"
   ]
  },
  {
   "cell_type": "code",
   "execution_count": 63,
   "metadata": {
    "colab": {},
    "colab_type": "code",
    "id": "lgdfYI2urOoY"
   },
   "outputs": [],
   "source": [
    "df = pd.read_excel(DATA_PATH+'/Unit_2_project_data.xlsx')"
   ]
  },
  {
   "cell_type": "code",
   "execution_count": 64,
   "metadata": {
    "colab": {},
    "colab_type": "code",
    "id": "WutOrpRUrOob"
   },
   "outputs": [],
   "source": [
    "exit_reasons = ['Rental by client with RRH or equivalent subsidy', \n",
    "                'Rental by client, no ongoing housing subsidy', \n",
    "                'Staying or living with family, permanent tenure', \n",
    "                'Rental by client, other ongoing housing subsidy',\n",
    "                'Permanent housing (other than RRH) for formerly homeless persons', \n",
    "                'Staying or living with friends, permanent tenure', \n",
    "                'Owned by client, with ongoing housing subsidy', \n",
    "                'Rental by client, VASH housing Subsidy'\n",
    "               ]"
   ]
  },
  {
   "cell_type": "code",
   "execution_count": 65,
   "metadata": {
    "colab": {},
    "colab_type": "code",
    "id": "d98MpMV6rOoe"
   },
   "outputs": [],
   "source": [
    "# pull all exit destinations from main data file and sum up the totals of each destination, \n",
    "# placing them into new df for calculations\n",
    "exits = df['3.12 Exit Destination'].value_counts()"
   ]
  },
  {
   "cell_type": "code",
   "execution_count": 66,
   "metadata": {
    "colab": {},
    "colab_type": "code",
    "id": "HkxH4Ze_rOoi"
   },
   "outputs": [],
   "source": [
    " # create target column (multiple types of exits to perm)\n",
    "df['perm_leaver'] = df['3.12 Exit Destination'].isin(exit_reasons)"
   ]
  },
  {
   "cell_type": "code",
   "execution_count": 67,
   "metadata": {
    "colab": {
     "base_uri": "https://localhost:8080/",
     "height": 68
    },
    "colab_type": "code",
    "id": "Wb_f00nsrOol",
    "outputId": "e5fe07bd-bc94-4e8e-c645-4a2ee9ecd648"
   },
   "outputs": [
    {
     "data": {
      "text/plain": [
       "False    0.713086\n",
       "True     0.286914\n",
       "Name: perm_leaver, dtype: float64"
      ]
     },
     "execution_count": 67,
     "metadata": {},
     "output_type": "execute_result"
    }
   ],
   "source": [
    "# base case\n",
    "df['perm_leaver'].value_counts(normalize=True)"
   ]
  },
  {
   "cell_type": "code",
   "execution_count": 68,
   "metadata": {
    "colab": {},
    "colab_type": "code",
    "id": "pUF4cwOkrOoq"
   },
   "outputs": [],
   "source": [
    "# replace spaces with underscore\n",
    "df.columns = df.columns.str.replace(' ', '_')"
   ]
  },
  {
   "cell_type": "code",
   "execution_count": 10,
   "metadata": {
    "colab": {
     "base_uri": "https://localhost:8080/",
     "height": 34
    },
    "colab_type": "code",
    "id": "VbsMfGzhrOot",
    "outputId": "0e037731-f716-402a-aa88-3e10c1898522"
   },
   "outputs": [
    {
     "data": {
      "text/plain": [
       "(2025, 119)"
      ]
     },
     "execution_count": 10,
     "metadata": {},
     "output_type": "execute_result"
    }
   ],
   "source": [
    "# see size of df prior to dropping empties\n",
    "df.shape"
   ]
  },
  {
   "cell_type": "code",
   "execution_count": 11,
   "metadata": {
    "colab": {},
    "colab_type": "code",
    "id": "Dzm5tQ7vrOow"
   },
   "outputs": [],
   "source": [
    "# drop rows with no exit destination (current guests at time of report)\n",
    "df = df.dropna(subset=['3.12_Exit_Destination'])"
   ]
  },
  {
   "cell_type": "code",
   "execution_count": 12,
   "metadata": {
    "colab": {
     "base_uri": "https://localhost:8080/",
     "height": 34
    },
    "colab_type": "code",
    "id": "Q14cOmvvrOoz",
    "outputId": "2a335e87-59ef-46ce-a3f4-b6f94e488d19"
   },
   "outputs": [
    {
     "data": {
      "text/plain": [
       "(1873, 119)"
      ]
     },
     "execution_count": 12,
     "metadata": {},
     "output_type": "execute_result"
    }
   ],
   "source": [
    "# shape of df after dropping current guests\n",
    "df.shape"
   ]
  },
  {
   "cell_type": "code",
   "execution_count": 13,
   "metadata": {
    "colab": {
     "base_uri": "https://localhost:8080/",
     "height": 51
    },
    "colab_type": "code",
    "id": "WBNYOJV_rOo1",
    "outputId": "b54353f2-34cb-4ae9-db6f-730906af865e"
   },
   "outputs": [
    {
     "data": {
      "text/plain": [
       "False    1873\n",
       "Name: 3.12_Exit_Destination, dtype: int64"
      ]
     },
     "execution_count": 13,
     "metadata": {},
     "output_type": "execute_result"
    }
   ],
   "source": [
    "# verify no NaN in exit destination feature\n",
    "df['3.12_Exit_Destination'].isna().value_counts()"
   ]
  },
  {
   "cell_type": "code",
   "execution_count": 69,
   "metadata": {
    "colab": {},
    "colab_type": "code",
    "id": "28mp3BFNrOo8"
   },
   "outputs": [],
   "source": [
    "import numpy as np\n",
    "import pandas as pd\n",
    "from sklearn.model_selection import train_test_split\n",
    "\n",
    "train = df\n",
    "\n",
    "# Split train into train & val\n",
    "train, val = train_test_split(train, train_size=0.80, test_size=0.20, \n",
    "                              stratify=train['perm_leaver'], random_state=42)\n",
    "\n",
    "def wrangle(X):\n",
    "    \"\"\"Wrangle train, validate, and test sets in the same way\"\"\"\n",
    "    \n",
    "    # Prevent SettingWithCopyWarning\n",
    "    X = X.copy()\n",
    "    \n",
    "    # drop any private information\n",
    "    X = X.drop(columns=['3.1_FirstName', '3.1_LastName', '3.2_SocSecNo', \n",
    "                      '3.3_Birthdate', 'V5_Prior_Address'])\n",
    "    \n",
    "    # drop unusable columns\n",
    "    X = X.drop(columns=['2.1_Organization_Name', '2.4_ProjectType',\n",
    "                        'WorkSource_Referral_Most_Recent', 'YAHP_Referral_Most_Recent',\n",
    "                        'SOAR_Enrollment_Determination_(Most_Recent)',\n",
    "                        'R7_General_Health_Status', 'R8_Dental_Health_Status',\n",
    "                        'R9_Mental_Health_Status', 'RRH_Date_Of_Move-In',\n",
    "                        'RRH_In_Permanent_Housing', 'R10_Pregnancy_Due_Date',\n",
    "                        'R10_Pregnancy_Status', 'R1_Referral_Source',\n",
    "                        'R2_Date_Status_Determined', 'R2_Enroll_Status',\n",
    "                        'R2_Reason_Why_No_Services_Funded', 'R2_Runaway_Youth',\n",
    "                        'R3_Sexual_Orientation', '2.5_Utilization_Tracking_Method_(Invalid)',\n",
    "                        '2.2_Project_Name', '2.6_Federal_Grant_Programs', '3.16_Client_Location',\n",
    "                        '3.917_Stayed_Less_Than_90_Days', \n",
    "                        '3.917b_Stayed_in_Streets,_ES_or_SH_Night_Before', \n",
    "                        '3.917b_Stayed_Less_Than_7_Nights', '4.24_In_School_(Retired_Data_Element)',\n",
    "                        'CaseChildren', 'ClientID', 'HEN-HP_Referral_Most_Recent',\n",
    "                        'HEN-RRH_Referral_Most_Recent', 'Emergency_Shelter_|_Most_Recent_Enrollment',\n",
    "                        'ProgramType', 'Days_Enrolled_Until_RRH_Date_of_Move-in',\n",
    "                        'CurrentDate', 'Current_Age', 'Count_of_Bed_Nights_-_Entire_Episode',\n",
    "                        'Bed_Nights_During_Report_Period'])\n",
    "        \n",
    "    # drop rows with no exit destination (current guests at time of report)\n",
    "    X = X.dropna(subset=['3.12_Exit_Destination'])\n",
    "    \n",
    "    # remove columns to avoid data leakage\n",
    "    X = X.drop(columns=['3.12_Exit_Destination', '5.9_Household_ID', '5.8_Personal_ID',\n",
    "                       '4.2_Income_Total_at_Exit', '4.3_Non-Cash_Benefit_Count_at_Exit'])\n",
    "    \n",
    "    # Drop needless feature\n",
    "    unusable_variance = ['Enrollment_Created_By', '4.24_Current_Status_(Retired_Data_Element)']\n",
    "    X = X.drop(columns=unusable_variance)\n",
    "\n",
    "    # Drop columns with timestamp\n",
    "    timestamp_columns = ['3.10_Enroll_Date', '3.11_Exit_Date', \n",
    "                         'Date_of_Last_ES_Stay_(Beta)', 'Date_of_First_ES_Stay_(Beta)', \n",
    "                         'Prevention_|_Most_Recent_Enrollment', 'PSH_|_Most_Recent_Enrollment', \n",
    "                         'Transitional_Housing_|_Most_Recent_Enrollment', 'Coordinated_Entry_|_Most_Recent_Enrollment', \n",
    "                         'Street_Outreach_|_Most_Recent_Enrollment', 'RRH_|_Most_Recent_Enrollment', \n",
    "                         'SOAR_Eligibility_Determination_(Most_Recent)', 'Date_of_First_Contact_(Beta)',\n",
    "                         'Date_of_Last_Contact_(Beta)', '4.13_Engagement_Date', '4.11_Domestic_Violence_-_When_it_Occurred',\n",
    "                         '3.917_Homeless_Start_Date']\n",
    "    X = X.drop(columns=timestamp_columns)\n",
    "    \n",
    "    # return the wrangled dataframe\n",
    "    return X\n",
    "\n"
   ]
  },
  {
   "cell_type": "code",
   "execution_count": 70,
   "metadata": {
    "colab": {},
    "colab_type": "code",
    "id": "jFV7OVRcrOo_"
   },
   "outputs": [],
   "source": [
    "train = wrangle(train)\n",
    "val = wrangle(val)"
   ]
  },
  {
   "cell_type": "code",
   "execution_count": 48,
   "metadata": {
    "colab": {
     "base_uri": "https://localhost:8080/",
     "height": 748
    },
    "colab_type": "code",
    "id": "NxObPsQwrOpC",
    "outputId": "76713aa4-753e-4a38-bc3e-d1dc9da4c7b5"
   },
   "outputs": [
    {
     "data": {
      "text/plain": [
       "Index(['3.15_Relationship_to_HoH', 'CaseMembers',\n",
       "       '3.2_Social_Security_Quality', '3.3_Birthdate_Quality',\n",
       "       'Age_at_Enrollment', '3.4_Race', '3.5_Ethnicity', '3.6_Gender',\n",
       "       '3.7_Veteran_Status', '3.8_Disabling_Condition_at_Entry',\n",
       "       '3.917_Living_Situation', '3.917_Length_of_Stay',\n",
       "       'Length_of_Time_Homeless_(3.917_Approximate_Start)',\n",
       "       '3.917_Times_Homeless_Last_3_Years',\n",
       "       '3.917_Total_Months_Homeless_Last_3_Years', 'V5_Last_Permanent_Address',\n",
       "       'V5_State', 'V5_Zip', 'Municipality_(City_or_County)',\n",
       "       'Days_Enrolled_in_Project', '4.1_Housing_Status',\n",
       "       '4.4_Covered_by_Health_Insurance', '4.11_Domestic_Violence',\n",
       "       '4.11_Domestic_Violence_-_Currently_Fleeing_DV?',\n",
       "       'Days_Enrolled_Until_Engagement_Date',\n",
       "       '4.24_Connected_to_McKinney_Vento_Liason_(Retired)', 'Household_Type',\n",
       "       'Latitude', 'Longitude', 'R4_Last_Grade_Completed', 'R5_School_Status',\n",
       "       'R6_Employed_Status', 'R6_Why_Not_Employed', 'R6_Type_of_Employment',\n",
       "       'R6_Looking_for_Work', 'Client_Record_Restricted', 'InfoReleaseNo',\n",
       "       'Information_Release_Status', '4.12_Contact_Services',\n",
       "       'Count_of_Bed_Nights_(Housing_Check-ins)', '4.2_Income_Total_at_Entry',\n",
       "       '4.3_Non-Cash_Benefit_Count', 'Barrier_Count_at_Entry',\n",
       "       'Chronic_Homeless_Status', 'Under_25_Years_Old',\n",
       "       '4.10_Alcohol_Abuse_(Substance_Abuse)', '4.07_Chronic_Health_Condition',\n",
       "       '4.06_Developmental_Disability', '4.10_Drug_Abuse_(Substance_Abuse)',\n",
       "       '4.08_HIV/AIDS', '4.09_Mental_Health_Problem',\n",
       "       '4.05_Physical_Disability', 'CaseAdults', 'perm_leaver'],\n",
       "      dtype='object')"
      ]
     },
     "execution_count": 48,
     "metadata": {},
     "output_type": "execute_result"
    }
   ],
   "source": [
    "train.columns"
   ]
  },
  {
   "cell_type": "code",
   "execution_count": 71,
   "metadata": {
    "colab": {},
    "colab_type": "code",
    "id": "V4pNG9uVraJ1"
   },
   "outputs": [],
   "source": [
    "# Assign to X, y to avoid data leakage\n",
    "features = ['3.15_Relationship_to_HoH', 'CaseMembers',\n",
    "       '3.2_Social_Security_Quality', '3.3_Birthdate_Quality',\n",
    "       'Age_at_Enrollment', '3.4_Race', '3.5_Ethnicity', '3.6_Gender',\n",
    "       '3.7_Veteran_Status', '3.8_Disabling_Condition_at_Entry',\n",
    "       '3.917_Living_Situation', 'Length_of_Time_Homeless_(3.917_Approximate_Start)',\n",
    "       '3.917_Times_Homeless_Last_3_Years', '3.917_Total_Months_Homeless_Last_3_Years', \n",
    "       'V5_Last_Permanent_Address', 'V5_State', 'V5_Zip', 'Municipality_(City_or_County)',\n",
    "       '4.1_Housing_Status', '4.4_Covered_by_Health_Insurance', '4.11_Domestic_Violence',\n",
    "       '4.11_Domestic_Violence_-_Currently_Fleeing_DV?', 'Household_Type', \n",
    "       'R4_Last_Grade_Completed', 'R5_School_Status',\n",
    "       'R6_Employed_Status', 'R6_Why_Not_Employed', 'R6_Type_of_Employment',\n",
    "       'R6_Looking_for_Work', '4.2_Income_Total_at_Entry',\n",
    "       '4.3_Non-Cash_Benefit_Count', 'Barrier_Count_at_Entry',\n",
    "       'Chronic_Homeless_Status', 'Under_25_Years_Old',\n",
    "       '4.10_Alcohol_Abuse_(Substance_Abuse)', '4.07_Chronic_Health_Condition',\n",
    "       '4.06_Developmental_Disability', '4.10_Drug_Abuse_(Substance_Abuse)',\n",
    "       '4.08_HIV/AIDS', '4.09_Mental_Health_Problem',\n",
    "       '4.05_Physical_Disability'\n",
    "          ]\n",
    "target = 'perm_leaver'\n",
    "X_train = train[features]\n",
    "y_train = train[target]\n",
    "X_val = val[features]\n",
    "y_val = val[target]"
   ]
  },
  {
   "cell_type": "code",
   "execution_count": null,
   "metadata": {},
   "outputs": [],
   "source": []
  },
  {
   "cell_type": "code",
   "execution_count": 53,
   "metadata": {
    "colab": {},
    "colab_type": "code",
    "id": "J05UF1cmrOpG"
   },
   "outputs": [],
   "source": [
    "# Arrange data into X features matrix and y target vector\n",
    "target = 'perm_leaver'\n",
    "X_train = train.drop(columns=target)\n",
    "y_train = train[target]\n",
    "X_val = val.drop(columns=target)\n",
    "y_val = val[target]\n"
   ]
  },
  {
   "cell_type": "code",
   "execution_count": 54,
   "metadata": {},
   "outputs": [
    {
     "name": "stdout",
     "output_type": "stream",
     "text": [
      "Fitting 5 folds for each of 20 candidates, totalling 100 fits\n"
     ]
    },
    {
     "name": "stderr",
     "output_type": "stream",
     "text": [
      "[Parallel(n_jobs=-1)]: Using backend LokyBackend with 8 concurrent workers.\n",
      "[Parallel(n_jobs=-1)]: Batch computation too fast (0.0351s.) Setting batch_size=2.\n",
      "[Parallel(n_jobs=-1)]: Done   2 tasks      | elapsed:    0.1s\n",
      "[Parallel(n_jobs=-1)]: Done   9 tasks      | elapsed:    0.2s\n",
      "[Parallel(n_jobs=-1)]: Done  16 tasks      | elapsed:    0.3s\n",
      "[Parallel(n_jobs=-1)]: Done  34 tasks      | elapsed:    0.4s\n",
      "[Parallel(n_jobs=-1)]: Done  52 tasks      | elapsed:    0.5s\n",
      "[Parallel(n_jobs=-1)]: Done  74 tasks      | elapsed:    0.7s\n",
      "[Parallel(n_jobs=-1)]: Done  96 out of 100 | elapsed:    0.9s remaining:    0.0s\n",
      "[Parallel(n_jobs=-1)]: Done 100 out of 100 | elapsed:    0.9s finished\n"
     ]
    },
    {
     "ename": "ValueError",
     "evalue": "could not convert string to float: 'Full SSN'",
     "output_type": "error",
     "traceback": [
      "\u001b[0;31m---------------------------------------------------------------------------\u001b[0m",
      "\u001b[0;31mValueError\u001b[0m                                Traceback (most recent call last)",
      "\u001b[0;32m<ipython-input-54-7a69826457c5>\u001b[0m in \u001b[0;36m<module>\u001b[0;34m\u001b[0m\n\u001b[1;32m     22\u001b[0m )\n\u001b[1;32m     23\u001b[0m \u001b[0;34m\u001b[0m\u001b[0m\n\u001b[0;32m---> 24\u001b[0;31m \u001b[0msearch\u001b[0m\u001b[0;34m.\u001b[0m\u001b[0mfit\u001b[0m\u001b[0;34m(\u001b[0m\u001b[0mX_train\u001b[0m\u001b[0;34m,\u001b[0m \u001b[0my_train\u001b[0m\u001b[0;34m)\u001b[0m\u001b[0;34m;\u001b[0m\u001b[0;34m\u001b[0m\u001b[0;34m\u001b[0m\u001b[0m\n\u001b[0m",
      "\u001b[0;32m~/myenv/lib/python3.6/site-packages/sklearn/model_selection/_search.py\u001b[0m in \u001b[0;36mfit\u001b[0;34m(self, X, y, groups, **fit_params)\u001b[0m\n\u001b[1;32m    739\u001b[0m             \u001b[0mrefit_start_time\u001b[0m \u001b[0;34m=\u001b[0m \u001b[0mtime\u001b[0m\u001b[0;34m.\u001b[0m\u001b[0mtime\u001b[0m\u001b[0;34m(\u001b[0m\u001b[0;34m)\u001b[0m\u001b[0;34m\u001b[0m\u001b[0;34m\u001b[0m\u001b[0m\n\u001b[1;32m    740\u001b[0m             \u001b[0;32mif\u001b[0m \u001b[0my\u001b[0m \u001b[0;32mis\u001b[0m \u001b[0;32mnot\u001b[0m \u001b[0;32mNone\u001b[0m\u001b[0;34m:\u001b[0m\u001b[0;34m\u001b[0m\u001b[0;34m\u001b[0m\u001b[0m\n\u001b[0;32m--> 741\u001b[0;31m                 \u001b[0mself\u001b[0m\u001b[0;34m.\u001b[0m\u001b[0mbest_estimator_\u001b[0m\u001b[0;34m.\u001b[0m\u001b[0mfit\u001b[0m\u001b[0;34m(\u001b[0m\u001b[0mX\u001b[0m\u001b[0;34m,\u001b[0m \u001b[0my\u001b[0m\u001b[0;34m,\u001b[0m \u001b[0;34m**\u001b[0m\u001b[0mfit_params\u001b[0m\u001b[0;34m)\u001b[0m\u001b[0;34m\u001b[0m\u001b[0;34m\u001b[0m\u001b[0m\n\u001b[0m\u001b[1;32m    742\u001b[0m             \u001b[0;32melse\u001b[0m\u001b[0;34m:\u001b[0m\u001b[0;34m\u001b[0m\u001b[0;34m\u001b[0m\u001b[0m\n\u001b[1;32m    743\u001b[0m                 \u001b[0mself\u001b[0m\u001b[0;34m.\u001b[0m\u001b[0mbest_estimator_\u001b[0m\u001b[0;34m.\u001b[0m\u001b[0mfit\u001b[0m\u001b[0;34m(\u001b[0m\u001b[0mX\u001b[0m\u001b[0;34m,\u001b[0m \u001b[0;34m**\u001b[0m\u001b[0mfit_params\u001b[0m\u001b[0;34m)\u001b[0m\u001b[0;34m\u001b[0m\u001b[0;34m\u001b[0m\u001b[0m\n",
      "\u001b[0;32m~/myenv/lib/python3.6/site-packages/sklearn/ensemble/_forest.py\u001b[0m in \u001b[0;36mfit\u001b[0;34m(self, X, y, sample_weight)\u001b[0m\n\u001b[1;32m    293\u001b[0m         \"\"\"\n\u001b[1;32m    294\u001b[0m         \u001b[0;31m# Validate or convert input data\u001b[0m\u001b[0;34m\u001b[0m\u001b[0;34m\u001b[0m\u001b[0;34m\u001b[0m\u001b[0m\n\u001b[0;32m--> 295\u001b[0;31m         \u001b[0mX\u001b[0m \u001b[0;34m=\u001b[0m \u001b[0mcheck_array\u001b[0m\u001b[0;34m(\u001b[0m\u001b[0mX\u001b[0m\u001b[0;34m,\u001b[0m \u001b[0maccept_sparse\u001b[0m\u001b[0;34m=\u001b[0m\u001b[0;34m\"csc\"\u001b[0m\u001b[0;34m,\u001b[0m \u001b[0mdtype\u001b[0m\u001b[0;34m=\u001b[0m\u001b[0mDTYPE\u001b[0m\u001b[0;34m)\u001b[0m\u001b[0;34m\u001b[0m\u001b[0;34m\u001b[0m\u001b[0m\n\u001b[0m\u001b[1;32m    296\u001b[0m         \u001b[0my\u001b[0m \u001b[0;34m=\u001b[0m \u001b[0mcheck_array\u001b[0m\u001b[0;34m(\u001b[0m\u001b[0my\u001b[0m\u001b[0;34m,\u001b[0m \u001b[0maccept_sparse\u001b[0m\u001b[0;34m=\u001b[0m\u001b[0;34m'csc'\u001b[0m\u001b[0;34m,\u001b[0m \u001b[0mensure_2d\u001b[0m\u001b[0;34m=\u001b[0m\u001b[0;32mFalse\u001b[0m\u001b[0;34m,\u001b[0m \u001b[0mdtype\u001b[0m\u001b[0;34m=\u001b[0m\u001b[0;32mNone\u001b[0m\u001b[0;34m)\u001b[0m\u001b[0;34m\u001b[0m\u001b[0;34m\u001b[0m\u001b[0m\n\u001b[1;32m    297\u001b[0m         \u001b[0;32mif\u001b[0m \u001b[0msample_weight\u001b[0m \u001b[0;32mis\u001b[0m \u001b[0;32mnot\u001b[0m \u001b[0;32mNone\u001b[0m\u001b[0;34m:\u001b[0m\u001b[0;34m\u001b[0m\u001b[0;34m\u001b[0m\u001b[0m\n",
      "\u001b[0;32m~/myenv/lib/python3.6/site-packages/sklearn/utils/validation.py\u001b[0m in \u001b[0;36mcheck_array\u001b[0;34m(array, accept_sparse, accept_large_sparse, dtype, order, copy, force_all_finite, ensure_2d, allow_nd, ensure_min_samples, ensure_min_features, warn_on_dtype, estimator)\u001b[0m\n\u001b[1;32m    513\u001b[0m                     \u001b[0marray\u001b[0m \u001b[0;34m=\u001b[0m \u001b[0marray\u001b[0m\u001b[0;34m.\u001b[0m\u001b[0mastype\u001b[0m\u001b[0;34m(\u001b[0m\u001b[0mdtype\u001b[0m\u001b[0;34m,\u001b[0m \u001b[0mcasting\u001b[0m\u001b[0;34m=\u001b[0m\u001b[0;34m\"unsafe\"\u001b[0m\u001b[0;34m,\u001b[0m \u001b[0mcopy\u001b[0m\u001b[0;34m=\u001b[0m\u001b[0;32mFalse\u001b[0m\u001b[0;34m)\u001b[0m\u001b[0;34m\u001b[0m\u001b[0;34m\u001b[0m\u001b[0m\n\u001b[1;32m    514\u001b[0m                 \u001b[0;32melse\u001b[0m\u001b[0;34m:\u001b[0m\u001b[0;34m\u001b[0m\u001b[0;34m\u001b[0m\u001b[0m\n\u001b[0;32m--> 515\u001b[0;31m                     \u001b[0marray\u001b[0m \u001b[0;34m=\u001b[0m \u001b[0mnp\u001b[0m\u001b[0;34m.\u001b[0m\u001b[0masarray\u001b[0m\u001b[0;34m(\u001b[0m\u001b[0marray\u001b[0m\u001b[0;34m,\u001b[0m \u001b[0morder\u001b[0m\u001b[0;34m=\u001b[0m\u001b[0morder\u001b[0m\u001b[0;34m,\u001b[0m \u001b[0mdtype\u001b[0m\u001b[0;34m=\u001b[0m\u001b[0mdtype\u001b[0m\u001b[0;34m)\u001b[0m\u001b[0;34m\u001b[0m\u001b[0;34m\u001b[0m\u001b[0m\n\u001b[0m\u001b[1;32m    516\u001b[0m             \u001b[0;32mexcept\u001b[0m \u001b[0mComplexWarning\u001b[0m\u001b[0;34m:\u001b[0m\u001b[0;34m\u001b[0m\u001b[0;34m\u001b[0m\u001b[0m\n\u001b[1;32m    517\u001b[0m                 raise ValueError(\"Complex data not supported\\n\"\n",
      "\u001b[0;32m~/myenv/lib/python3.6/site-packages/numpy/core/_asarray.py\u001b[0m in \u001b[0;36masarray\u001b[0;34m(a, dtype, order)\u001b[0m\n\u001b[1;32m     83\u001b[0m \u001b[0;34m\u001b[0m\u001b[0m\n\u001b[1;32m     84\u001b[0m     \"\"\"\n\u001b[0;32m---> 85\u001b[0;31m     \u001b[0;32mreturn\u001b[0m \u001b[0marray\u001b[0m\u001b[0;34m(\u001b[0m\u001b[0ma\u001b[0m\u001b[0;34m,\u001b[0m \u001b[0mdtype\u001b[0m\u001b[0;34m,\u001b[0m \u001b[0mcopy\u001b[0m\u001b[0;34m=\u001b[0m\u001b[0;32mFalse\u001b[0m\u001b[0;34m,\u001b[0m \u001b[0morder\u001b[0m\u001b[0;34m=\u001b[0m\u001b[0morder\u001b[0m\u001b[0;34m)\u001b[0m\u001b[0;34m\u001b[0m\u001b[0;34m\u001b[0m\u001b[0m\n\u001b[0m\u001b[1;32m     86\u001b[0m \u001b[0;34m\u001b[0m\u001b[0m\n\u001b[1;32m     87\u001b[0m \u001b[0;34m\u001b[0m\u001b[0m\n",
      "\u001b[0;31mValueError\u001b[0m: could not convert string to float: 'Full SSN'"
     ]
    }
   ],
   "source": [
    "from scipy.stats import randint, uniform\n",
    "from sklearn.ensemble import RandomForestRegressor\n",
    "from sklearn.model_selection import RandomizedSearchCV\n",
    "\n",
    "param_distributions = { \n",
    "    'n_estimators': randint(5, 500, 5), \n",
    "    'max_depth': [10, 15, 20, 50, 'None'], \n",
    "    'max_features': [.5, 1, 1.5, 2, 2.5, 3, 'sqrt', None],\n",
    "    \n",
    "}\n",
    "\n",
    "search = RandomizedSearchCV(\n",
    "    RandomForestRegressor(random_state=42), \n",
    "    param_distributions=param_distributions, \n",
    "    n_iter=20, \n",
    "    cv=5, \n",
    "    scoring='neg_mean_absolute_error', \n",
    "    verbose=10, \n",
    "    return_train_score=True, \n",
    "    n_jobs=-1, \n",
    "    random_state=42\n",
    ")\n",
    "\n",
    "search.fit(X_train, y_train);"
   ]
  },
  {
   "cell_type": "code",
   "execution_count": 81,
   "metadata": {
    "colab": {
     "base_uri": "https://localhost:8080/",
     "height": 34
    },
    "colab_type": "code",
    "id": "EQaTIhvNrOpJ",
    "outputId": "047a87d7-e2cb-4f76-9bcc-f5f08c8ff5e4"
   },
   "outputs": [
    {
     "name": "stdout",
     "output_type": "stream",
     "text": [
      "Validation Accuracy 0.7232876712328767\n"
     ]
    }
   ],
   "source": [
    "import category_encoders as ce\n",
    "from sklearn.impute import SimpleImputer\n",
    "from sklearn.ensemble import RandomForestClassifier\n",
    "from sklearn.model_selection import train_test_split\n",
    "from sklearn.pipeline import make_pipeline\n",
    "from sklearn.ensemble import GradientBoostingClassifier\n",
    "\n",
    "# Make pipeline!\n",
    "pipeline = make_pipeline(\n",
    "    ce.OrdinalEncoder(), \n",
    "    SimpleImputer(strategy='most_frequent'), \n",
    "    RandomForestClassifier(n_estimators=100, n_jobs=-1, max_features=None, random_state=42\n",
    "                       )\n",
    ")\n",
    "\n",
    "# Fit on train, score on val\n",
    "pipeline.fit(X_train, y_train)\n",
    "y_pred = pipeline.predict(X_val)\n",
    "print('Validation Accuracy', accuracy_score(y_val, y_pred))"
   ]
  },
  {
   "cell_type": "code",
   "execution_count": 77,
   "metadata": {
    "colab": {
     "base_uri": "https://localhost:8080/",
     "height": 408
    },
    "colab_type": "code",
    "id": "6axs6ZqxrOpN",
    "outputId": "d9300b97-06d7-4c30-b37d-95a9e6d41166"
   },
   "outputs": [
    {
     "data": {
      "text/plain": [
       "Pipeline(memory=None,\n",
       "         steps=[('ordinalencoder',\n",
       "                 OrdinalEncoder(cols=['3.15_Relationship_to_HoH',\n",
       "                                      '3.2_Social_Security_Quality',\n",
       "                                      '3.3_Birthdate_Quality', '3.4_Race',\n",
       "                                      '3.5_Ethnicity', '3.6_Gender',\n",
       "                                      '3.7_Veteran_Status',\n",
       "                                      '3.8_Disabling_Condition_at_Entry',\n",
       "                                      '3.917_Living_Situation',\n",
       "                                      '3.917_Times_Homeless_Last_3_Years',\n",
       "                                      '3.917_Total_Months_Homeless_Last_3_Years',\n",
       "                                      'V...\n",
       "                               colsample_bylevel=1, colsample_bynode=1,\n",
       "                               colsample_bytree=1, gamma=0, learning_rate=0.1,\n",
       "                               max_delta_step=0, max_depth=3,\n",
       "                               min_child_weight=1, missing=None,\n",
       "                               n_estimators=110, n_jobs=-1, nthread=None,\n",
       "                               num_parallel_tree=200,\n",
       "                               objective='binary:logistic', random_state=42,\n",
       "                               reg_alpha=0, reg_lambda=1, scale_pos_weight=1,\n",
       "                               seed=None, silent=None, subsample=1,\n",
       "                               verbosity=1))],\n",
       "         verbose=False)"
      ]
     },
     "execution_count": 77,
     "metadata": {},
     "output_type": "execute_result"
    }
   ],
   "source": [
    "# Make pipeline!\n",
    "pipeline = make_pipeline(\n",
    "    ce.OrdinalEncoder(), \n",
    "    SimpleImputer(strategy='most_frequent'), \n",
    "    xgb.XGBClassifier(n_estimators=110, n_jobs=-1, num_parallel_tree=200,\n",
    "                           random_state=42\n",
    "                       )\n",
    ")\n",
    "# Fit on Train\n",
    "pipeline.fit(X_train, y_train)"
   ]
  },
  {
   "cell_type": "code",
   "execution_count": 78,
   "metadata": {
    "colab": {
     "base_uri": "https://localhost:8080/",
     "height": 34
    },
    "colab_type": "code",
    "id": "KOBexijCrOpR",
    "outputId": "5fc5da08-9086-4052-bb81-0be70c07dc47"
   },
   "outputs": [
    {
     "name": "stdout",
     "output_type": "stream",
     "text": [
      "Validation Accuracy 0.6958904109589041\n"
     ]
    }
   ],
   "source": [
    "# Score on val\n",
    "y_pred = pipeline.predict(X_val)\n",
    "print('Validation Accuracy', accuracy_score(y_val, y_pred))"
   ]
  },
  {
   "cell_type": "code",
   "execution_count": 22,
   "metadata": {
    "colab": {
     "base_uri": "https://localhost:8080/",
     "height": 34
    },
    "colab_type": "code",
    "id": "EjTjpEx3rOpU",
    "outputId": "1c6c4997-91e1-494b-ee20-360e56106c43"
   },
   "outputs": [
    {
     "name": "stdout",
     "output_type": "stream",
     "text": [
      "MAE for 3 folds: [-0.69       -0.68136273 -0.69138277]\n"
     ]
    }
   ],
   "source": [
    "# cross validation \n",
    "\n",
    "k = 3\n",
    "scores = cross_val_score(pipeline, X_train, y_train, cv=k, \n",
    "                         scoring='accuracy')\n",
    "print(f'MAE for {k} folds:', -scores)"
   ]
  },
  {
   "cell_type": "code",
   "execution_count": 23,
   "metadata": {
    "colab": {
     "base_uri": "https://localhost:8080/",
     "height": 34
    },
    "colab_type": "code",
    "id": "GPkuqGi3rOpa",
    "outputId": "3a32e681-9de8-4f35-dbf6-3b103ec7fb26"
   },
   "outputs": [
    {
     "data": {
      "text/plain": [
       "-0.6875818303273213"
      ]
     },
     "execution_count": 23,
     "metadata": {},
     "output_type": "execute_result"
    }
   ],
   "source": [
    "-scores.mean()"
   ]
  },
  {
   "cell_type": "code",
   "execution_count": 24,
   "metadata": {
    "colab": {
     "base_uri": "https://localhost:8080/",
     "height": 350
    },
    "colab_type": "code",
    "id": "PlJzXI_orOpi",
    "outputId": "4051ff2e-4476-475a-921d-c229c39a4978",
    "scrolled": true
   },
   "outputs": [
    {
     "data": {
      "text/plain": [
       "<matplotlib.axes._subplots.AxesSubplot at 0x7f9c84a42940>"
      ]
     },
     "execution_count": 24,
     "metadata": {},
     "output_type": "execute_result"
    },
    {
     "data": {
      "image/png": "[encoded data removed]",
      "text/plain": [
       "<Figure size 720x2160 with 1 Axes>"
      ]
     },
     "metadata": {
      "needs_background": "light"
     },
     "output_type": "display_data"
    }
   ],
   "source": [
    "# get and plot feature importances\n",
    "\n",
    "# Linear models have coefficients whereas decision trees have \"Feature Importances\"\n",
    "import matplotlib.pyplot as plt\n",
    "\n",
    "model = pipeline.named_steps['xgbclassifier']\n",
    "encoder = pipeline.named_steps['ordinalencoder']\n",
    "encoded_columns = encoder.transform(X_val).columns\n",
    "importances = pd.Series(model.feature_importances_, encoded_columns)\n",
    "plt.figure(figsize=(10,30))\n",
    "importances.sort_values().plot.barh(color='grey')"
   ]
  },
  {
   "cell_type": "code",
   "execution_count": 25,
   "metadata": {
    "colab": {
     "base_uri": "https://localhost:8080/",
     "height": 102
    },
    "colab_type": "code",
    "id": "aFGSKa_urOpm",
    "outputId": "32c60358-d198-4070-f497-04527c064dcd"
   },
   "outputs": [
    {
     "data": {
      "text/plain": [
       "Category 1 - Homeless                                      1071\n",
       "Category 4 - Fleeing domestic violence                       20\n",
       "Category 2 - At imminent risk of losing housing              16\n",
       "At-risk of homelessness                                       4\n",
       "Category 3 - Homeless only under other federal statutes       2\n",
       "Client refused                                                2\n",
       "Name: 4.1_Housing_Status, dtype: int64"
      ]
     },
     "execution_count": 25,
     "metadata": {},
     "output_type": "execute_result"
    }
   ],
   "source": [
    "df['4.1_Housing_Status'].value_counts()"
   ]
  },
  {
   "cell_type": "code",
   "execution_count": 42,
   "metadata": {
    "colab": {
     "base_uri": "https://localhost:8080/",
     "height": 34
    },
    "colab_type": "code",
    "id": "ClvxipISrOpq",
    "outputId": "a3ebfa99-2af2-418b-a1e6-e46d6db85f38"
   },
   "outputs": [
    {
     "data": {
      "text/plain": [
       "(528, 82)"
      ]
     },
     "execution_count": 42,
     "metadata": {
      "tags": []
     },
     "output_type": "execute_result"
    }
   ],
   "source": [
    "X_train.shape"
   ]
  },
  {
   "cell_type": "code",
   "execution_count": 43,
   "metadata": {
    "colab": {
     "base_uri": "https://localhost:8080/",
     "height": 748
    },
    "colab_type": "code",
    "id": "CwZXvrxjrOpu",
    "outputId": "08cf6ce2-f44b-4df5-a0cf-e4d3481b2725"
   },
   "outputs": [
    {
     "data": {
      "text/plain": [
       "Index(['3.15_Relationship_to_HoH', 'CaseMembers',\n",
       "       '3.2_Social_Security_Quality', '3.3_Birthdate_Quality',\n",
       "       'Age_at_Enrollment', '3.4_Race', '3.5_Ethnicity', '3.6_Gender',\n",
       "       '3.7_Veteran_Status', '3.8_Disabling_Condition_at_Entry',\n",
       "       '3.917_Living_Situation', '3.917_Length_of_Stay',\n",
       "       'Length_of_Time_Homeless_(3.917_Approximate_Start)',\n",
       "       '3.917_Times_Homeless_Last_3_Years',\n",
       "       '3.917_Total_Months_Homeless_Last_3_Years', 'V5_Last_Permanent_Address',\n",
       "       'V5_State', 'V5_Zip', 'Municipality_(City_or_County)',\n",
       "       'Days_Enrolled_in_Project', '4.1_Housing_Status',\n",
       "       '4.4_Covered_by_Health_Insurance', '4.11_Domestic_Violence',\n",
       "       '4.11_Domestic_Violence_-_Currently_Fleeing_DV?',\n",
       "       'Days_Enrolled_Until_Engagement_Date',\n",
       "       '4.24_Connected_to_McKinney_Vento_Liason_(Retired)', 'Household_Type',\n",
       "       'Latitude', 'Longitude', 'R4_Last_Grade_Completed', 'R5_School_Status',\n",
       "       'R6_Employed_Status', 'R6_Why_Not_Employed', 'R6_Type_of_Employment',\n",
       "       'R6_Looking_for_Work', 'Client_Record_Restricted', 'InfoReleaseNo',\n",
       "       'Information_Release_Status', '4.12_Contact_Services',\n",
       "       'Count_of_Bed_Nights_(Housing_Check-ins)', '4.2_Income_Total_at_Entry',\n",
       "       '4.3_Non-Cash_Benefit_Count', 'Barrier_Count_at_Entry',\n",
       "       'Chronic_Homeless_Status', 'Under_25_Years_Old',\n",
       "       '4.10_Alcohol_Abuse_(Substance_Abuse)', '4.07_Chronic_Health_Condition',\n",
       "       '4.06_Developmental_Disability', '4.10_Drug_Abuse_(Substance_Abuse)',\n",
       "       '4.08_HIV/AIDS', '4.09_Mental_Health_Problem',\n",
       "       '4.05_Physical_Disability', 'CaseAdults', '4.04.10_Other_Public',\n",
       "       '4.04.10_State_Funded', '4.04.11_Indian_Health_Services_(IHS)',\n",
       "       '4.04.12_Other', '4.04.3_Combined_Childrens_HealthInsurance/Medicaid',\n",
       "       '4.04.3_Medicaid', '4.04.4_Medicare',\n",
       "       '4.04.5_State_Children's_health_Insurance_S-CHIP',\n",
       "       '4.04.6_Veteran's_Administration_Medical_Services',\n",
       "       '4.04.8_Health_Insurance_obtained_through_COBRA',\n",
       "       '4.04.7_Private_-_Employer', '4.04.9_Private',\n",
       "       '4.04.9_Private_-_Individual', '4.2.3a_Earned_Income',\n",
       "       '4.2.4b_Unemployment_Insurance', '4.2.5c_Supplemental_Security_Income',\n",
       "       '4.2.6d_Social_Security_Disability__Income',\n",
       "       '4.2.7e_VA_Disability_Compensation', '4.2.8f_VA_Disability_Pension',\n",
       "       '4.2.9g_Private_Disability_Income', '4.2.10h_Workers_Compensation',\n",
       "       '4.2.11i_TANF', '4.2.12j_General_Assistance',\n",
       "       '4.2.13k_Retirement_(Social_Security)',\n",
       "       '4.2.14l_Pension_from_a_Former_Job', '4.2.15m_Child_Support',\n",
       "       '4.2.16n_Alimony', '4.2.17o_Other_Income',\n",
       "       '4.2.18_Total_Monthly_Income'],\n",
       "      dtype='object')"
      ]
     },
     "execution_count": 43,
     "metadata": {
      "tags": []
     },
     "output_type": "execute_result"
    }
   ],
   "source": [
    "X_train.columns"
   ]
  },
  {
   "cell_type": "code",
   "execution_count": 44,
   "metadata": {
    "colab": {
     "base_uri": "https://localhost:8080/",
     "height": 221
    },
    "colab_type": "code",
    "id": "gSnl8LWtrOpy",
    "outputId": "46d24e85-5183-44dc-e970-e12daf9d2744"
   },
   "outputs": [
    {
     "data": {
      "text/plain": [
       "1      56\n",
       "2      38\n",
       "32     26\n",
       "3      26\n",
       "28     17\n",
       "       ..\n",
       "98      1\n",
       "72      1\n",
       "37      1\n",
       "79      1\n",
       "121     1\n",
       "Name: Days_Enrolled_in_Project, Length: 93, dtype: int64"
      ]
     },
     "execution_count": 44,
     "metadata": {
      "tags": []
     },
     "output_type": "execute_result"
    }
   ],
   "source": [
    "X_train.Days_Enrolled_in_Project.value_counts()"
   ]
  },
  {
   "cell_type": "code",
   "execution_count": 45,
   "metadata": {
    "colab": {
     "base_uri": "https://localhost:8080/",
     "height": 68
    },
    "colab_type": "code",
    "id": "5L9MYi7irOp1",
    "outputId": "135d0abd-e602-4e7d-d881-e889c6f5aaa2"
   },
   "outputs": [
    {
     "name": "stdout",
     "output_type": "stream",
     "text": [
      "Validation Accuracy without Days_Enrolled_in_Project: 0.8863636363636364\n",
      "Validation Accuracy with Days_Enrolled_in_Project: 0.8863636363636364\n",
      "Drop-Column Importance for Days_Enrolled_in_Project: 0.0\n"
     ]
    }
   ],
   "source": [
    "column  = 'Days_Enrolled_in_Project'\n",
    "\n",
    "# Fit without column\n",
    "pipeline = make_pipeline(\n",
    "    ce.OrdinalEncoder(), \n",
    "    SimpleImputer(strategy='most_frequent'), \n",
    "    RandomForestClassifier(n_estimators=250, random_state=42, n_jobs=-1)\n",
    ")\n",
    "pipeline.fit(X_train.drop(columns=column), y_train)\n",
    "score_without = pipeline.score(X_val.drop(columns=column), y_val)\n",
    "print(f'Validation Accuracy without {column}: {score_without}')\n",
    "\n",
    "# Fit with column\n",
    "pipeline = make_pipeline(\n",
    "    ce.OrdinalEncoder(), \n",
    "    SimpleImputer(strategy='most_frequent'), \n",
    "    RandomForestClassifier(n_estimators=250, random_state=42, n_jobs=-1)\n",
    ")\n",
    "pipeline.fit(X_train, y_train)\n",
    "score_with = pipeline.score(X_val, y_val)\n",
    "print(f'Validation Accuracy with {column}: {score_with}')\n",
    "\n",
    "# Compare the error with & without column\n",
    "print(f'Drop-Column Importance for {column}: {score_with - score_without}')"
   ]
  },
  {
   "cell_type": "code",
   "execution_count": 46,
   "metadata": {
    "colab": {
     "base_uri": "https://localhost:8080/",
     "height": 68
    },
    "colab_type": "code",
    "id": "pYEwbylgrOp3",
    "outputId": "14b9dc73-d789-4409-ed61-16c13a1999dd"
   },
   "outputs": [
    {
     "name": "stdout",
     "output_type": "stream",
     "text": [
      "Validation Accuracy without Days_Enrolled_in_Project: 0.7878787878787878\n",
      "Validation Accuracy with Days_Enrolled_in_Project: 0.7878787878787878\n",
      "Drop-Column Importance for Days_Enrolled_in_Project: 0.0\n"
     ]
    }
   ],
   "source": [
    "column  = 'Days_Enrolled_in_Project'\n",
    "\n",
    "# Fit without column\n",
    "pipeline = make_pipeline(\n",
    "    ce.OrdinalEncoder(), \n",
    "    SimpleImputer(strategy='most_frequent'), \n",
    "    RandomForestClassifier(n_estimators=250, max_depth=7, random_state=42, n_jobs=-1)\n",
    ")\n",
    "pipeline.fit(X_train.drop(columns=column), y_train)\n",
    "score_without = pipeline.score(X_val.drop(columns=column), y_val)\n",
    "print(f'Validation Accuracy without {column}: {score_without}')\n",
    "\n",
    "# Fit with column\n",
    "pipeline = make_pipeline(\n",
    "    ce.OrdinalEncoder(), \n",
    "    SimpleImputer(strategy='most_frequent'), \n",
    "    RandomForestClassifier(n_estimators=250, max_depth=7, random_state=42, n_jobs=-1)\n",
    ")\n",
    "pipeline.fit(X_train, y_train)\n",
    "score_with = pipeline.score(X_val, y_val)\n",
    "print(f'Validation Accuracy with {column}: {score_with}')\n",
    "\n",
    "# Compare the error with & without column\n",
    "print(f'Drop-Column Importance for {column}: {score_with - score_without}')"
   ]
  },
  {
   "cell_type": "code",
   "execution_count": 47,
   "metadata": {
    "colab": {
     "base_uri": "https://localhost:8080/",
     "height": 34
    },
    "colab_type": "code",
    "id": "5loIQRbPrOp6",
    "outputId": "97f52b50-3abb-48d2-a296-4b343ecc34d0"
   },
   "outputs": [
    {
     "name": "stdout",
     "output_type": "stream",
     "text": [
      "Validation Accuracy with Days_Enrolled_in_Project: 0.8863636363636364\n"
     ]
    }
   ],
   "source": [
    "# Fit with all the data\n",
    "pipeline = make_pipeline(\n",
    "    ce.OrdinalEncoder(), \n",
    "    SimpleImputer(strategy='most_frequent'), \n",
    "    RandomForestClassifier(n_estimators=100, random_state=42, n_jobs=-1)\n",
    ")\n",
    "pipeline.fit(X_train, y_train)\n",
    "score_with = pipeline.score(X_val, y_val)\n",
    "print(f'Validation Accuracy with {column}: {score_with}')"
   ]
  },
  {
   "cell_type": "code",
   "execution_count": 48,
   "metadata": {
    "colab": {
     "base_uri": "https://localhost:8080/",
     "height": 119
    },
    "colab_type": "code",
    "id": "07ScaAnOrOp9",
    "outputId": "b01a8e40-232f-4c4e-bbd8-7a90b5dd510c"
   },
   "outputs": [
    {
     "data": {
      "text/plain": [
       "85     101\n",
       "154     10\n",
       "527     25\n",
       "84     101\n",
       "277      2\n",
       "Name: Days_Enrolled_in_Project, dtype: int64"
      ]
     },
     "execution_count": 48,
     "metadata": {
      "tags": []
     },
     "output_type": "execute_result"
    }
   ],
   "source": [
    "# Before: Sequence of features to be permuted\n",
    "feature = 'Days_Enrolled_in_Project'\n",
    "X_val[feature].head()"
   ]
  },
  {
   "cell_type": "code",
   "execution_count": 49,
   "metadata": {
    "colab": {
     "base_uri": "https://localhost:8080/",
     "height": 1000
    },
    "colab_type": "code",
    "id": "thezB8URrOqB",
    "outputId": "23994afa-cccb-4a5a-e387-4650024f33ff"
   },
   "outputs": [
    {
     "data": {
      "text/plain": [
       "1      10\n",
       "3       9\n",
       "32      9\n",
       "2       9\n",
       "12      5\n",
       "28      5\n",
       "22      5\n",
       "42      4\n",
       "56      4\n",
       "23      4\n",
       "31      3\n",
       "39      3\n",
       "121     3\n",
       "169     3\n",
       "10      3\n",
       "74      2\n",
       "16      2\n",
       "20      2\n",
       "101     2\n",
       "33      2\n",
       "5       2\n",
       "13      2\n",
       "63      2\n",
       "27      2\n",
       "48      2\n",
       "6       1\n",
       "11      1\n",
       "29      1\n",
       "9       1\n",
       "25      1\n",
       "24      1\n",
       "18      1\n",
       "21      1\n",
       "194     1\n",
       "35      1\n",
       "37      1\n",
       "151     1\n",
       "149     1\n",
       "142     1\n",
       "128     1\n",
       "126     1\n",
       "125     1\n",
       "117     1\n",
       "114     1\n",
       "112     1\n",
       "110     1\n",
       "104     1\n",
       "103     1\n",
       "100     1\n",
       "96      1\n",
       "83      1\n",
       "79      1\n",
       "75      1\n",
       "60      1\n",
       "59      1\n",
       "53      1\n",
       "49      1\n",
       "47      1\n",
       "Name: Days_Enrolled_in_Project, dtype: int64"
      ]
     },
     "execution_count": 49,
     "metadata": {
      "tags": []
     },
     "output_type": "execute_result"
    }
   ],
   "source": [
    "# Before: Distribution of quantity\n",
    "X_val[feature].value_counts()"
   ]
  },
  {
   "cell_type": "code",
   "execution_count": 0,
   "metadata": {
    "colab": {},
    "colab_type": "code",
    "id": "iCx_XWJirOqF"
   },
   "outputs": [],
   "source": [
    "# Permute the dataset\n",
    "X_val_permuted = X_val.copy()\n",
    "X_val_permuted[feature] = np.random.permutation(X_val[feature])"
   ]
  },
  {
   "cell_type": "code",
   "execution_count": 51,
   "metadata": {
    "colab": {
     "base_uri": "https://localhost:8080/",
     "height": 119
    },
    "colab_type": "code",
    "id": "n0dt30x1rOqK",
    "outputId": "81ea3740-58cc-4de8-dee3-70cf743ce2b8"
   },
   "outputs": [
    {
     "data": {
      "text/plain": [
       "85      1\n",
       "154    28\n",
       "527    96\n",
       "84      1\n",
       "277    42\n",
       "Name: Days_Enrolled_in_Project, dtype: int64"
      ]
     },
     "execution_count": 51,
     "metadata": {
      "tags": []
     },
     "output_type": "execute_result"
    }
   ],
   "source": [
    "# After: Sequence of features to be permuted\n",
    "X_val_permuted[feature].head()"
   ]
  },
  {
   "cell_type": "code",
   "execution_count": 52,
   "metadata": {
    "colab": {
     "base_uri": "https://localhost:8080/",
     "height": 1000
    },
    "colab_type": "code",
    "id": "gkRem7V8rOqQ",
    "outputId": "5936938b-b018-429b-8252-c2fa8d78a4d8"
   },
   "outputs": [
    {
     "data": {
      "text/plain": [
       "1      10\n",
       "3       9\n",
       "32      9\n",
       "2       9\n",
       "12      5\n",
       "28      5\n",
       "22      5\n",
       "42      4\n",
       "56      4\n",
       "23      4\n",
       "31      3\n",
       "39      3\n",
       "121     3\n",
       "169     3\n",
       "10      3\n",
       "74      2\n",
       "16      2\n",
       "20      2\n",
       "101     2\n",
       "33      2\n",
       "5       2\n",
       "13      2\n",
       "63      2\n",
       "27      2\n",
       "48      2\n",
       "6       1\n",
       "11      1\n",
       "29      1\n",
       "9       1\n",
       "25      1\n",
       "24      1\n",
       "18      1\n",
       "21      1\n",
       "194     1\n",
       "35      1\n",
       "37      1\n",
       "151     1\n",
       "149     1\n",
       "142     1\n",
       "128     1\n",
       "126     1\n",
       "125     1\n",
       "117     1\n",
       "114     1\n",
       "112     1\n",
       "110     1\n",
       "104     1\n",
       "103     1\n",
       "100     1\n",
       "96      1\n",
       "83      1\n",
       "79      1\n",
       "75      1\n",
       "60      1\n",
       "59      1\n",
       "53      1\n",
       "49      1\n",
       "47      1\n",
       "Name: Days_Enrolled_in_Project, dtype: int64"
      ]
     },
     "execution_count": 52,
     "metadata": {
      "tags": []
     },
     "output_type": "execute_result"
    }
   ],
   "source": [
    "# Distribution hasn't changed!\n",
    "X_val_permuted[feature].value_counts()"
   ]
  },
  {
   "cell_type": "code",
   "execution_count": 53,
   "metadata": {
    "colab": {
     "base_uri": "https://localhost:8080/",
     "height": 68
    },
    "colab_type": "code",
    "id": "TenTmcbqrOqV",
    "outputId": "78f5e774-2be0-450a-d4db-dfeeea88579a"
   },
   "outputs": [
    {
     "name": "stdout",
     "output_type": "stream",
     "text": [
      "Validation Accuracy with Days_Enrolled_in_Project not permuted: 0.8863636363636364\n",
      "Validation Accuracy with Days_Enrolled_in_Project permuted: 0.8181818181818182\n",
      "Permutation Importance for Days_Enrolled_in_Project: 0.06818181818181812\n"
     ]
    }
   ],
   "source": [
    "# Get the permutation importance\n",
    "score_permuted = pipeline.score(X_val_permuted, y_val)\n",
    "\n",
    "print(f'Validation Accuracy with {column} not permuted: {score_with}')\n",
    "print(f'Validation Accuracy with {column} permuted: {score_permuted}')\n",
    "print(f'Permutation Importance for {column}: {score_with - score_permuted}')"
   ]
  },
  {
   "cell_type": "code",
   "execution_count": 54,
   "metadata": {
    "colab": {
     "base_uri": "https://localhost:8080/",
     "height": 136
    },
    "colab_type": "code",
    "id": "1bNCUWWRrOqa",
    "outputId": "66db5816-8b03-4e0a-cfcc-d54e093b1ff2",
    "scrolled": true
   },
   "outputs": [
    {
     "data": {
      "text/plain": [
       "RandomForestClassifier(bootstrap=True, class_weight=None, criterion='gini',\n",
       "                       max_depth=None, max_features='auto', max_leaf_nodes=None,\n",
       "                       min_impurity_decrease=0.0, min_impurity_split=None,\n",
       "                       min_samples_leaf=1, min_samples_split=2,\n",
       "                       min_weight_fraction_leaf=0.0, n_estimators=100,\n",
       "                       n_jobs=-1, oob_score=False, random_state=42, verbose=0,\n",
       "                       warm_start=False)"
      ]
     },
     "execution_count": 54,
     "metadata": {
      "tags": []
     },
     "output_type": "execute_result"
    }
   ],
   "source": [
    "pipeline = make_pipeline(\n",
    "    ce.OrdinalEncoder(),\n",
    "    SimpleImputer(strategy='most_frequent')\n",
    ")\n",
    "\n",
    "X_train_transformed = pipeline.fit_transform(X_train)\n",
    "X_val_transformed = pipeline.transform(X_val)\n",
    "\n",
    "model = RandomForestClassifier(n_estimators=100, random_state=42, n_jobs=-1)\n",
    "model.fit(X_train_transformed, y_train)"
   ]
  },
  {
   "cell_type": "code",
   "execution_count": 55,
   "metadata": {
    "colab": {
     "base_uri": "https://localhost:8080/",
     "height": 204
    },
    "colab_type": "code",
    "id": "N65nCMCJrOqg",
    "outputId": "e4a6f472-e271-4fb6-859e-394350b695f5"
   },
   "outputs": [
    {
     "name": "stdout",
     "output_type": "stream",
     "text": [
      "Requirement already satisfied: eli5 in /usr/local/lib/python3.6/dist-packages (0.10.1)\n",
      "Requirement already satisfied: scipy in /usr/local/lib/python3.6/dist-packages (from eli5) (1.3.3)\n",
      "Requirement already satisfied: tabulate>=0.7.7 in /usr/local/lib/python3.6/dist-packages (from eli5) (0.8.6)\n",
      "Requirement already satisfied: six in /usr/local/lib/python3.6/dist-packages (from eli5) (1.12.0)\n",
      "Requirement already satisfied: attrs>16.0.0 in /usr/local/lib/python3.6/dist-packages (from eli5) (19.3.0)\n",
      "Requirement already satisfied: jinja2 in /usr/local/lib/python3.6/dist-packages (from eli5) (2.10.3)\n",
      "Requirement already satisfied: graphviz in /usr/local/lib/python3.6/dist-packages (from eli5) (0.10.1)\n",
      "Requirement already satisfied: scikit-learn>=0.18 in /usr/local/lib/python3.6/dist-packages (from eli5) (0.21.3)\n",
      "Requirement already satisfied: numpy>=1.9.0 in /usr/local/lib/python3.6/dist-packages (from eli5) (1.17.4)\n",
      "Requirement already satisfied: MarkupSafe>=0.23 in /usr/local/lib/python3.6/dist-packages (from jinja2->eli5) (1.1.1)\n",
      "Requirement already satisfied: joblib>=0.11 in /usr/local/lib/python3.6/dist-packages (from scikit-learn>=0.18->eli5) (0.14.1)\n"
     ]
    }
   ],
   "source": [
    "pip install eli5"
   ]
  },
  {
   "cell_type": "code",
   "execution_count": 56,
   "metadata": {
    "colab": {
     "base_uri": "https://localhost:8080/",
     "height": 420
    },
    "colab_type": "code",
    "id": "xaxlGicDrOqn",
    "outputId": "35897382-7bd2-443e-b5c2-8f3b63d06ca5"
   },
   "outputs": [
    {
     "name": "stderr",
     "output_type": "stream",
     "text": [
      "Using TensorFlow backend.\n"
     ]
    },
    {
     "data": {
      "text/html": [
       "<p style=\"color: red;\">\n",
       "The default version of TensorFlow in Colab will soon switch to TensorFlow 2.x.<br>\n",
       "We recommend you <a href=\"https://www.tensorflow.org/guide/migrate\" target=\"_blank\">upgrade</a> now \n",
       "or ensure your notebook will continue to use TensorFlow 1.x via the <code>%tensorflow_version 1.x</code> magic:\n",
       "<a href=\"https://colab.research.google.com/notebooks/tensorflow_version.ipynb\" target=\"_blank\">more info</a>.</p>\n"
      ],
      "text/plain": [
       "<IPython.core.display.HTML object>"
      ]
     },
     "metadata": {
      "tags": []
     },
     "output_type": "display_data"
    },
    {
     "data": {
      "text/plain": [
       "PermutationImportance(cv='prefit',\n",
       "                      estimator=RandomForestClassifier(bootstrap=True,\n",
       "                                                       class_weight=None,\n",
       "                                                       criterion='gini',\n",
       "                                                       max_depth=None,\n",
       "                                                       max_features='auto',\n",
       "                                                       max_leaf_nodes=None,\n",
       "                                                       min_impurity_decrease=0.0,\n",
       "                                                       min_impurity_split=None,\n",
       "                                                       min_samples_leaf=1,\n",
       "                                                       min_samples_split=2,\n",
       "                                                       min_weight_fraction_leaf=0.0,\n",
       "                                                       n_estimators=100,\n",
       "                                                       n_jobs=-1,\n",
       "                                                       oob_score=False,\n",
       "                                                       random_state=42,\n",
       "                                                       verbose=0,\n",
       "                                                       warm_start=False),\n",
       "                      n_iter=5, random_state=42, refit=True,\n",
       "                      scoring='accuracy')"
      ]
     },
     "execution_count": 56,
     "metadata": {
      "tags": []
     },
     "output_type": "execute_result"
    }
   ],
   "source": [
    "import eli5\n",
    "from eli5.sklearn import PermutationImportance\n",
    "\n",
    "permuter = PermutationImportance(\n",
    "    model,\n",
    "    scoring='accuracy',\n",
    "    n_iter=5,\n",
    "    random_state=42\n",
    ")\n",
    "permuter.fit(X_val_transformed, y_val)"
   ]
  },
  {
   "cell_type": "code",
   "execution_count": 57,
   "metadata": {
    "colab": {
     "base_uri": "https://localhost:8080/",
     "height": 289
    },
    "colab_type": "code",
    "id": "KwZSm4VmrOqz",
    "outputId": "566c4fa5-5c05-439c-ab31-27999c9b4789"
   },
   "outputs": [
    {
     "data": {
      "text/plain": [
       "array([ 0.0030303 ,  0.00757576,  0.01818182,  0.        ,  0.00757576,\n",
       "        0.00454545,  0.        ,  0.        ,  0.        ,  0.0030303 ,\n",
       "        0.00151515,  0.        ,  0.01060606,  0.0030303 ,  0.0030303 ,\n",
       "        0.00757576,  0.01818182,  0.01666667,  0.        ,  0.03484848,\n",
       "        0.01060606, -0.00606061,  0.00606061,  0.        ,  0.        ,\n",
       "        0.00757576,  0.        ,  0.        ,  0.        ,  0.00757576,\n",
       "        0.01212121,  0.        , -0.00151515,  0.        ,  0.00151515,\n",
       "        0.        ,  0.        ,  0.03181818,  0.04393939,  0.00757576,\n",
       "        0.00454545,  0.0030303 ,  0.        ,  0.        ,  0.00151515,\n",
       "        0.        ,  0.        ,  0.        ,  0.        ,  0.        ,\n",
       "        0.        ,  0.        ,  0.        ,  0.00151515,  0.00151515,\n",
       "        0.        ,  0.00454545,  0.00151515,  0.00151515,  0.0030303 ,\n",
       "        0.        ,  0.        ,  0.        ,  0.        ,  0.00151515,\n",
       "        0.        ,  0.        ,  0.        ,  0.        ,  0.        ,\n",
       "        0.        ,  0.        ,  0.        ,  0.        ,  0.        ,\n",
       "        0.        ,  0.        ,  0.        ,  0.        ,  0.        ])"
      ]
     },
     "execution_count": 57,
     "metadata": {
      "tags": []
     },
     "output_type": "execute_result"
    }
   ],
   "source": [
    "permuter.feature_importances_"
   ]
  },
  {
   "cell_type": "code",
   "execution_count": 58,
   "metadata": {
    "colab": {
     "base_uri": "https://localhost:8080/",
     "height": 357
    },
    "colab_type": "code",
    "id": "DE4SO99vrOq-",
    "outputId": "deaed3ec-03ab-4d81-e114-27ee5a0996c5"
   },
   "outputs": [
    {
     "ename": "ValueError",
     "evalue": "ignored",
     "output_type": "error",
     "traceback": [
      "\u001b[0;31m---------------------------------------------------------------------------\u001b[0m",
      "\u001b[0;31mValueError\u001b[0m                                Traceback (most recent call last)",
      "\u001b[0;32m<ipython-input-58-0b4df911cddc>\u001b[0m in \u001b[0;36m<module>\u001b[0;34m()\u001b[0m\n\u001b[1;32m      2\u001b[0m     \u001b[0mpermuter\u001b[0m\u001b[0;34m,\u001b[0m\u001b[0;34m\u001b[0m\u001b[0;34m\u001b[0m\u001b[0m\n\u001b[1;32m      3\u001b[0m     \u001b[0mtop\u001b[0m\u001b[0;34m=\u001b[0m\u001b[0;32mNone\u001b[0m\u001b[0;34m,\u001b[0m\u001b[0;34m\u001b[0m\u001b[0;34m\u001b[0m\u001b[0m\n\u001b[0;32m----> 4\u001b[0;31m     \u001b[0mfeature_names\u001b[0m\u001b[0;34m=\u001b[0m\u001b[0mX_val\u001b[0m\u001b[0;34m.\u001b[0m\u001b[0mcolumns\u001b[0m\u001b[0;34m.\u001b[0m\u001b[0mtolist\u001b[0m\u001b[0;34m(\u001b[0m\u001b[0;34m)\u001b[0m\u001b[0;34m\u001b[0m\u001b[0;34m\u001b[0m\u001b[0m\n\u001b[0m\u001b[1;32m      5\u001b[0m )\n",
      "\u001b[0;32m/usr/local/lib/python3.6/dist-packages/eli5/ipython.py\u001b[0m in \u001b[0;36mshow_weights\u001b[0;34m(estimator, **kwargs)\u001b[0m\n\u001b[1;32m    128\u001b[0m     \"\"\"\n\u001b[1;32m    129\u001b[0m     \u001b[0mformat_kwargs\u001b[0m\u001b[0;34m,\u001b[0m \u001b[0mexplain_kwargs\u001b[0m \u001b[0;34m=\u001b[0m \u001b[0m_split_kwargs\u001b[0m\u001b[0;34m(\u001b[0m\u001b[0mkwargs\u001b[0m\u001b[0;34m)\u001b[0m\u001b[0;34m\u001b[0m\u001b[0;34m\u001b[0m\u001b[0m\n\u001b[0;32m--> 130\u001b[0;31m     \u001b[0mexpl\u001b[0m \u001b[0;34m=\u001b[0m \u001b[0mexplain_weights\u001b[0m\u001b[0;34m(\u001b[0m\u001b[0mestimator\u001b[0m\u001b[0;34m,\u001b[0m \u001b[0;34m**\u001b[0m\u001b[0mexplain_kwargs\u001b[0m\u001b[0;34m)\u001b[0m\u001b[0;34m\u001b[0m\u001b[0;34m\u001b[0m\u001b[0m\n\u001b[0m\u001b[1;32m    131\u001b[0m     \u001b[0m_set_html_kwargs_defaults\u001b[0m\u001b[0;34m(\u001b[0m\u001b[0mformat_kwargs\u001b[0m\u001b[0;34m)\u001b[0m\u001b[0;34m\u001b[0m\u001b[0;34m\u001b[0m\u001b[0m\n\u001b[1;32m    132\u001b[0m     \u001b[0mhtml\u001b[0m \u001b[0;34m=\u001b[0m \u001b[0mformat_as_html\u001b[0m\u001b[0;34m(\u001b[0m\u001b[0mexpl\u001b[0m\u001b[0;34m,\u001b[0m \u001b[0;34m**\u001b[0m\u001b[0mformat_kwargs\u001b[0m\u001b[0;34m)\u001b[0m\u001b[0;34m\u001b[0m\u001b[0;34m\u001b[0m\u001b[0m\n",
      "\u001b[0;32m/usr/lib/python3.6/functools.py\u001b[0m in \u001b[0;36mwrapper\u001b[0;34m(*args, **kw)\u001b[0m\n\u001b[1;32m    805\u001b[0m                             '1 positional argument')\n\u001b[1;32m    806\u001b[0m \u001b[0;34m\u001b[0m\u001b[0m\n\u001b[0;32m--> 807\u001b[0;31m         \u001b[0;32mreturn\u001b[0m \u001b[0mdispatch\u001b[0m\u001b[0;34m(\u001b[0m\u001b[0margs\u001b[0m\u001b[0;34m[\u001b[0m\u001b[0;36m0\u001b[0m\u001b[0;34m]\u001b[0m\u001b[0;34m.\u001b[0m\u001b[0m__class__\u001b[0m\u001b[0;34m)\u001b[0m\u001b[0;34m(\u001b[0m\u001b[0;34m*\u001b[0m\u001b[0margs\u001b[0m\u001b[0;34m,\u001b[0m \u001b[0;34m**\u001b[0m\u001b[0mkw\u001b[0m\u001b[0;34m)\u001b[0m\u001b[0;34m\u001b[0m\u001b[0;34m\u001b[0m\u001b[0m\n\u001b[0m\u001b[1;32m    808\u001b[0m \u001b[0;34m\u001b[0m\u001b[0m\n\u001b[1;32m    809\u001b[0m     \u001b[0mfuncname\u001b[0m \u001b[0;34m=\u001b[0m \u001b[0mgetattr\u001b[0m\u001b[0;34m(\u001b[0m\u001b[0mfunc\u001b[0m\u001b[0;34m,\u001b[0m \u001b[0;34m'__name__'\u001b[0m\u001b[0;34m,\u001b[0m \u001b[0;34m'singledispatch function'\u001b[0m\u001b[0;34m)\u001b[0m\u001b[0;34m\u001b[0m\u001b[0;34m\u001b[0m\u001b[0m\n",
      "\u001b[0;32m/usr/local/lib/python3.6/dist-packages/eli5/sklearn/explain_weights.py\u001b[0m in \u001b[0;36mexplain_permutation_importance\u001b[0;34m(estimator, vec, top, target_names, targets, feature_names, feature_re, feature_filter)\u001b[0m\n\u001b[1;32m    514\u001b[0m         \u001b[0mtop\u001b[0m\u001b[0;34m=\u001b[0m\u001b[0mtop\u001b[0m\u001b[0;34m,\u001b[0m\u001b[0;34m\u001b[0m\u001b[0;34m\u001b[0m\u001b[0m\n\u001b[1;32m    515\u001b[0m         \u001b[0mdescription\u001b[0m\u001b[0;34m=\u001b[0m\u001b[0mDESCRIPTION_SCORE_DECREASE\u001b[0m \u001b[0;34m+\u001b[0m \u001b[0mestimator\u001b[0m\u001b[0;34m.\u001b[0m\u001b[0mcaveats_\u001b[0m\u001b[0;34m,\u001b[0m\u001b[0;34m\u001b[0m\u001b[0;34m\u001b[0m\u001b[0m\n\u001b[0;32m--> 516\u001b[0;31m         \u001b[0mis_regression\u001b[0m\u001b[0;34m=\u001b[0m\u001b[0misinstance\u001b[0m\u001b[0;34m(\u001b[0m\u001b[0mestimator\u001b[0m\u001b[0;34m.\u001b[0m\u001b[0mwrapped_estimator_\u001b[0m\u001b[0;34m,\u001b[0m \u001b[0mRegressorMixin\u001b[0m\u001b[0;34m)\u001b[0m\u001b[0;34m,\u001b[0m\u001b[0;34m\u001b[0m\u001b[0;34m\u001b[0m\u001b[0m\n\u001b[0m\u001b[1;32m    517\u001b[0m     )\n",
      "\u001b[0;32m/usr/local/lib/python3.6/dist-packages/eli5/_feature_importances.py\u001b[0m in \u001b[0;36mget_feature_importance_explanation\u001b[0;34m(estimator, vec, coef, feature_names, feature_filter, feature_re, top, description, is_regression, estimator_feature_names, num_features, coef_std)\u001b[0m\n\u001b[1;32m     35\u001b[0m         \u001b[0mfeature_filter\u001b[0m\u001b[0;34m=\u001b[0m\u001b[0mfeature_filter\u001b[0m\u001b[0;34m,\u001b[0m\u001b[0;34m\u001b[0m\u001b[0;34m\u001b[0m\u001b[0m\n\u001b[1;32m     36\u001b[0m         \u001b[0mfeature_re\u001b[0m\u001b[0;34m=\u001b[0m\u001b[0mfeature_re\u001b[0m\u001b[0;34m,\u001b[0m\u001b[0;34m\u001b[0m\u001b[0;34m\u001b[0m\u001b[0m\n\u001b[0;32m---> 37\u001b[0;31m         \u001b[0mnum_features\u001b[0m\u001b[0;34m=\u001b[0m\u001b[0mnum_features\u001b[0m\u001b[0;34m,\u001b[0m\u001b[0;34m\u001b[0m\u001b[0;34m\u001b[0m\u001b[0m\n\u001b[0m\u001b[1;32m     38\u001b[0m     )\n\u001b[1;32m     39\u001b[0m     feature_importances = get_feature_importances_filtered(\n",
      "\u001b[0;32m/usr/local/lib/python3.6/dist-packages/eli5/sklearn/utils.py\u001b[0m in \u001b[0;36mget_feature_names_filtered\u001b[0;34m(clf, vec, bias_name, feature_names, num_features, feature_filter, feature_re, estimator_feature_names)\u001b[0m\n\u001b[1;32m    124\u001b[0m         \u001b[0mfeature_names\u001b[0m\u001b[0;34m=\u001b[0m\u001b[0mfeature_names\u001b[0m\u001b[0;34m,\u001b[0m\u001b[0;34m\u001b[0m\u001b[0;34m\u001b[0m\u001b[0m\n\u001b[1;32m    125\u001b[0m         \u001b[0mnum_features\u001b[0m\u001b[0;34m=\u001b[0m\u001b[0mnum_features\u001b[0m\u001b[0;34m,\u001b[0m\u001b[0;34m\u001b[0m\u001b[0;34m\u001b[0m\u001b[0m\n\u001b[0;32m--> 126\u001b[0;31m         \u001b[0mestimator_feature_names\u001b[0m\u001b[0;34m=\u001b[0m\u001b[0mestimator_feature_names\u001b[0m\u001b[0;34m,\u001b[0m\u001b[0;34m\u001b[0m\u001b[0;34m\u001b[0m\u001b[0m\n\u001b[0m\u001b[1;32m    127\u001b[0m     )\n\u001b[1;32m    128\u001b[0m     \u001b[0;32mreturn\u001b[0m \u001b[0mfeature_names\u001b[0m\u001b[0;34m.\u001b[0m\u001b[0mhandle_filter\u001b[0m\u001b[0;34m(\u001b[0m\u001b[0mfeature_filter\u001b[0m\u001b[0;34m,\u001b[0m \u001b[0mfeature_re\u001b[0m\u001b[0;34m)\u001b[0m\u001b[0;34m\u001b[0m\u001b[0;34m\u001b[0m\u001b[0m\n",
      "\u001b[0;32m/usr/local/lib/python3.6/dist-packages/eli5/sklearn/utils.py\u001b[0m in \u001b[0;36mget_feature_names\u001b[0;34m(clf, vec, bias_name, feature_names, num_features, estimator_feature_names)\u001b[0m\n\u001b[1;32m    109\u001b[0m             raise ValueError(\"feature_names has a wrong length: \"\n\u001b[1;32m    110\u001b[0m                              \"expected=%d, got=%d\" % (num_features,\n\u001b[0;32m--> 111\u001b[0;31m                                                       len(feature_names)))\n\u001b[0m\u001b[1;32m    112\u001b[0m         \u001b[0;32mreturn\u001b[0m \u001b[0mFeatureNames\u001b[0m\u001b[0;34m(\u001b[0m\u001b[0mfeature_names\u001b[0m\u001b[0;34m,\u001b[0m \u001b[0mbias_name\u001b[0m\u001b[0;34m=\u001b[0m\u001b[0mbias_name\u001b[0m\u001b[0;34m)\u001b[0m\u001b[0;34m\u001b[0m\u001b[0;34m\u001b[0m\u001b[0m\n\u001b[1;32m    113\u001b[0m \u001b[0;34m\u001b[0m\u001b[0m\n",
      "\u001b[0;31mValueError\u001b[0m: feature_names has a wrong length: expected=80, got=82"
     ]
    }
   ],
   "source": [
    "eli5.show_weights(\n",
    "    permuter,\n",
    "    top=None,\n",
    "    feature_names=X_val.columns.tolist()\n",
    ")"
   ]
  },
  {
   "cell_type": "code",
   "execution_count": 0,
   "metadata": {
    "colab": {},
    "colab_type": "code",
    "id": "a2x4Q044rOrG"
   },
   "outputs": [],
   "source": [
    "print('Shape before removing features:', X_train.shape)"
   ]
  },
  {
   "cell_type": "code",
   "execution_count": 0,
   "metadata": {
    "colab": {},
    "colab_type": "code",
    "id": "CTRtgYgrrOrL"
   },
   "outputs": [],
   "source": [
    "minimum_importance = 0 \n",
    "mask = permuter.feature_importances_ > minimum_importance\n",
    "features = X_train.columns[mask]\n",
    "X_train = X_train[features]"
   ]
  },
  {
   "cell_type": "code",
   "execution_count": 0,
   "metadata": {
    "colab": {},
    "colab_type": "code",
    "id": "FzqCLMpHrOrT"
   },
   "outputs": [],
   "source": [
    "print('Shape after removing features:', X_train.shape)"
   ]
  },
  {
   "cell_type": "code",
   "execution_count": 0,
   "metadata": {
    "colab": {},
    "colab_type": "code",
    "id": "bK3HKfEkrOrY"
   },
   "outputs": [],
   "source": [
    "X_val = X_val[features]\n",
    "\n",
    "pipeline = make_pipeline(\n",
    "    ce.OrdinalEncoder(),\n",
    "    SimpleImputer(strategy='most_frequent'),\n",
    "    RandomForestClassifier(n_estimators=100, random_state=42, n_jobs=-1)\n",
    ")\n",
    "\n",
    "# Fit on train, score on val\n",
    "pipeline.fit(X_train, y_train)\n",
    "print('Validation Accuracy:', pipeline.score(X_val, y_val))"
   ]
  },
  {
   "cell_type": "code",
   "execution_count": 0,
   "metadata": {
    "colab": {},
    "colab_type": "code",
    "id": "iF1--g2prOri"
   },
   "outputs": [],
   "source": [
    "from xgboost import XGBClassifier\n",
    "\n",
    "pipeline = make_pipeline(\n",
    "    ce.OrdinalEncoder(),\n",
    "    XGBClassifier(n_estimators=100, random_state=42, n_jobs=-1)\n",
    ")\n",
    "\n",
    "# Fit on train, score on val\n",
    "pipeline.fit(X_train, y_train)\n",
    "print('Validation Accuracy:', pipeline.score(X_val, y_val))"
   ]
  },
  {
   "cell_type": "code",
   "execution_count": 0,
   "metadata": {
    "colab": {},
    "colab_type": "code",
    "id": "_QPn7AlCrOrr",
    "scrolled": true
   },
   "outputs": [],
   "source": [
    "encoder = ce.OrdinalEncoder()\n",
    "X_train_encoded = encoder.fit_transform(X_train)\n",
    "X_val_encoded = encoder.transform(X_val)\n",
    "\n",
    "model = XGBClassifier(n_estimators=1000,    # <= 1000 trees, early stopping depency\n",
    "                      max_depth=7,          # try deeper trees with high cardinality data\n",
    "                      learning_rate=0.1,    # try higher learning rate\n",
    "                      random_state=42,\n",
    "                      num_class=1,\n",
    "                      n_jobs=-1)\n",
    "\n",
    "eval_set = [(X_train_encoded, y_train),\n",
    "            (X_val_encoded, y_val)]\n",
    "\n",
    "# Fit on train, score on val\n",
    "model.fit(X_train_encoded, y_train,\n",
    "          eval_metric='auc',\n",
    "          eval_set=eval_set, \n",
    "          early_stopping_rounds=25)"
   ]
  },
  {
   "cell_type": "code",
   "execution_count": 0,
   "metadata": {
    "colab": {},
    "colab_type": "code",
    "id": "2NydetaQrOr1"
   },
   "outputs": [],
   "source": [
    "from sklearn.metrics import mean_absolute_error as mae\n",
    "results = model.evals_result()\n",
    "train_error = results['validation_0']['auc']\n",
    "val_error = results['validation_1']['auc']\n",
    "\n",
    "iterations = range(1, len(train_error) + 1)\n",
    "\n",
    "plt.figure(figsize=(10,7))\n",
    "plt.plot(iterations, train_error, label='Train')\n",
    "plt.plot(iterations, val_error, label='Validation')\n",
    "plt.title('XGBoost Validation Curve')\n",
    "plt.ylabel('Classification Error')\n",
    "plt.xlabel('Model Complexity (n_estimators)')\n",
    "plt.legend();"
   ]
  }
 ],
 "metadata": {
  "colab": {
   "collapsed_sections": [],
   "name": "assignment_applied_modeling_2.ipynb",
   "provenance": []
  },
  "kernelspec": {
   "display_name": "Python 3",
   "language": "python",
   "name": "python3"
  },
  "language_info": {
   "codemirror_mode": {
    "name": "ipython",
    "version": 3
   },
   "file_extension": ".py",
   "mimetype": "text/x-python",
   "name": "python",
   "nbconvert_exporter": "python",
   "pygments_lexer": "ipython3",
   "version": "3.6.9"
  }
 },
 "nbformat": 4,
 "nbformat_minor": 1
}
