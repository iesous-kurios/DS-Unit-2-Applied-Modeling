{
  "nbformat": 4,
  "nbformat_minor": 0,
  "metadata": {
    "colab": {
      "name": "BuildWeekProject.ipynb",
      "provenance": [],
      "authorship_tag": "ABX9TyMUt0mCAN5KI6rpDdindmSb",
      "include_colab_link": true
    },
    "kernelspec": {
      "name": "python3",
      "display_name": "Python 3"
    }
  },
  "cells": [
    {
      "cell_type": "markdown",
      "metadata": {
        "id": "view-in-github",
        "colab_type": "text"
      },
      "source": [
        "<a href=\"https://colab.research.google.com/github/iesous-kurios/DS-Unit-2-Applied-Modeling/blob/master/module4/BuildWeekProject.ipynb\" target=\"_parent\"><img src=\"https://colab.research.google.com/assets/colab-badge.svg\" alt=\"Open In Colab\"/></a>"
      ]
    },
    {
      "cell_type": "code",
      "metadata": {
        "id": "ONvPALrO8xPA",
        "colab_type": "code",
        "colab": {}
      },
      "source": [
        "%%capture\n",
        "import sys\n",
        "\n",
        "# If you're on Colab:\n",
        "if 'google.colab' in sys.modules:\n",
        "    DATA_PATH = 'https://raw.githubusercontent.com/LambdaSchool/DS-Unit-2-Applied-Modeling/master/data/'\n",
        "    !pip install category_encoders==2.*\n",
        "    !pip install eli5\n",
        "\n",
        "# If you're working locally:\n",
        "else:\n",
        "    DATA_PATH = '../data/'\n"
      ],
      "execution_count": 0,
      "outputs": []
    },
    {
      "cell_type": "code",
      "metadata": {
        "id": "_-BzGn1Q8xJ5",
        "colab_type": "code",
        "colab": {}
      },
      "source": [
        "# all imports needed for this sheet\n",
        "\n",
        "import numpy as np\n",
        "import pandas as pd\n",
        "from sklearn.model_selection import train_test_split\n",
        "import category_encoders as ce\n",
        "from sklearn.ensemble import RandomForestClassifier\n",
        "from sklearn.impute import SimpleImputer\n",
        "from sklearn.pipeline import make_pipeline\n",
        "from sklearn.feature_selection import f_regression, SelectKBest\n",
        "from sklearn.linear_model import Ridge\n",
        "from sklearn.model_selection import cross_val_score\n",
        "from sklearn.preprocessing import StandardScaler\n",
        "import matplotlib.pyplot as plt\n",
        "from sklearn.model_selection import validation_curve\n",
        "from sklearn.tree import DecisionTreeRegressor\n",
        "import xgboost as xgb\n",
        "\n",
        "%matplotlib inline\n",
        "import seaborn as sns\n",
        "from sklearn.metrics import accuracy_score\n",
        "\n",
        "from sklearn.model_selection import GridSearchCV, RandomizedSearchCV\n"
      ],
      "execution_count": 0,
      "outputs": []
    },
    {
      "cell_type": "code",
      "metadata": {
        "id": "a2kJo70B8uVu",
        "colab_type": "code",
        "colab": {}
      },
      "source": [
        "df = pd.read_excel('/content/ClientTrackExport (10).xlsx')"
      ],
      "execution_count": 0,
      "outputs": []
    },
    {
      "cell_type": "markdown",
      "metadata": {
        "id": "at2PXyZLdSMp",
        "colab_type": "text"
      },
      "source": [
        "I chose \"exit to permanent\" housing as my target due to my belief that accurately predicting this feature would have the largest impact on actual people experiencing homelessness in my county.  Developing and fine tuning an accurate model with our data could also lead to major improvements in our county's efforts at addressing the homelessness problem among singles as well (as our shelter only serves families)"
      ]
    },
    {
      "cell_type": "code",
      "metadata": {
        "id": "B2KJsqos8ww1",
        "colab_type": "code",
        "colab": {}
      },
      "source": [
        "exit_reasons = ['Rental by client with RRH or equivalent subsidy', \n",
        "                'Rental by client, no ongoing housing subsidy', \n",
        "                'Staying or living with family, permanent tenure', \n",
        "                'Rental by client, other ongoing housing subsidy',\n",
        "                'Permanent housing (other than RRH) for formerly homeless persons', \n",
        "                'Staying or living with friends, permanent tenure', \n",
        "                'Owned by client, with ongoing housing subsidy', \n",
        "                'Rental by client, VASH housing Subsidy'\n",
        "               ]"
      ],
      "execution_count": 0,
      "outputs": []
    },
    {
      "cell_type": "code",
      "metadata": {
        "id": "QsqtVTII8wz_",
        "colab_type": "code",
        "colab": {}
      },
      "source": [
        "# pull all exit destinations from main data file and sum up the totals of each destination, \n",
        "# placing them into new df for calculations\n",
        "exits = df['3.12 Exit Destination'].value_counts()"
      ],
      "execution_count": 0,
      "outputs": []
    },
    {
      "cell_type": "code",
      "metadata": {
        "id": "c-Af6pu38w2a",
        "colab_type": "code",
        "colab": {}
      },
      "source": [
        " # create target column (multiple types of exits to perm)\n",
        "df['perm_leaver'] = df['3.12 Exit Destination'].isin(exit_reasons)"
      ],
      "execution_count": 0,
      "outputs": []
    },
    {
      "cell_type": "code",
      "metadata": {
        "id": "UTt-IfGI8w74",
        "colab_type": "code",
        "colab": {}
      },
      "source": [
        "# replace spaces with underscore\n",
        "df.columns = df.columns.str.replace(' ', '_')"
      ],
      "execution_count": 0,
      "outputs": []
    },
    {
      "cell_type": "code",
      "metadata": {
        "id": "NzT4OUv54xke",
        "colab_type": "code",
        "colab": {}
      },
      "source": [
        "df = df.rename(columns = {'Length_of_Time_Homeless_(3.917_Approximate_Start)':'length_homeless', '4.2_Income_Total_at_Entry':'entry_income' \n",
        "                          })"
      ],
      "execution_count": 0,
      "outputs": []
    },
    {
      "cell_type": "markdown",
      "metadata": {
        "id": "lxPUVA6xd6yS",
        "colab_type": "text"
      },
      "source": [
        "If a person were to guess \"did not exit to permanent\" housing every single time, they would be correct approximately 63 percent of the time.  I am hoping that through this project, we will be able to provide more focused case management services to guests that displayed features which my model predicted as contributing negatively toward their chances of having an exit to permanent housing.  It is my hope that a year from now, the base case will be flipped, and you would need to guess \"did exit to permanent housing\" to be correct approximately 63 percent of the time.  "
      ]
    },
    {
      "cell_type": "code",
      "metadata": {
        "id": "u4VkgggW8w5e",
        "colab_type": "code",
        "outputId": "7ac63c8c-c12c-41e0-9737-68d24d1c0414",
        "colab": {
          "base_uri": "https://localhost:8080/",
          "height": 67
        }
      },
      "source": [
        "# base case\n",
        "df['perm_leaver'].value_counts(normalize=True)"
      ],
      "execution_count": 158,
      "outputs": [
        {
          "output_type": "execute_result",
          "data": {
            "text/plain": [
              "False    0.749476\n",
              "True     0.250524\n",
              "Name: perm_leaver, dtype: float64"
            ]
          },
          "metadata": {
            "tags": []
          },
          "execution_count": 158
        }
      ]
    },
    {
      "cell_type": "code",
      "metadata": {
        "id": "rEWG3K_n8w-5",
        "colab_type": "code",
        "outputId": "dd313933-5aa3-4e58-e74a-f2650b82658d",
        "colab": {
          "base_uri": "https://localhost:8080/",
          "height": 34
        }
      },
      "source": [
        "# see size of df prior to dropping empties\n",
        "df.shape"
      ],
      "execution_count": 159,
      "outputs": [
        {
          "output_type": "execute_result",
          "data": {
            "text/plain": [
              "(1908, 148)"
            ]
          },
          "metadata": {
            "tags": []
          },
          "execution_count": 159
        }
      ]
    },
    {
      "cell_type": "code",
      "metadata": {
        "id": "Y9uOhG028xBV",
        "colab_type": "code",
        "colab": {}
      },
      "source": [
        "# drop rows with no exit destination (current guests at time of report)\n",
        "df = df.dropna(subset=['3.12_Exit_Destination'])"
      ],
      "execution_count": 0,
      "outputs": []
    },
    {
      "cell_type": "code",
      "metadata": {
        "id": "NAPNZwYz8xEO",
        "colab_type": "code",
        "outputId": "4fd7fd59-6bf9-4385-b738-72c90855c810",
        "colab": {
          "base_uri": "https://localhost:8080/",
          "height": 34
        }
      },
      "source": [
        "# shape of df after dropping current guests\n",
        "df.shape"
      ],
      "execution_count": 161,
      "outputs": [
        {
          "output_type": "execute_result",
          "data": {
            "text/plain": [
              "(1760, 148)"
            ]
          },
          "metadata": {
            "tags": []
          },
          "execution_count": 161
        }
      ]
    },
    {
      "cell_type": "code",
      "metadata": {
        "id": "r8x_vQCydMnG",
        "colab_type": "code",
        "colab": {}
      },
      "source": [
        "df.to_csv('/content/n_alltime.csv')"
      ],
      "execution_count": 0,
      "outputs": []
    },
    {
      "cell_type": "code",
      "metadata": {
        "id": "OFVtnLpB8xHf",
        "colab_type": "code",
        "outputId": "254178fe-ea19-4347-ab34-6ac8410ea359",
        "colab": {
          "base_uri": "https://localhost:8080/",
          "height": 50
        }
      },
      "source": [
        "# verify no NaN in exit destination feature\n",
        "df['3.12_Exit_Destination'].isna().value_counts()"
      ],
      "execution_count": 163,
      "outputs": [
        {
          "output_type": "execute_result",
          "data": {
            "text/plain": [
              "False    1760\n",
              "Name: 3.12_Exit_Destination, dtype: int64"
            ]
          },
          "metadata": {
            "tags": []
          },
          "execution_count": 163
        }
      ]
    },
    {
      "cell_type": "code",
      "metadata": {
        "id": "zbHak7SQ8xRx",
        "colab_type": "code",
        "colab": {}
      },
      "source": [
        "import numpy as np\n",
        "import pandas as pd\n",
        "from sklearn.model_selection import train_test_split\n",
        "\n",
        "train = df\n",
        "\n",
        "# Split train into train & val\n",
        "#train, val = train_test_split(train, train_size=0.80, test_size=0.20, \n",
        " #                             stratify=train['perm_leaver'], random_state=42)\n",
        "\n",
        "# Do train/test split\n",
        "# Use data from Jan -March 2019 to train\n",
        "# Use data from April 2019 to test\n",
        "df['enroll_date'] = pd.to_datetime(df['3.10_Enroll_Date'], infer_datetime_format=True)\n",
        "cutoff = pd.to_datetime('2019-01-01')\n",
        "train = df[df.enroll_date < cutoff]\n",
        "test  = df[df.enroll_date >= cutoff]\n",
        "\n",
        "\n",
        "\n",
        "\n",
        "def wrangle(X):\n",
        "    \"\"\"Wrangle train, validate, and test sets in the same way\"\"\"\n",
        "    \n",
        "    # Prevent SettingWithCopyWarning\n",
        "    X = X.copy()\n",
        "    \n",
        "    # drop any private information\n",
        "    X = X.drop(columns=['3.1_FirstName', '3.1_LastName', '3.2_SocSecNo', \n",
        "                      '3.3_Birthdate', 'V5_Prior_Address'])\n",
        "    \n",
        "    # drop unusable columns\n",
        "    X = X.drop(columns=['2.1_Organization_Name', '2.4_ProjectType',\n",
        "                        'WorkSource_Referral_Most_Recent', 'YAHP_Referral_Most_Recent',\n",
        "                        'SOAR_Enrollment_Determination_(Most_Recent)',\n",
        "                        'R7_General_Health_Status', 'R8_Dental_Health_Status',\n",
        "                        'R9_Mental_Health_Status', 'RRH_Date_Of_Move-In',\n",
        "                        'RRH_In_Permanent_Housing', 'R10_Pregnancy_Due_Date',\n",
        "                        'R10_Pregnancy_Status', 'R1_Referral_Source',\n",
        "                        'R2_Date_Status_Determined', 'R2_Enroll_Status',\n",
        "                        'R2_Reason_Why_No_Services_Funded', 'R2_Runaway_Youth',\n",
        "                        'R3_Sexual_Orientation', '2.5_Utilization_Tracking_Method_(Invalid)',\n",
        "                        '2.2_Project_Name', '2.6_Federal_Grant_Programs', '3.16_Client_Location',\n",
        "                        '3.917_Stayed_Less_Than_90_Days', \n",
        "                        '3.917b_Stayed_in_Streets,_ES_or_SH_Night_Before', \n",
        "                        '3.917b_Stayed_Less_Than_7_Nights', '4.24_In_School_(Retired_Data_Element)',\n",
        "                        'CaseChildren', 'ClientID', 'HEN-HP_Referral_Most_Recent',\n",
        "                        'HEN-RRH_Referral_Most_Recent', 'Emergency_Shelter_|_Most_Recent_Enrollment',\n",
        "                        'ProgramType', 'Days_Enrolled_Until_RRH_Date_of_Move-in',\n",
        "                        'CurrentDate', 'Current_Age', 'Count_of_Bed_Nights_-_Entire_Episode',\n",
        "                        'Bed_Nights_During_Report_Period'])\n",
        "        \n",
        "    # drop rows with no exit destination (current guests at time of report)\n",
        "    X = X.dropna(subset=['3.12_Exit_Destination'])\n",
        "    \n",
        "    # remove columns to avoid data leakage\n",
        "    X = X.drop(columns=['3.12_Exit_Destination', '5.9_Household_ID', '5.8_Personal_ID',\n",
        "                       '4.2_Income_Total_at_Exit', '4.3_Non-Cash_Benefit_Count_at_Exit'])\n",
        "    \n",
        "    # Drop needless feature\n",
        "    unusable_variance = ['Enrollment_Created_By', '4.24_Current_Status_(Retired_Data_Element)']\n",
        "    X = X.drop(columns=unusable_variance)\n",
        "\n",
        "    # Drop columns with timestamp\n",
        "    timestamp_columns = ['3.10_Enroll_Date', '3.11_Exit_Date', \n",
        "                         'Date_of_Last_ES_Stay_(Beta)', 'Date_of_First_ES_Stay_(Beta)', \n",
        "                         'Prevention_|_Most_Recent_Enrollment', 'PSH_|_Most_Recent_Enrollment', \n",
        "                         'Transitional_Housing_|_Most_Recent_Enrollment', 'Coordinated_Entry_|_Most_Recent_Enrollment', \n",
        "                         'Street_Outreach_|_Most_Recent_Enrollment', 'RRH_|_Most_Recent_Enrollment', \n",
        "                         'SOAR_Eligibility_Determination_(Most_Recent)', 'Date_of_First_Contact_(Beta)',\n",
        "                         'Date_of_Last_Contact_(Beta)', '4.13_Engagement_Date', '4.11_Domestic_Violence_-_When_it_Occurred',\n",
        "                         '3.917_Homeless_Start_Date']\n",
        "    X = X.drop(columns=timestamp_columns)\n",
        "    \n",
        "    # return the wrangled dataframe\n",
        "    return X\n",
        "\n"
      ],
      "execution_count": 0,
      "outputs": []
    },
    {
      "cell_type": "code",
      "metadata": {
        "id": "ws1GKUh0lFom",
        "colab_type": "code",
        "colab": {
          "base_uri": "https://localhost:8080/",
          "height": 34
        },
        "outputId": "fe391ec3-cea8-4700-d0c2-5b4c513e25e7"
      },
      "source": [
        "train.shape"
      ],
      "execution_count": 197,
      "outputs": [
        {
          "output_type": "execute_result",
          "data": {
            "text/plain": [
              "(1208, 149)"
            ]
          },
          "metadata": {
            "tags": []
          },
          "execution_count": 197
        }
      ]
    },
    {
      "cell_type": "code",
      "metadata": {
        "id": "LEqnrYxplHs-",
        "colab_type": "code",
        "colab": {
          "base_uri": "https://localhost:8080/",
          "height": 34
        },
        "outputId": "972a7d47-6d2b-4013-d231-8ef58add6773"
      },
      "source": [
        "test.shape"
      ],
      "execution_count": 198,
      "outputs": [
        {
          "output_type": "execute_result",
          "data": {
            "text/plain": [
              "(552, 149)"
            ]
          },
          "metadata": {
            "tags": []
          },
          "execution_count": 198
        }
      ]
    },
    {
      "cell_type": "code",
      "metadata": {
        "id": "HL724tgM8xUx",
        "colab_type": "code",
        "colab": {}
      },
      "source": [
        "train = wrangle(train)\n",
        "val = wrangle(val)"
      ],
      "execution_count": 0,
      "outputs": []
    },
    {
      "cell_type": "code",
      "metadata": {
        "id": "_pCiVV8Q8xZr",
        "colab_type": "code",
        "colab": {}
      },
      "source": [
        "# Hand pick features only known at entry to avoid data leakage\n",
        "features = ['CaseMembers',\n",
        "       '3.2_Social_Security_Quality', '3.3_Birthdate_Quality',\n",
        "       'Age_at_Enrollment', '3.4_Race', '3.5_Ethnicity', '3.6_Gender',\n",
        "       '3.7_Veteran_Status', '3.8_Disabling_Condition_at_Entry',\n",
        "       '3.917_Living_Situation', 'length_homeless',\n",
        "       '3.917_Times_Homeless_Last_3_Years', '3.917_Total_Months_Homeless_Last_3_Years', \n",
        "       'V5_Last_Permanent_Address', 'V5_State', 'V5_Zip', 'Municipality_(City_or_County)',\n",
        "       '4.1_Housing_Status', '4.4_Covered_by_Health_Insurance', '4.11_Domestic_Violence',\n",
        "       '4.11_Domestic_Violence_-_Currently_Fleeing_DV?', 'Household_Type', \n",
        "       'R4_Last_Grade_Completed', 'R5_School_Status',\n",
        "       'R6_Employed_Status', 'R6_Why_Not_Employed', 'R6_Type_of_Employment',\n",
        "       'R6_Looking_for_Work', 'entry_income',\n",
        "       '4.3_Non-Cash_Benefit_Count', 'Barrier_Count_at_Entry',\n",
        "       'Chronic_Homeless_Status', 'Under_25_Years_Old',\n",
        "       '4.10_Alcohol_Abuse_(Substance_Abuse)', '4.07_Chronic_Health_Condition',\n",
        "       '4.06_Developmental_Disability', '4.10_Drug_Abuse_(Substance_Abuse)',\n",
        "       '4.08_HIV/AIDS', '4.09_Mental_Health_Problem',\n",
        "       '4.05_Physical_Disability'\n",
        "          ]\n"
      ],
      "execution_count": 0,
      "outputs": []
    },
    {
      "cell_type": "code",
      "metadata": {
        "id": "LNd3vKxZeByk",
        "colab_type": "code",
        "colab": {}
      },
      "source": [
        "target = 'perm_leaver'\n",
        "X_train = train[features]\n",
        "y_train = train[target]\n",
        "X_test = test[features]\n",
        "y_test = test[target]"
      ],
      "execution_count": 0,
      "outputs": []
    },
    {
      "cell_type": "code",
      "metadata": {
        "id": "euml4xp0bBSn",
        "colab_type": "code",
        "outputId": "1c2c465b-ca7a-45a2-beba-8b95451c004b",
        "colab": {
          "base_uri": "https://localhost:8080/",
          "height": 67
        }
      },
      "source": [
        "# base case\n",
        "df['perm_leaver'].value_counts(normalize=True)"
      ],
      "execution_count": 201,
      "outputs": [
        {
          "output_type": "execute_result",
          "data": {
            "text/plain": [
              "False    0.728409\n",
              "True     0.271591\n",
              "Name: perm_leaver, dtype: float64"
            ]
          },
          "metadata": {
            "tags": []
          },
          "execution_count": 201
        }
      ]
    },
    {
      "cell_type": "code",
      "metadata": {
        "id": "6AGvq76T8xhq",
        "colab_type": "code",
        "outputId": "d8fa1232-2edd-4aea-b048-ab6470ce5cb6",
        "colab": {
          "base_uri": "https://localhost:8080/",
          "height": 34
        }
      },
      "source": [
        "# fit linear model to get a 3 on Sprint\n",
        "\n",
        "from sklearn.linear_model import LogisticRegression\n",
        "\n",
        "encoder = ce.OneHotEncoder(use_cat_names=True)\n",
        "X_train_encoded = encoder.fit_transform(X_train)\n",
        "X_test_encoded = encoder.transform(X_test)\n",
        "\n",
        "\n",
        "imputer = SimpleImputer()\n",
        "X_train_imputed = imputer.fit_transform(X_train_encoded)\n",
        "X_test_imputed = imputer.transform(X_test_encoded)\n",
        "\n",
        "scaler = StandardScaler()\n",
        "X_train_scaled = scaler.fit_transform(X_train_imputed)\n",
        "X_test_scaled = scaler.transform(X_test_imputed)\n",
        "\n",
        "model = LogisticRegression(random_state=42, max_iter=5000)\n",
        "model.fit(X_train_scaled, y_train)\n",
        "print ('Validation Accuracy', model.score(X_test_scaled,y_test))"
      ],
      "execution_count": 214,
      "outputs": [
        {
          "output_type": "stream",
          "text": [
            "Validation Accuracy 0.6141304347826086\n"
          ],
          "name": "stdout"
        }
      ]
    },
    {
      "cell_type": "markdown",
      "metadata": {
        "id": "aXn29R7mei5f",
        "colab_type": "text"
      },
      "source": [
        "Linear model above beat the baseline model, now let's see if we can get even more accurate with a tree-based model"
      ]
    },
    {
      "cell_type": "code",
      "metadata": {
        "id": "kQCd-IUY8xm1",
        "colab_type": "code",
        "outputId": "c162f49e-a1b0-4212-e6cc-728aa64ba957",
        "colab": {
          "base_uri": "https://localhost:8080/",
          "height": 34
        }
      },
      "source": [
        "import category_encoders as ce\n",
        "from sklearn.impute import SimpleImputer\n",
        "from sklearn.ensemble import RandomForestClassifier\n",
        "from sklearn.model_selection import train_test_split\n",
        "from sklearn.pipeline import make_pipeline\n",
        "from sklearn.ensemble import GradientBoostingClassifier\n",
        "\n",
        "# Make pipeline!\n",
        "pipeline = make_pipeline(\n",
        "    ce.OrdinalEncoder(), \n",
        "    SimpleImputer(strategy='most_frequent'), \n",
        "    RandomForestClassifier(n_estimators=100, n_jobs=-1, \n",
        "                           random_state=42, \n",
        "                       )\n",
        ")\n",
        "\n",
        "# Fit on train, score on val\n",
        "pipeline.fit(X_train, y_train)\n",
        "y_pred = pipeline.predict(X_test)\n",
        "print('Validation Accuracy', accuracy_score(y_test, y_pred))"
      ],
      "execution_count": 209,
      "outputs": [
        {
          "output_type": "stream",
          "text": [
            "Validation Accuracy 0.7717391304347826\n"
          ],
          "name": "stdout"
        }
      ]
    },
    {
      "cell_type": "code",
      "metadata": {
        "id": "TZzrEAg5I8q0",
        "colab_type": "code",
        "colab": {
          "base_uri": "https://localhost:8080/",
          "height": 34
        },
        "outputId": "22522a7a-f8fe-4328-ec3e-beb06a16f9e4"
      },
      "source": [
        "from joblib import dump\n",
        "dump(pipeline, 'pipeline.joblib', compress=True)"
      ],
      "execution_count": 171,
      "outputs": [
        {
          "output_type": "execute_result",
          "data": {
            "text/plain": [
              "['pipeline.joblib']"
            ]
          },
          "metadata": {
            "tags": []
          },
          "execution_count": 171
        }
      ]
    },
    {
      "cell_type": "code",
      "metadata": {
        "id": "L6N3Y6aw8xph",
        "colab_type": "code",
        "outputId": "3ea32989-1da9-405b-b3f1-d7844799357e",
        "colab": {
          "base_uri": "https://localhost:8080/",
          "height": 607
        }
      },
      "source": [
        "# get and plot feature importances\n",
        "\n",
        "# Linear models have coefficients whereas decision trees have \"Feature Importances\"\n",
        "import matplotlib.pyplot as plt\n",
        "\n",
        "model = pipeline.named_steps['randomforestclassifier']\n",
        "encoder = pipeline.named_steps['ordinalencoder']\n",
        "encoded_columns = encoder.transform(X_val).columns\n",
        "importances = pd.Series(model.feature_importances_, encoded_columns)\n",
        "n = 20\n",
        "plt.figure(figsize=(10,n/2))\n",
        "plt.title(f'Top {n} features')\n",
        "importances.sort_values()[-n:].plot.barh(color='grey');"
      ],
      "execution_count": 204,
      "outputs": [
        {
          "output_type": "display_data",
          "data": {
            "image/png": "[encoded data removed]",
            "text/plain": [
              "<Figure size 720x720 with 1 Axes>"
            ]
          },
          "metadata": {
            "tags": []
          }
        }
      ]
    },
    {
      "cell_type": "code",
      "metadata": {
        "id": "da3rxHRB8xvG",
        "colab_type": "code",
        "outputId": "ec98a5d8-aac0-4342-97af-c323d7e46340",
        "colab": {
          "base_uri": "https://localhost:8080/",
          "height": 34
        }
      },
      "source": [
        "# cross validation \n",
        "\n",
        "k = 3\n",
        "scores = cross_val_score(pipeline, X_train, y_train, cv=k, \n",
        "                         scoring='accuracy')\n",
        "print(f'MAE for {k} folds:', -scores)"
      ],
      "execution_count": 173,
      "outputs": [
        {
          "output_type": "stream",
          "text": [
            "MAE for 3 folds: [-0.73829787 -0.75266525 -0.74413646]\n"
          ],
          "name": "stdout"
        }
      ]
    },
    {
      "cell_type": "code",
      "metadata": {
        "id": "wNGa9Q8o8xk9",
        "colab_type": "code",
        "outputId": "159c713f-0d33-46da-b947-dc73cc4b97b4",
        "colab": {
          "base_uri": "https://localhost:8080/",
          "height": 34
        }
      },
      "source": [
        "-scores.mean()"
      ],
      "execution_count": 174,
      "outputs": [
        {
          "output_type": "execute_result",
          "data": {
            "text/plain": [
              "-0.7450331926991183"
            ]
          },
          "metadata": {
            "tags": []
          },
          "execution_count": 174
        }
      ]
    },
    {
      "cell_type": "markdown",
      "metadata": {
        "id": "g7BvzrXxet1G",
        "colab_type": "text"
      },
      "source": [
        "Now that we have beaten the linear model with a tree based model, let us see if xgboost does a better job at predicting exit destination"
      ]
    },
    {
      "cell_type": "code",
      "metadata": {
        "id": "NAs8acMU8xNa",
        "colab_type": "code",
        "outputId": "090387e8-dd39-4efd-856c-af75247a7e15",
        "colab": {
          "base_uri": "https://localhost:8080/",
          "height": 34
        }
      },
      "source": [
        "\n",
        "\n",
        "from xgboost import XGBClassifier\n",
        "\n",
        "pipeline = make_pipeline(\n",
        "    ce.OrdinalEncoder(),\n",
        "    XGBClassifier(n_estimators=100, random_state=42, n_jobs=-1)\n",
        ")\n",
        "\n",
        "# Fit on train, score on val\n",
        "pipeline.fit(X_train, y_train)\n",
        "print('Validation Accuracy:', pipeline.score(X_test, y_test))"
      ],
      "execution_count": 212,
      "outputs": [
        {
          "output_type": "stream",
          "text": [
            "Validation Accuracy: 0.7119565217391305\n"
          ],
          "name": "stdout"
        }
      ]
    },
    {
      "cell_type": "markdown",
      "metadata": {
        "id": "TNODOwwffA5u",
        "colab_type": "text"
      },
      "source": [
        "xgboost failed to beat my tree-based model, so the tree-based model is what I will use for my prediction on my web-app"
      ]
    },
    {
      "cell_type": "code",
      "metadata": {
        "id": "dAir9Q28k72U",
        "colab_type": "code",
        "outputId": "af12f4e0-8379-4ca8-ab32-c6a68f5bbc70",
        "colab": {
          "base_uri": "https://localhost:8080/",
          "height": 229
        }
      },
      "source": [
        "# get and plot feature importances\n",
        "\n",
        "# Linear models have coefficients whereas decision trees have \"Feature Importances\"\n",
        "import matplotlib.pyplot as plt\n",
        "\n",
        "model = pipeline.named_steps['xgbclassifier']\n",
        "encoder = pipeline.named_steps['ordinalencoder']\n",
        "encoded_columns = encoder.transform(X_val).columns\n",
        "importances = pd.Series(model.feature_importances_, encoded_columns)\n",
        "n = 20\n",
        "plt.figure(figsize=(10,n/2))\n",
        "plt.title(f'Top {n} features')\n",
        "importances.sort_values()[-n:].plot.barh(color='grey');\n",
        "\n"
      ],
      "execution_count": 211,
      "outputs": [
        {
          "output_type": "error",
          "ename": "KeyError",
          "evalue": "ignored",
          "traceback": [
            "\u001b[0;31m---------------------------------------------------------------------------\u001b[0m",
            "\u001b[0;31mKeyError\u001b[0m                                  Traceback (most recent call last)",
            "\u001b[0;32m<ipython-input-211-1eaa046db9d4>\u001b[0m in \u001b[0;36m<module>\u001b[0;34m()\u001b[0m\n\u001b[1;32m      1\u001b[0m \u001b[0;32mimport\u001b[0m \u001b[0mmatplotlib\u001b[0m\u001b[0;34m.\u001b[0m\u001b[0mpyplot\u001b[0m \u001b[0;32mas\u001b[0m \u001b[0mplt\u001b[0m\u001b[0;34m\u001b[0m\u001b[0;34m\u001b[0m\u001b[0m\n\u001b[1;32m      2\u001b[0m \u001b[0;34m\u001b[0m\u001b[0m\n\u001b[0;32m----> 3\u001b[0;31m \u001b[0mmodel\u001b[0m \u001b[0;34m=\u001b[0m \u001b[0mpipeline\u001b[0m\u001b[0;34m.\u001b[0m\u001b[0mnamed_steps\u001b[0m\u001b[0;34m[\u001b[0m\u001b[0;34m'xgbclassifier'\u001b[0m\u001b[0;34m]\u001b[0m\u001b[0;34m\u001b[0m\u001b[0;34m\u001b[0m\u001b[0m\n\u001b[0m\u001b[1;32m      4\u001b[0m \u001b[0mencoder\u001b[0m \u001b[0;34m=\u001b[0m \u001b[0mpipeline\u001b[0m\u001b[0;34m.\u001b[0m\u001b[0mnamed_steps\u001b[0m\u001b[0;34m[\u001b[0m\u001b[0;34m'ordinalencoder'\u001b[0m\u001b[0;34m]\u001b[0m\u001b[0;34m\u001b[0m\u001b[0;34m\u001b[0m\u001b[0m\n\u001b[1;32m      5\u001b[0m \u001b[0mencoded_columns\u001b[0m \u001b[0;34m=\u001b[0m \u001b[0mencoder\u001b[0m\u001b[0;34m.\u001b[0m\u001b[0mtransform\u001b[0m\u001b[0;34m(\u001b[0m\u001b[0mX_val\u001b[0m\u001b[0;34m)\u001b[0m\u001b[0;34m.\u001b[0m\u001b[0mcolumns\u001b[0m\u001b[0;34m\u001b[0m\u001b[0;34m\u001b[0m\u001b[0m\n",
            "\u001b[0;31mKeyError\u001b[0m: 'xgbclassifier'"
          ]
        }
      ]
    },
    {
      "cell_type": "code",
      "metadata": {
        "id": "H64KEtMqUSJa",
        "colab_type": "code",
        "colab": {
          "base_uri": "https://localhost:8080/",
          "height": 296
        },
        "outputId": "8d6d8f44-edc3-44ff-98f4-9e24e2e42f2a"
      },
      "source": [
        "history = pd.read_csv('/content/n_alltime.csv')\n",
        "\n",
        "\n",
        "\n",
        "\n",
        "# Assign to X, y to avoid data leakage\n",
        "features = ['CaseMembers',\n",
        "       '3.2_Social_Security_Quality', '3.3_Birthdate_Quality',\n",
        "       'Age_at_Enrollment', '3.4_Race', '3.5_Ethnicity', '3.6_Gender',\n",
        "       '3.7_Veteran_Status', '3.8_Disabling_Condition_at_Entry',\n",
        "       '3.917_Living_Situation', 'length_homeless',\n",
        "       '3.917_Times_Homeless_Last_3_Years', '3.917_Total_Months_Homeless_Last_3_Years', \n",
        "       'V5_Last_Permanent_Address', 'V5_State', 'V5_Zip', 'Municipality_(City_or_County)',\n",
        "       '4.1_Housing_Status', '4.4_Covered_by_Health_Insurance', '4.11_Domestic_Violence',\n",
        "       '4.11_Domestic_Violence_-_Currently_Fleeing_DV?', 'Household_Type', \n",
        "       'R4_Last_Grade_Completed', 'R5_School_Status',\n",
        "       'R6_Employed_Status', 'R6_Why_Not_Employed', 'R6_Type_of_Employment',\n",
        "       'R6_Looking_for_Work', 'entry_income',\n",
        "       '4.3_Non-Cash_Benefit_Count', 'Barrier_Count_at_Entry',\n",
        "       'Chronic_Homeless_Status', 'Under_25_Years_Old',\n",
        "       '4.10_Alcohol_Abuse_(Substance_Abuse)', '4.07_Chronic_Health_Condition',\n",
        "       '4.06_Developmental_Disability', '4.10_Drug_Abuse_(Substance_Abuse)',\n",
        "       '4.08_HIV/AIDS', '4.09_Mental_Health_Problem',\n",
        "       '4.05_Physical_Disability', 'perm_leaver'\n",
        "          ]\n",
        "\n",
        "\n",
        "X = history[features]\n",
        "X = X.drop(columns='perm_leaver')\n",
        "\n",
        "\n",
        "\n",
        "y_pred = pipeline.predict(X)\n",
        "\n",
        "\n",
        "fig, ax = plt.subplots()\n",
        "sns.distplot(history['perm_leaver'], hist=False, kde=True, ax=ax, label='Actual')\n",
        "sns.distplot(y_pred, hist=False, kde=True, ax=ax, label='Predicted')\n",
        "ax.set_title('Distribution of Actual Exit compared to prediction')\n",
        "ax.legend().set_visible(True)\n",
        "#plotly_fig = mpl_to_plotly(fig)\n",
        "#plotly_fig['layout']['showlegend'] = True"
      ],
      "execution_count": 215,
      "outputs": [
        {
          "output_type": "display_data",
          "data": {
            "image/png": "[encoded data removed]",
            "text/plain": [
              "<Figure size 432x288 with 1 Axes>"
            ]
          },
          "metadata": {
            "tags": []
          }
        }
      ]
    },
    {
      "cell_type": "code",
      "metadata": {
        "id": "PTfWmgdBUw5X",
        "colab_type": "code",
        "colab": {
          "base_uri": "https://localhost:8080/",
          "height": 34
        },
        "outputId": "d40918f5-7a1d-4aae-f49b-58a51096cfc5"
      },
      "source": [
        "y_pred.shape"
      ],
      "execution_count": 184,
      "outputs": [
        {
          "output_type": "execute_result",
          "data": {
            "text/plain": [
              "(1760,)"
            ]
          },
          "metadata": {
            "tags": []
          },
          "execution_count": 184
        }
      ]
    },
    {
      "cell_type": "code",
      "metadata": {
        "id": "3bkuUT8jU2_B",
        "colab_type": "code",
        "colab": {
          "base_uri": "https://localhost:8080/",
          "height": 67
        },
        "outputId": "57641b17-8297-4181-e2b2-2fb182fcd190"
      },
      "source": [
        "history['perm_leaver'].value_counts()"
      ],
      "execution_count": 185,
      "outputs": [
        {
          "output_type": "execute_result",
          "data": {
            "text/plain": [
              "False    1282\n",
              "True      478\n",
              "Name: perm_leaver, dtype: int64"
            ]
          },
          "metadata": {
            "tags": []
          },
          "execution_count": 185
        }
      ]
    },
    {
      "cell_type": "code",
      "metadata": {
        "id": "v36aNqhnU6ld",
        "colab_type": "code",
        "colab": {
          "base_uri": "https://localhost:8080/",
          "height": 34
        },
        "outputId": "68ff99c8-f3a3-4457-eddb-0859b82229b6"
      },
      "source": [
        "1282+478"
      ],
      "execution_count": 186,
      "outputs": [
        {
          "output_type": "execute_result",
          "data": {
            "text/plain": [
              "1760"
            ]
          },
          "metadata": {
            "tags": []
          },
          "execution_count": 186
        }
      ]
    },
    {
      "cell_type": "code",
      "metadata": {
        "id": "8SJr32LyVOHx",
        "colab_type": "code",
        "colab": {
          "base_uri": "https://localhost:8080/",
          "height": 34
        },
        "outputId": "421eb2c6-2877-4339-97ae-97cd4dee73a4"
      },
      "source": [
        "from joblib import dump\n",
        "dump(pipeline, 'pipeline2.joblib', compress=True)"
      ],
      "execution_count": 216,
      "outputs": [
        {
          "output_type": "execute_result",
          "data": {
            "text/plain": [
              "['pipeline2.joblib']"
            ]
          },
          "metadata": {
            "tags": []
          },
          "execution_count": 216
        }
      ]
    }
  ]
}