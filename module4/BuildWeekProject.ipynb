{
  "nbformat": 4,
  "nbformat_minor": 0,
  "metadata": {
    "colab": {
      "name": "BuildWeekProject.ipynb",
      "provenance": [],
      "authorship_tag": "ABX9TyPX1tUbAIwrQK6DZi5HwZKX",
      "include_colab_link": true
    },
    "kernelspec": {
      "name": "python3",
      "display_name": "Python 3"
    }
  },
  "cells": [
    {
      "cell_type": "markdown",
      "metadata": {
        "id": "view-in-github",
        "colab_type": "text"
      },
      "source": [
        "<a href=\"https://colab.research.google.com/github/iesous-kurios/DS-Unit-2-Applied-Modeling/blob/master/module4/BuildWeekProject.ipynb\" target=\"_parent\"><img src=\"https://colab.research.google.com/assets/colab-badge.svg\" alt=\"Open In Colab\"/></a>"
      ]
    },
    {
      "cell_type": "code",
      "metadata": {
        "id": "ONvPALrO8xPA",
        "colab_type": "code",
        "colab": {}
      },
      "source": [
        "%%capture\n",
        "import sys\n",
        "\n",
        "# If you're on Colab:\n",
        "if 'google.colab' in sys.modules:\n",
        "    DATA_PATH = 'https://raw.githubusercontent.com/LambdaSchool/DS-Unit-2-Applied-Modeling/master/data/'\n",
        "    !pip install category_encoders==2.*\n",
        "    !pip install eli5\n",
        "\n",
        "# If you're working locally:\n",
        "else:\n",
        "    DATA_PATH = '../data/'\n"
      ],
      "execution_count": 0,
      "outputs": []
    },
    {
      "cell_type": "code",
      "metadata": {
        "id": "_-BzGn1Q8xJ5",
        "colab_type": "code",
        "colab": {}
      },
      "source": [
        "# all imports needed for this sheet\n",
        "\n",
        "import numpy as np\n",
        "import pandas as pd\n",
        "from sklearn.model_selection import train_test_split\n",
        "import category_encoders as ce\n",
        "from sklearn.ensemble import RandomForestClassifier\n",
        "from sklearn.impute import SimpleImputer\n",
        "from sklearn.pipeline import make_pipeline\n",
        "from sklearn.feature_selection import f_regression, SelectKBest\n",
        "from sklearn.linear_model import Ridge\n",
        "from sklearn.model_selection import cross_val_score\n",
        "from sklearn.preprocessing import StandardScaler\n",
        "import matplotlib.pyplot as plt\n",
        "from sklearn.model_selection import validation_curve\n",
        "from sklearn.tree import DecisionTreeRegressor\n",
        "import xgboost as xgb\n",
        "\n",
        "%matplotlib inline\n",
        "import seaborn as sns\n",
        "from sklearn.metrics import accuracy_score\n",
        "\n",
        "from sklearn.model_selection import GridSearchCV, RandomizedSearchCV\n"
      ],
      "execution_count": 0,
      "outputs": []
    },
    {
      "cell_type": "code",
      "metadata": {
        "id": "a2kJo70B8uVu",
        "colab_type": "code",
        "colab": {}
      },
      "source": [
        "df = pd.read_excel('/content/pipeline_pickle.xlsx')"
      ],
      "execution_count": 0,
      "outputs": []
    },
    {
      "cell_type": "markdown",
      "metadata": {
        "id": "at2PXyZLdSMp",
        "colab_type": "text"
      },
      "source": [
        "I chose \"exit to permanent\" housing as my target due to my belief that accurately predicting this feature would have the largest impact on actual people experiencing homelessness in my county.  Developing and fine tuning an accurate model with our data could also lead to major improvements in our county's efforts at addressing the homelessness problem among singles as well (as our shelter only serves families)"
      ]
    },
    {
      "cell_type": "code",
      "metadata": {
        "id": "B2KJsqos8ww1",
        "colab_type": "code",
        "colab": {}
      },
      "source": [
        "exit_reasons = ['Rental by client with RRH or equivalent subsidy', \n",
        "                'Rental by client, no ongoing housing subsidy', \n",
        "                'Staying or living with family, permanent tenure', \n",
        "                'Rental by client, other ongoing housing subsidy',\n",
        "                'Permanent housing (other than RRH) for formerly homeless persons', \n",
        "                'Staying or living with friends, permanent tenure', \n",
        "                'Owned by client, with ongoing housing subsidy', \n",
        "                'Rental by client, VASH housing Subsidy'\n",
        "               ]"
      ],
      "execution_count": 0,
      "outputs": []
    },
    {
      "cell_type": "code",
      "metadata": {
        "id": "QsqtVTII8wz_",
        "colab_type": "code",
        "colab": {}
      },
      "source": [
        "# pull all exit destinations from main data file and sum up the totals of each destination, \n",
        "# placing them into new df for calculations\n",
        "exits = df['3.12 Exit Destination'].value_counts()"
      ],
      "execution_count": 0,
      "outputs": []
    },
    {
      "cell_type": "code",
      "metadata": {
        "id": "c-Af6pu38w2a",
        "colab_type": "code",
        "colab": {}
      },
      "source": [
        " # create target column (multiple types of exits to perm)\n",
        "df['perm_leaver'] = df['3.12 Exit Destination'].isin(exit_reasons)"
      ],
      "execution_count": 0,
      "outputs": []
    },
    {
      "cell_type": "code",
      "metadata": {
        "id": "UTt-IfGI8w74",
        "colab_type": "code",
        "colab": {}
      },
      "source": [
        "# replace spaces with underscore\n",
        "df.columns = df.columns.str.replace(' ', '_')"
      ],
      "execution_count": 0,
      "outputs": []
    },
    {
      "cell_type": "code",
      "metadata": {
        "id": "NzT4OUv54xke",
        "colab_type": "code",
        "colab": {}
      },
      "source": [
        "df = df.rename(columns = {'Length_of_Time_Homeless_(3.917_Approximate_Start)':'length_homeless', '4.2_Income_Total_at_Entry':'entry_income' \n",
        "                          })"
      ],
      "execution_count": 0,
      "outputs": []
    },
    {
      "cell_type": "markdown",
      "metadata": {
        "id": "lxPUVA6xd6yS",
        "colab_type": "text"
      },
      "source": [
        "If a person were to guess \"did not exit to permanent\" housing every single time, they would be correct approximately 63 percent of the time.  I am hoping that through this project, we will be able to provide more focused case management services to guests that displayed features which my model predicted as contributing negatively toward their chances of having an exit to permanent housing.  It is my hope that a year from now, the base case will be flipped, and you would need to guess \"did exit to permanent housing\" to be correct approximately 63 percent of the time.  "
      ]
    },
    {
      "cell_type": "code",
      "metadata": {
        "id": "u4VkgggW8w5e",
        "colab_type": "code",
        "outputId": "fa8e0b09-7af6-4fa8-b2c8-9d539a2c1f40",
        "colab": {
          "base_uri": "https://localhost:8080/",
          "height": 68
        }
      },
      "source": [
        "# base case\n",
        "df['perm_leaver'].value_counts(normalize=True)"
      ],
      "execution_count": 9,
      "outputs": [
        {
          "output_type": "execute_result",
          "data": {
            "text/plain": [
              "False    0.7586\n",
              "True     0.2414\n",
              "Name: perm_leaver, dtype: float64"
            ]
          },
          "metadata": {
            "tags": []
          },
          "execution_count": 9
        }
      ]
    },
    {
      "cell_type": "code",
      "metadata": {
        "id": "rEWG3K_n8w-5",
        "colab_type": "code",
        "outputId": "3ec4cbea-d24c-4e70-db61-86c1f1d16b22",
        "colab": {
          "base_uri": "https://localhost:8080/",
          "height": 34
        }
      },
      "source": [
        "# see size of df prior to dropping empties\n",
        "df.shape"
      ],
      "execution_count": 10,
      "outputs": [
        {
          "output_type": "execute_result",
          "data": {
            "text/plain": [
              "(1628, 153)"
            ]
          },
          "metadata": {
            "tags": []
          },
          "execution_count": 10
        }
      ]
    },
    {
      "cell_type": "code",
      "metadata": {
        "id": "Y9uOhG028xBV",
        "colab_type": "code",
        "colab": {}
      },
      "source": [
        "# drop rows with no exit destination (current guests at time of report)\n",
        "df = df.dropna(subset=['3.12_Exit_Destination'])"
      ],
      "execution_count": 0,
      "outputs": []
    },
    {
      "cell_type": "code",
      "metadata": {
        "id": "NAPNZwYz8xEO",
        "colab_type": "code",
        "outputId": "e2da1fff-243b-41a9-8a85-7dbb7b9412ed",
        "colab": {
          "base_uri": "https://localhost:8080/",
          "height": 34
        }
      },
      "source": [
        "# shape of df after dropping current guests\n",
        "df.shape"
      ],
      "execution_count": 12,
      "outputs": [
        {
          "output_type": "execute_result",
          "data": {
            "text/plain": [
              "(1497, 153)"
            ]
          },
          "metadata": {
            "tags": []
          },
          "execution_count": 12
        }
      ]
    },
    {
      "cell_type": "code",
      "metadata": {
        "id": "r8x_vQCydMnG",
        "colab_type": "code",
        "colab": {}
      },
      "source": [
        "df.to_csv('/content/n_alltime.csv')"
      ],
      "execution_count": 0,
      "outputs": []
    },
    {
      "cell_type": "code",
      "metadata": {
        "id": "OFVtnLpB8xHf",
        "colab_type": "code",
        "outputId": "5f5b319d-653a-4306-b9eb-68d6d9779b19",
        "colab": {
          "base_uri": "https://localhost:8080/",
          "height": 51
        }
      },
      "source": [
        "# verify no NaN in exit destination feature\n",
        "df['3.12_Exit_Destination'].isna().value_counts()"
      ],
      "execution_count": 14,
      "outputs": [
        {
          "output_type": "execute_result",
          "data": {
            "text/plain": [
              "False    1497\n",
              "Name: 3.12_Exit_Destination, dtype: int64"
            ]
          },
          "metadata": {
            "tags": []
          },
          "execution_count": 14
        }
      ]
    },
    {
      "cell_type": "code",
      "metadata": {
        "id": "zbHak7SQ8xRx",
        "colab_type": "code",
        "colab": {}
      },
      "source": [
        "import numpy as np\n",
        "import pandas as pd\n",
        "from sklearn.model_selection import train_test_split\n",
        "\n",
        "train = df\n",
        "\n",
        "# Split train into train & val\n",
        "#train, val = train_test_split(train, train_size=0.80, test_size=0.20, \n",
        " #                             stratify=train['perm_leaver'], random_state=42)\n",
        "\n",
        "# Do train/test split\n",
        "# Use data from Jan -March 2019 to train\n",
        "# Use data from April 2019 to test\n",
        "df['enroll_date'] = pd.to_datetime(df['3.10_Enroll_Date'], infer_datetime_format=True)\n",
        "cutoff = pd.to_datetime('2019-01-01')\n",
        "train = df[df.enroll_date < cutoff]\n",
        "test  = df[df.enroll_date >= cutoff]\n",
        "\n",
        "\n",
        "\n",
        "\n",
        "def wrangle(X):\n",
        "    \"\"\"Wrangle train, validate, and test sets in the same way\"\"\"\n",
        "    \n",
        "    # Prevent SettingWithCopyWarning\n",
        "    X = X.copy()\n",
        "    \n",
        "    # drop any private information\n",
        "    X = X.drop(columns=['3.1_FirstName', '3.1_LastName', '3.2_SocSecNo', \n",
        "                      '3.3_Birthdate', 'V5_Prior_Address'])\n",
        "    \n",
        "    # drop unusable columns\n",
        "    X = X.drop(columns=['2.1_Organization_Name', '2.4_ProjectType',\n",
        "                        'WorkSource_Referral_Most_Recent', 'YAHP_Referral_Most_Recent',\n",
        "                        'SOAR_Enrollment_Determination_(Most_Recent)',\n",
        "                        'R7_General_Health_Status', 'R8_Dental_Health_Status',\n",
        "                        'R9_Mental_Health_Status', 'RRH_Date_Of_Move-In',\n",
        "                        'RRH_In_Permanent_Housing', 'R10_Pregnancy_Due_Date',\n",
        "                        'R10_Pregnancy_Status', 'R1_Referral_Source',\n",
        "                        'R2_Date_Status_Determined', 'R2_Enroll_Status',\n",
        "                        'R2_Reason_Why_No_Services_Funded', 'R2_Runaway_Youth',\n",
        "                        'R3_Sexual_Orientation', '2.5_Utilization_Tracking_Method_(Invalid)',\n",
        "                        '2.2_Project_Name', '2.6_Federal_Grant_Programs', '3.16_Client_Location',\n",
        "                        '3.917_Stayed_Less_Than_90_Days', \n",
        "                        '3.917b_Stayed_in_Streets,_ES_or_SH_Night_Before', \n",
        "                        '3.917b_Stayed_Less_Than_7_Nights', '4.24_In_School_(Retired_Data_Element)',\n",
        "                        'CaseChildren', 'ClientID', 'HEN-HP_Referral_Most_Recent',\n",
        "                        'HEN-RRH_Referral_Most_Recent', 'Emergency_Shelter_|_Most_Recent_Enrollment',\n",
        "                        'ProgramType', 'Days_Enrolled_Until_RRH_Date_of_Move-in',\n",
        "                        'CurrentDate', 'Current_Age', 'Count_of_Bed_Nights_-_Entire_Episode',\n",
        "                        'Bed_Nights_During_Report_Period'])\n",
        "        \n",
        "    # drop rows with no exit destination (current guests at time of report)\n",
        "    X = X.dropna(subset=['3.12_Exit_Destination'])\n",
        "    \n",
        "    # remove columns to avoid data leakage\n",
        "    X = X.drop(columns=['3.12_Exit_Destination', '5.9_Household_ID', '5.8_Personal_ID',\n",
        "                       '4.2_Income_Total_at_Exit', '4.3_Non-Cash_Benefit_Count_at_Exit'])\n",
        "    \n",
        "    # Drop needless feature\n",
        "    unusable_variance = ['Enrollment_Created_By', '4.24_Current_Status_(Retired_Data_Element)']\n",
        "    X = X.drop(columns=unusable_variance)\n",
        "\n",
        "    # Drop columns with timestamp\n",
        "    timestamp_columns = ['3.10_Enroll_Date', '3.11_Exit_Date', \n",
        "                         'Date_of_Last_ES_Stay_(Beta)', 'Date_of_First_ES_Stay_(Beta)', \n",
        "                         'Prevention_|_Most_Recent_Enrollment', 'PSH_|_Most_Recent_Enrollment', \n",
        "                         'Transitional_Housing_|_Most_Recent_Enrollment', 'Coordinated_Entry_|_Most_Recent_Enrollment', \n",
        "                         'Street_Outreach_|_Most_Recent_Enrollment', 'RRH_|_Most_Recent_Enrollment', \n",
        "                         'SOAR_Eligibility_Determination_(Most_Recent)', 'Date_of_First_Contact_(Beta)',\n",
        "                         'Date_of_Last_Contact_(Beta)', '4.13_Engagement_Date', '4.11_Domestic_Violence_-_When_it_Occurred',\n",
        "                         '3.917_Homeless_Start_Date']\n",
        "    X = X.drop(columns=timestamp_columns)\n",
        "    \n",
        "    # return the wrangled dataframe\n",
        "    return X\n",
        "\n"
      ],
      "execution_count": 0,
      "outputs": []
    },
    {
      "cell_type": "code",
      "metadata": {
        "id": "ws1GKUh0lFom",
        "colab_type": "code",
        "outputId": "f0bfc0d6-50d1-4c68-d47e-cd010286e7ce",
        "colab": {
          "base_uri": "https://localhost:8080/",
          "height": 34
        }
      },
      "source": [
        "train.shape"
      ],
      "execution_count": 16,
      "outputs": [
        {
          "output_type": "execute_result",
          "data": {
            "text/plain": [
              "(805, 154)"
            ]
          },
          "metadata": {
            "tags": []
          },
          "execution_count": 16
        }
      ]
    },
    {
      "cell_type": "code",
      "metadata": {
        "id": "LEqnrYxplHs-",
        "colab_type": "code",
        "outputId": "610a723f-4689-43a0-fad7-364438f45c66",
        "colab": {
          "base_uri": "https://localhost:8080/",
          "height": 34
        }
      },
      "source": [
        "test.shape"
      ],
      "execution_count": 17,
      "outputs": [
        {
          "output_type": "execute_result",
          "data": {
            "text/plain": [
              "(692, 154)"
            ]
          },
          "metadata": {
            "tags": []
          },
          "execution_count": 17
        }
      ]
    },
    {
      "cell_type": "code",
      "metadata": {
        "id": "HL724tgM8xUx",
        "colab_type": "code",
        "colab": {}
      },
      "source": [
        "train = wrangle(train)\n",
        "test = wrangle(test)"
      ],
      "execution_count": 0,
      "outputs": []
    },
    {
      "cell_type": "code",
      "metadata": {
        "id": "_pCiVV8Q8xZr",
        "colab_type": "code",
        "colab": {}
      },
      "source": [
        "# Hand pick features only known at entry to avoid data leakage\n",
        "features = ['CaseMembers',\n",
        "       '3.2_Social_Security_Quality', '3.3_Birthdate_Quality',\n",
        "       'Age_at_Enrollment', '3.4_Race', '3.5_Ethnicity', '3.6_Gender',\n",
        "       '3.7_Veteran_Status', '3.8_Disabling_Condition_at_Entry',\n",
        "       '3.917_Living_Situation', 'length_homeless',\n",
        "       '3.917_Times_Homeless_Last_3_Years', '3.917_Total_Months_Homeless_Last_3_Years', \n",
        "       'V5_Last_Permanent_Address', 'V5_State', 'V5_Zip', 'Municipality_(City_or_County)',\n",
        "       '4.1_Housing_Status', '4.4_Covered_by_Health_Insurance', '4.11_Domestic_Violence',\n",
        "       '4.11_Domestic_Violence_-_Currently_Fleeing_DV?', 'Household_Type', \n",
        "       'R4_Last_Grade_Completed', 'R5_School_Status',\n",
        "       'R6_Employed_Status', 'R6_Why_Not_Employed', 'R6_Type_of_Employment',\n",
        "       'R6_Looking_for_Work', 'entry_income',\n",
        "       '4.3_Non-Cash_Benefit_Count', 'Barrier_Count_at_Entry',\n",
        "       'Chronic_Homeless_Status', 'Under_25_Years_Old',\n",
        "       '4.10_Alcohol_Abuse_(Substance_Abuse)', '4.07_Chronic_Health_Condition',\n",
        "       '4.06_Developmental_Disability', '4.10_Drug_Abuse_(Substance_Abuse)',\n",
        "       '4.08_HIV/AIDS', '4.09_Mental_Health_Problem',\n",
        "       '4.05_Physical_Disability'\n",
        "          ]\n"
      ],
      "execution_count": 0,
      "outputs": []
    },
    {
      "cell_type": "code",
      "metadata": {
        "id": "LNd3vKxZeByk",
        "colab_type": "code",
        "colab": {}
      },
      "source": [
        "target = 'perm_leaver'\n",
        "X_train = train[features]\n",
        "y_train = train[target]\n",
        "X_test = test[features]\n",
        "y_test = test[target]"
      ],
      "execution_count": 0,
      "outputs": []
    },
    {
      "cell_type": "code",
      "metadata": {
        "id": "euml4xp0bBSn",
        "colab_type": "code",
        "outputId": "7cb8e24b-c8a2-49e4-bfa9-009af82d5d3a",
        "colab": {
          "base_uri": "https://localhost:8080/",
          "height": 68
        }
      },
      "source": [
        "# base case\n",
        "df['perm_leaver'].value_counts(normalize=True)"
      ],
      "execution_count": 24,
      "outputs": [
        {
          "output_type": "execute_result",
          "data": {
            "text/plain": [
              "False    0.737475\n",
              "True     0.262525\n",
              "Name: perm_leaver, dtype: float64"
            ]
          },
          "metadata": {
            "tags": []
          },
          "execution_count": 24
        }
      ]
    },
    {
      "cell_type": "code",
      "metadata": {
        "id": "6AGvq76T8xhq",
        "colab_type": "code",
        "outputId": "6f6fed5b-759c-46df-ab1f-9d2ccafd4662",
        "colab": {
          "base_uri": "https://localhost:8080/",
          "height": 34
        }
      },
      "source": [
        "# fit linear model to get a 3 on Sprint\n",
        "\n",
        "from sklearn.linear_model import LogisticRegression\n",
        "\n",
        "encoder = ce.OneHotEncoder(use_cat_names=True)\n",
        "X_train_encoded = encoder.fit_transform(X_train)\n",
        "X_test_encoded = encoder.transform(X_test)\n",
        "\n",
        "\n",
        "imputer = SimpleImputer()\n",
        "X_train_imputed = imputer.fit_transform(X_train_encoded)\n",
        "X_test_imputed = imputer.transform(X_test_encoded)\n",
        "\n",
        "scaler = StandardScaler()\n",
        "X_train_scaled = scaler.fit_transform(X_train_imputed)\n",
        "X_test_scaled = scaler.transform(X_test_imputed)\n",
        "\n",
        "model = LogisticRegression(random_state=42, max_iter=5000)\n",
        "model.fit(X_train_scaled, y_train)\n",
        "print ('Validation Accuracy', model.score(X_test_scaled,y_test))"
      ],
      "execution_count": 25,
      "outputs": [
        {
          "output_type": "stream",
          "text": [
            "Validation Accuracy 0.6315028901734104\n"
          ],
          "name": "stdout"
        }
      ]
    },
    {
      "cell_type": "markdown",
      "metadata": {
        "id": "aXn29R7mei5f",
        "colab_type": "text"
      },
      "source": [
        "Linear model above beat the baseline model, now let's see if we can get even more accurate with a tree-based model"
      ]
    },
    {
      "cell_type": "code",
      "metadata": {
        "id": "kQCd-IUY8xm1",
        "colab_type": "code",
        "outputId": "e353df49-3fd0-43f1-f36e-8fd10b163b59",
        "colab": {
          "base_uri": "https://localhost:8080/",
          "height": 34
        }
      },
      "source": [
        "import category_encoders as ce\n",
        "from sklearn.impute import SimpleImputer\n",
        "from sklearn.ensemble import RandomForestClassifier\n",
        "from sklearn.model_selection import train_test_split\n",
        "from sklearn.pipeline import make_pipeline\n",
        "from sklearn.ensemble import GradientBoostingClassifier\n",
        "\n",
        "# Make pipeline!\n",
        "pipeline = make_pipeline(\n",
        "    ce.OrdinalEncoder(), \n",
        "    SimpleImputer(strategy='most_frequent'), \n",
        "    RandomForestClassifier(n_estimators=100, n_jobs=-1, \n",
        "                           random_state=42, \n",
        "                       )\n",
        ")\n",
        "\n",
        "# Fit on train, score on val\n",
        "pipeline.fit(X_train, y_train)\n",
        "y_pred = pipeline.predict(X_test)\n",
        "print('Validation Accuracy', accuracy_score(y_test, y_pred))"
      ],
      "execution_count": 40,
      "outputs": [
        {
          "output_type": "stream",
          "text": [
            "Validation Accuracy 0.75\n"
          ],
          "name": "stdout"
        }
      ]
    },
    {
      "cell_type": "code",
      "metadata": {
        "id": "TZzrEAg5I8q0",
        "colab_type": "code",
        "outputId": "22522a7a-f8fe-4328-ec3e-beb06a16f9e4",
        "colab": {
          "base_uri": "https://localhost:8080/",
          "height": 34
        }
      },
      "source": [
        "from joblib import dump\n",
        "dump(pipeline, 'pipeline.joblib', compress=True)"
      ],
      "execution_count": 0,
      "outputs": [
        {
          "output_type": "execute_result",
          "data": {
            "text/plain": [
              "['pipeline.joblib']"
            ]
          },
          "metadata": {
            "tags": []
          },
          "execution_count": 171
        }
      ]
    },
    {
      "cell_type": "code",
      "metadata": {
        "id": "L6N3Y6aw8xph",
        "colab_type": "code",
        "outputId": "3cbcdd3e-be10-491b-c017-e5280ea3e116",
        "colab": {
          "base_uri": "https://localhost:8080/",
          "height": 607
        }
      },
      "source": [
        "# get and plot feature importances\n",
        "\n",
        "# Linear models have coefficients whereas decision trees have \"Feature Importances\"\n",
        "import matplotlib.pyplot as plt\n",
        "\n",
        "model = pipeline.named_steps['randomforestclassifier']\n",
        "encoder = pipeline.named_steps['ordinalencoder']\n",
        "encoded_columns = encoder.transform(X_test).columns\n",
        "importances = pd.Series(model.feature_importances_, encoded_columns)\n",
        "n = 20\n",
        "plt.figure(figsize=(10,n/2))\n",
        "plt.title(f'Top {n} features')\n",
        "importances.sort_values()[-n:].plot.barh(color='grey');"
      ],
      "execution_count": 31,
      "outputs": [
        {
          "output_type": "display_data",
          "data": {
            "image/png": "[encoded data removed]",
            "text/plain": [
              "<Figure size 720x720 with 1 Axes>"
            ]
          },
          "metadata": {
            "tags": []
          }
        }
      ]
    },
    {
      "cell_type": "code",
      "metadata": {
        "id": "da3rxHRB8xvG",
        "colab_type": "code",
        "outputId": "de88c49c-547e-4587-a0d8-f67c0dacd937",
        "colab": {
          "base_uri": "https://localhost:8080/",
          "height": 34
        }
      },
      "source": [
        "# cross validation \n",
        "\n",
        "k = 3\n",
        "scores = cross_val_score(pipeline, X_train, y_train, cv=k, \n",
        "                         scoring='accuracy')\n",
        "print(f'MAE for {k} folds:', -scores)"
      ],
      "execution_count": 32,
      "outputs": [
        {
          "output_type": "stream",
          "text": [
            "MAE for 3 folds: [-0.61710037 -0.63432836 -0.64552239]\n"
          ],
          "name": "stdout"
        }
      ]
    },
    {
      "cell_type": "code",
      "metadata": {
        "id": "wNGa9Q8o8xk9",
        "colab_type": "code",
        "outputId": "b99a1d86-57f7-4593-edfb-da2b532ef855",
        "colab": {
          "base_uri": "https://localhost:8080/",
          "height": 34
        }
      },
      "source": [
        "-scores.mean()"
      ],
      "execution_count": 33,
      "outputs": [
        {
          "output_type": "execute_result",
          "data": {
            "text/plain": [
              "-0.6323170393386229"
            ]
          },
          "metadata": {
            "tags": []
          },
          "execution_count": 33
        }
      ]
    },
    {
      "cell_type": "markdown",
      "metadata": {
        "id": "g7BvzrXxet1G",
        "colab_type": "text"
      },
      "source": [
        "Now that we have beaten the linear model with a tree based model, let us see if xgboost does a better job at predicting exit destination"
      ]
    },
    {
      "cell_type": "code",
      "metadata": {
        "id": "NAs8acMU8xNa",
        "colab_type": "code",
        "outputId": "5c5e5342-fe68-4a61-d187-36af5d55b1f2",
        "colab": {
          "base_uri": "https://localhost:8080/",
          "height": 34
        }
      },
      "source": [
        "\n",
        "\n",
        "from xgboost import XGBClassifier\n",
        "\n",
        "pipeline = make_pipeline(\n",
        "    ce.OrdinalEncoder(),\n",
        "    XGBClassifier(n_estimators=100, random_state=42, n_jobs=-1)\n",
        ")\n",
        "\n",
        "# Fit on train, score on val\n",
        "pipeline.fit(X_train, y_train)\n",
        "print('Validation Accuracy:', pipeline.score(X_test, y_test))"
      ],
      "execution_count": 34,
      "outputs": [
        {
          "output_type": "stream",
          "text": [
            "Validation Accuracy: 0.703757225433526\n"
          ],
          "name": "stdout"
        }
      ]
    },
    {
      "cell_type": "markdown",
      "metadata": {
        "id": "TNODOwwffA5u",
        "colab_type": "text"
      },
      "source": [
        "xgboost failed to beat my tree-based model, so the tree-based model is what I will use for my prediction on my web-app"
      ]
    },
    {
      "cell_type": "code",
      "metadata": {
        "id": "dAir9Q28k72U",
        "colab_type": "code",
        "outputId": "38a8714e-07d6-46a3-d806-45ba6b7d8e84",
        "colab": {
          "base_uri": "https://localhost:8080/",
          "height": 607
        }
      },
      "source": [
        "# get and plot feature importances\n",
        "\n",
        "# Linear models have coefficients whereas decision trees have \"Feature Importances\"\n",
        "import matplotlib.pyplot as plt\n",
        "\n",
        "model = pipeline.named_steps['xgbclassifier']\n",
        "encoder = pipeline.named_steps['ordinalencoder']\n",
        "encoded_columns = encoder.transform(X_test).columns\n",
        "importances = pd.Series(model.feature_importances_, encoded_columns)\n",
        "n = 20\n",
        "plt.figure(figsize=(10,n/2))\n",
        "plt.title(f'Top {n} features')\n",
        "importances.sort_values()[-n:].plot.barh(color='grey');\n",
        "\n"
      ],
      "execution_count": 36,
      "outputs": [
        {
          "output_type": "display_data",
          "data": {
            "image/png": "[encoded data removed]",
            "text/plain": [
              "<Figure size 720x720 with 1 Axes>"
            ]
          },
          "metadata": {
            "tags": []
          }
        }
      ]
    },
    {
      "cell_type": "code",
      "metadata": {
        "id": "H64KEtMqUSJa",
        "colab_type": "code",
        "outputId": "888e2546-9f0d-4355-853b-399d0b63af18",
        "colab": {
          "base_uri": "https://localhost:8080/",
          "height": 296
        }
      },
      "source": [
        "history = pd.read_csv('/content/n_alltime.csv')\n",
        "from plotly.tools import mpl_to_plotly\n",
        "import seaborn as sns\n",
        "from sklearn.metrics import accuracy_score\n",
        "\n",
        "from sklearn.model_selection import GridSearchCV, RandomizedSearchCV\n",
        "\n",
        "\n",
        "\n",
        "\n",
        "# Assign to X, y to avoid data leakage\n",
        "features = ['CaseMembers',\n",
        "       '3.2_Social_Security_Quality', '3.3_Birthdate_Quality',\n",
        "       'Age_at_Enrollment', '3.4_Race', '3.5_Ethnicity', '3.6_Gender',\n",
        "       '3.7_Veteran_Status', '3.8_Disabling_Condition_at_Entry',\n",
        "       '3.917_Living_Situation', 'length_homeless',\n",
        "       '3.917_Times_Homeless_Last_3_Years', '3.917_Total_Months_Homeless_Last_3_Years', \n",
        "       'V5_Last_Permanent_Address', 'V5_State', 'V5_Zip', 'Municipality_(City_or_County)',\n",
        "       '4.1_Housing_Status', '4.4_Covered_by_Health_Insurance', '4.11_Domestic_Violence',\n",
        "       '4.11_Domestic_Violence_-_Currently_Fleeing_DV?', 'Household_Type', \n",
        "       'R4_Last_Grade_Completed', 'R5_School_Status',\n",
        "       'R6_Employed_Status', 'R6_Why_Not_Employed', 'R6_Type_of_Employment',\n",
        "       'R6_Looking_for_Work', 'entry_income',\n",
        "       '4.3_Non-Cash_Benefit_Count', 'Barrier_Count_at_Entry',\n",
        "       'Chronic_Homeless_Status', 'Under_25_Years_Old',\n",
        "       '4.10_Alcohol_Abuse_(Substance_Abuse)', '4.07_Chronic_Health_Condition',\n",
        "       '4.06_Developmental_Disability', '4.10_Drug_Abuse_(Substance_Abuse)',\n",
        "       '4.08_HIV/AIDS', '4.09_Mental_Health_Problem',\n",
        "       '4.05_Physical_Disability', 'perm_leaver'\n",
        "          ]\n",
        "\n",
        "\n",
        "X = history[features]\n",
        "X = X.drop(columns='perm_leaver')\n",
        "\n",
        "\n",
        "\n",
        "y_pred = pipeline.predict(X)\n",
        "\n",
        "\n",
        "fig, ax = plt.subplots()\n",
        "sns.distplot(test['perm_leaver'], hist=False, kde=True, ax=ax, label='Actual')\n",
        "sns.distplot(y_pred, hist=False, kde=True, ax=ax, label='Predicted')\n",
        "ax.set_title('Distribution of Actual Exit compared to prediction')\n",
        "ax.legend().set_visible(True)\n"
      ],
      "execution_count": 47,
      "outputs": [
        {
          "output_type": "display_data",
          "data": {
            "image/png": "[encoded data removed]",
            "text/plain": [
              "<Figure size 432x288 with 1 Axes>"
            ]
          },
          "metadata": {
            "tags": []
          }
        }
      ]
    },
    {
      "cell_type": "code",
      "metadata": {
        "id": "UWoQG_d_ai6p",
        "colab_type": "code",
        "colab": {}
      },
      "source": [
        "pipeline = make_pipeline(\n",
        "    ce.OrdinalEncoder(), \n",
        "    SimpleImputer(), \n",
        "    RandomForestClassifier(random_state=42)\n",
        ")\n",
        "\n",
        "param_distributions = {\n",
        "    \n",
        "     \n",
        "    'simpleimputer__strategy': ['most_frequent', 'mean', 'median'], \n",
        "    'randomforestclassifier__bootstrap': [True, False],\n",
        "    'randomforestclassifier__max_depth': [10, 20, 30, 40, 50, 60, 70, 80, 90, 100, None],\n",
        "    'randomforestclassifier__max_features': ['auto', 'sqrt'],\n",
        "    'randomforestclassifier__min_samples_leaf': [1, 2, 4],\n",
        "    'randomforestclassifier__min_samples_split': [2, 5, 10],\n",
        "    'randomforestclassifier__n_estimators': [200, 400, 600, 800, 1000, 1200, 1400, 1600, 1800, 2000]}\n",
        "\n",
        "# If you're on Colab, decrease n_iter & cv parameters\n",
        "search = RandomizedSearchCV(\n",
        "    pipeline, \n",
        "    param_distributions=param_distributions, \n",
        "    n_iter=1, \n",
        "    cv=3, \n",
        "    scoring='accuracy', \n",
        "    verbose=10, \n",
        "    return_train_score=True, \n",
        "    n_jobs=-1\n",
        ")\n",
        "\n",
        "\n"
      ],
      "execution_count": 0,
      "outputs": []
    },
    {
      "cell_type": "code",
      "metadata": {
        "id": "CTuhqogHa7AR",
        "colab_type": "code",
        "colab": {
          "base_uri": "https://localhost:8080/",
          "height": 731
        },
        "outputId": "c2a3d6f5-fa0e-477d-f8b3-b14ef98e9f80"
      },
      "source": [
        "# Fit on train, score on val\n",
        "search.fit(X_train, y_train)"
      ],
      "execution_count": 49,
      "outputs": [
        {
          "output_type": "stream",
          "text": [
            "Fitting 3 folds for each of 1 candidates, totalling 3 fits\n"
          ],
          "name": "stdout"
        },
        {
          "output_type": "stream",
          "text": [
            "[Parallel(n_jobs=-1)]: Using backend LokyBackend with 2 concurrent workers.\n",
            "[Parallel(n_jobs=-1)]: Done   3 out of   3 | elapsed:    6.3s finished\n",
            "[Parallel(n_jobs=-1)]: Done   3 out of   3 | elapsed:    6.3s remaining:    0.0s\n"
          ],
          "name": "stderr"
        },
        {
          "output_type": "execute_result",
          "data": {
            "text/plain": [
              "RandomizedSearchCV(cv=3, error_score=nan,\n",
              "                   estimator=Pipeline(memory=None,\n",
              "                                      steps=[('ordinalencoder',\n",
              "                                              OrdinalEncoder(cols=None,\n",
              "                                                             drop_invariant=False,\n",
              "                                                             handle_missing='value',\n",
              "                                                             handle_unknown='value',\n",
              "                                                             mapping=None,\n",
              "                                                             return_df=True,\n",
              "                                                             verbose=0)),\n",
              "                                             ('simpleimputer',\n",
              "                                              SimpleImputer(add_indicator=False,\n",
              "                                                            copy=True,\n",
              "                                                            fill_value=None,\n",
              "                                                            missing_values=nan,\n",
              "                                                            strategy='mean',\n",
              "                                                            verbose=0)...\n",
              "                                        'randomforestclassifier__min_samples_leaf': [1,\n",
              "                                                                                     2,\n",
              "                                                                                     4],\n",
              "                                        'randomforestclassifier__min_samples_split': [2,\n",
              "                                                                                      5,\n",
              "                                                                                      10],\n",
              "                                        'randomforestclassifier__n_estimators': [200,\n",
              "                                                                                 400,\n",
              "                                                                                 600,\n",
              "                                                                                 800,\n",
              "                                                                                 1000,\n",
              "                                                                                 1200,\n",
              "                                                                                 1400,\n",
              "                                                                                 1600,\n",
              "                                                                                 1800,\n",
              "                                                                                 2000],\n",
              "                                        'simpleimputer__strategy': ['most_frequent',\n",
              "                                                                    'mean',\n",
              "                                                                    'median']},\n",
              "                   pre_dispatch='2*n_jobs', random_state=None, refit=True,\n",
              "                   return_train_score=True, scoring='accuracy', verbose=10)"
            ]
          },
          "metadata": {
            "tags": []
          },
          "execution_count": 49
        }
      ]
    },
    {
      "cell_type": "code",
      "metadata": {
        "id": "GQFi6ScvaqFs",
        "colab_type": "code",
        "colab": {
          "base_uri": "https://localhost:8080/",
          "height": 71
        },
        "outputId": "1b49f256-2b2e-4c43-e62b-4daf8fe1fea5"
      },
      "source": [
        "print('Best hyperparameters', search.best_params_)\n",
        "print('Cross-validation accuracy score', -search.best_score_)"
      ],
      "execution_count": 50,
      "outputs": [
        {
          "output_type": "stream",
          "text": [
            "Best hyperparameters {'simpleimputer__strategy': 'most_frequent', 'randomforestclassifier__n_estimators': 1000, 'randomforestclassifier__min_samples_split': 2, 'randomforestclassifier__min_samples_leaf': 4, 'randomforestclassifier__max_features': 'sqrt', 'randomforestclassifier__max_depth': None, 'randomforestclassifier__bootstrap': False}\n",
            "Cross-validation accuracy score -0.622389909190109\n"
          ],
          "name": "stdout"
        }
      ]
    },
    {
      "cell_type": "code",
      "metadata": {
        "id": "kYxbmuL5aqPI",
        "colab_type": "code",
        "colab": {
          "base_uri": "https://localhost:8080/",
          "height": 34
        },
        "outputId": "9327228d-c8b5-4101-ba43-35b31b49f29a"
      },
      "source": [
        "\n",
        "print('Validation Accuracy', search.score(X_test, y_test))"
      ],
      "execution_count": 51,
      "outputs": [
        {
          "output_type": "stream",
          "text": [
            "Validation Accuracy 0.7355491329479769\n"
          ],
          "name": "stdout"
        }
      ]
    },
    {
      "cell_type": "code",
      "metadata": {
        "id": "PTfWmgdBUw5X",
        "colab_type": "code",
        "outputId": "45b4f431-ea5c-4202-8152-f4a5219a341f",
        "colab": {
          "base_uri": "https://localhost:8080/",
          "height": 34
        }
      },
      "source": [
        "y_pred.shape"
      ],
      "execution_count": 38,
      "outputs": [
        {
          "output_type": "execute_result",
          "data": {
            "text/plain": [
              "(1497,)"
            ]
          },
          "metadata": {
            "tags": []
          },
          "execution_count": 38
        }
      ]
    },
    {
      "cell_type": "code",
      "metadata": {
        "id": "3bkuUT8jU2_B",
        "colab_type": "code",
        "outputId": "c32d75ff-0c36-47cb-d68a-5522b28c83d5",
        "colab": {
          "base_uri": "https://localhost:8080/",
          "height": 68
        }
      },
      "source": [
        "history['perm_leaver'].value_counts()"
      ],
      "execution_count": 39,
      "outputs": [
        {
          "output_type": "execute_result",
          "data": {
            "text/plain": [
              "False    1104\n",
              "True      393\n",
              "Name: perm_leaver, dtype: int64"
            ]
          },
          "metadata": {
            "tags": []
          },
          "execution_count": 39
        }
      ]
    },
    {
      "cell_type": "code",
      "metadata": {
        "id": "v36aNqhnU6ld",
        "colab_type": "code",
        "outputId": "68ff99c8-f3a3-4457-eddb-0859b82229b6",
        "colab": {
          "base_uri": "https://localhost:8080/",
          "height": 34
        }
      },
      "source": [
        "1282+478"
      ],
      "execution_count": 0,
      "outputs": [
        {
          "output_type": "execute_result",
          "data": {
            "text/plain": [
              "1760"
            ]
          },
          "metadata": {
            "tags": []
          },
          "execution_count": 186
        }
      ]
    },
    {
      "cell_type": "code",
      "metadata": {
        "id": "8SJr32LyVOHx",
        "colab_type": "code",
        "outputId": "421eb2c6-2877-4339-97ae-97cd4dee73a4",
        "colab": {
          "base_uri": "https://localhost:8080/",
          "height": 34
        }
      },
      "source": [
        "from joblib import dump\n",
        "dump(pipeline, 'pipeline2.joblib', compress=True)"
      ],
      "execution_count": 0,
      "outputs": [
        {
          "output_type": "execute_result",
          "data": {
            "text/plain": [
              "['pipeline2.joblib']"
            ]
          },
          "metadata": {
            "tags": []
          },
          "execution_count": 216
        }
      ]
    }
  ]
}