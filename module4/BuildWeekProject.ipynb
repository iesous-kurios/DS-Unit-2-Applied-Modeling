{
  "nbformat": 4,
  "nbformat_minor": 0,
  "metadata": {
    "colab": {
      "name": "BuildWeekProject.ipynb",
      "provenance": [],
      "authorship_tag": "ABX9TyOHBUqX2Gq9eD/jt49rBKHm",
      "include_colab_link": true
    },
    "kernelspec": {
      "name": "python3",
      "display_name": "Python 3"
    }
  },
  "cells": [
    {
      "cell_type": "markdown",
      "metadata": {
        "id": "view-in-github",
        "colab_type": "text"
      },
      "source": [
        "<a href=\"https://colab.research.google.com/github/iesous-kurios/DS-Unit-2-Applied-Modeling/blob/master/module4/BuildWeekProject.ipynb\" target=\"_parent\"><img src=\"https://colab.research.google.com/assets/colab-badge.svg\" alt=\"Open In Colab\"/></a>"
      ]
    },
    {
      "cell_type": "code",
      "metadata": {
        "id": "ONvPALrO8xPA",
        "colab_type": "code",
        "colab": {}
      },
      "source": [
        "%%capture\n",
        "import sys\n",
        "\n",
        "# If you're on Colab:\n",
        "if 'google.colab' in sys.modules:\n",
        "    DATA_PATH = 'https://raw.githubusercontent.com/LambdaSchool/DS-Unit-2-Applied-Modeling/master/data/'\n",
        "    !pip install category_encoders==2.*\n",
        "    !pip install eli5\n",
        "\n",
        "# If you're working locally:\n",
        "else:\n",
        "    DATA_PATH = '../data/'\n"
      ],
      "execution_count": 0,
      "outputs": []
    },
    {
      "cell_type": "code",
      "metadata": {
        "id": "_-BzGn1Q8xJ5",
        "colab_type": "code",
        "colab": {}
      },
      "source": [
        "# all imports needed for this sheet\n",
        "\n",
        "import numpy as np\n",
        "import pandas as pd\n",
        "from sklearn.model_selection import train_test_split\n",
        "import category_encoders as ce\n",
        "from sklearn.ensemble import RandomForestClassifier\n",
        "from sklearn.impute import SimpleImputer\n",
        "from sklearn.pipeline import make_pipeline\n",
        "from sklearn.feature_selection import f_regression, SelectKBest\n",
        "from sklearn.linear_model import Ridge\n",
        "from sklearn.model_selection import cross_val_score\n",
        "from sklearn.preprocessing import StandardScaler\n",
        "import matplotlib.pyplot as plt\n",
        "from sklearn.model_selection import validation_curve\n",
        "from sklearn.tree import DecisionTreeRegressor\n",
        "import xgboost as xgb\n",
        "\n",
        "%matplotlib inline\n",
        "import seaborn as sns\n",
        "from sklearn.metrics import accuracy_score\n",
        "\n",
        "from sklearn.model_selection import GridSearchCV, RandomizedSearchCV\n"
      ],
      "execution_count": 0,
      "outputs": []
    },
    {
      "cell_type": "code",
      "metadata": {
        "id": "a2kJo70B8uVu",
        "colab_type": "code",
        "colab": {}
      },
      "source": [
        "df = pd.read_excel('/content/alltime.xlsx')"
      ],
      "execution_count": 0,
      "outputs": []
    },
    {
      "cell_type": "markdown",
      "metadata": {
        "id": "at2PXyZLdSMp",
        "colab_type": "text"
      },
      "source": [
        "I chose \"exit to permanent\" housing as my target due to my belief that accurately predicting this feature would have the largest impact on actual people experiencing homelessness in my county.  Developing and fine tuning an accurate model with our data could also lead to major improvements in our county's efforts at addressing the homelessness problem among singles as well (as our shelter only serves families)"
      ]
    },
    {
      "cell_type": "code",
      "metadata": {
        "id": "B2KJsqos8ww1",
        "colab_type": "code",
        "colab": {}
      },
      "source": [
        "exit_reasons = ['Rental by client with RRH or equivalent subsidy', \n",
        "                'Rental by client, no ongoing housing subsidy', \n",
        "                'Staying or living with family, permanent tenure', \n",
        "                'Rental by client, other ongoing housing subsidy',\n",
        "                'Permanent housing (other than RRH) for formerly homeless persons', \n",
        "                'Staying or living with friends, permanent tenure', \n",
        "                'Owned by client, with ongoing housing subsidy', \n",
        "                'Rental by client, VASH housing Subsidy'\n",
        "               ]"
      ],
      "execution_count": 0,
      "outputs": []
    },
    {
      "cell_type": "code",
      "metadata": {
        "id": "QsqtVTII8wz_",
        "colab_type": "code",
        "colab": {}
      },
      "source": [
        "# pull all exit destinations from main data file and sum up the totals of each destination, \n",
        "# placing them into new df for calculations\n",
        "exits = df['3.12 Exit Destination'].value_counts()"
      ],
      "execution_count": 0,
      "outputs": []
    },
    {
      "cell_type": "code",
      "metadata": {
        "id": "c-Af6pu38w2a",
        "colab_type": "code",
        "colab": {}
      },
      "source": [
        " # create target column (multiple types of exits to perm)\n",
        "df['perm_leaver'] = df['3.12 Exit Destination'].isin(exit_reasons)"
      ],
      "execution_count": 0,
      "outputs": []
    },
    {
      "cell_type": "code",
      "metadata": {
        "id": "UTt-IfGI8w74",
        "colab_type": "code",
        "colab": {}
      },
      "source": [
        "# replace spaces with underscore\n",
        "df.columns = df.columns.str.replace(' ', '_')"
      ],
      "execution_count": 0,
      "outputs": []
    },
    {
      "cell_type": "code",
      "metadata": {
        "id": "NzT4OUv54xke",
        "colab_type": "code",
        "colab": {}
      },
      "source": [
        "df = df.rename(columns = {'Length_of_Time_Homeless_(3.917_Approximate_Start)':'length_homeless', '4.2_Income_Total_at_Entry':'entry_income' \n",
        "                          })"
      ],
      "execution_count": 0,
      "outputs": []
    },
    {
      "cell_type": "code",
      "metadata": {
        "id": "h_akngucvbPZ",
        "colab_type": "code",
        "colab": {}
      },
      "source": [
        "df.to_csv('/content/n_alltime.csv')"
      ],
      "execution_count": 0,
      "outputs": []
    },
    {
      "cell_type": "markdown",
      "metadata": {
        "id": "lxPUVA6xd6yS",
        "colab_type": "text"
      },
      "source": [
        "If a person were to guess \"did not exit to permanent\" housing every single time, they would be correct approximately 63 percent of the time.  I am hoping that through this project, we will be able to provide more focused case management services to guests that displayed features which my model predicted as contributing negatively toward their chances of having an exit to permanent housing.  It is my hope that a year from now, the base case will be flipped, and you would need to guess \"did exit to permanent housing\" to be correct approximately 63 percent of the time.  "
      ]
    },
    {
      "cell_type": "code",
      "metadata": {
        "id": "u4VkgggW8w5e",
        "colab_type": "code",
        "outputId": "9d96ea74-e3ac-49be-f5e9-6bc670d9c9ae",
        "colab": {
          "base_uri": "https://localhost:8080/",
          "height": 67
        }
      },
      "source": [
        "# base case\n",
        "df['perm_leaver'].value_counts(normalize=True)"
      ],
      "execution_count": 10,
      "outputs": [
        {
          "output_type": "execute_result",
          "data": {
            "text/plain": [
              "False    0.6292\n",
              "True     0.3708\n",
              "Name: perm_leaver, dtype: float64"
            ]
          },
          "metadata": {
            "tags": []
          },
          "execution_count": 10
        }
      ]
    },
    {
      "cell_type": "code",
      "metadata": {
        "id": "rEWG3K_n8w-5",
        "colab_type": "code",
        "outputId": "804baeeb-c479-4ded-91d2-97f0dae8b278",
        "colab": {
          "base_uri": "https://localhost:8080/",
          "height": 34
        }
      },
      "source": [
        "# see size of df prior to dropping empties\n",
        "df.shape"
      ],
      "execution_count": 11,
      "outputs": [
        {
          "output_type": "execute_result",
          "data": {
            "text/plain": [
              "(2411, 148)"
            ]
          },
          "metadata": {
            "tags": []
          },
          "execution_count": 11
        }
      ]
    },
    {
      "cell_type": "code",
      "metadata": {
        "id": "Y9uOhG028xBV",
        "colab_type": "code",
        "colab": {}
      },
      "source": [
        "# drop rows with no exit destination (current guests at time of report)\n",
        "df = df.dropna(subset=['3.12_Exit_Destination'])"
      ],
      "execution_count": 0,
      "outputs": []
    },
    {
      "cell_type": "code",
      "metadata": {
        "id": "NAPNZwYz8xEO",
        "colab_type": "code",
        "outputId": "74468a66-ed3e-4d74-bdf2-1c2a21649071",
        "colab": {
          "base_uri": "https://localhost:8080/",
          "height": 34
        }
      },
      "source": [
        "# shape of df after dropping current guests\n",
        "df.shape"
      ],
      "execution_count": 13,
      "outputs": [
        {
          "output_type": "execute_result",
          "data": {
            "text/plain": [
              "(2228, 148)"
            ]
          },
          "metadata": {
            "tags": []
          },
          "execution_count": 13
        }
      ]
    },
    {
      "cell_type": "code",
      "metadata": {
        "id": "OFVtnLpB8xHf",
        "colab_type": "code",
        "outputId": "af804b78-0f93-4bb9-8665-736a4328197c",
        "colab": {
          "base_uri": "https://localhost:8080/",
          "height": 50
        }
      },
      "source": [
        "# verify no NaN in exit destination feature\n",
        "df['3.12_Exit_Destination'].isna().value_counts()"
      ],
      "execution_count": 14,
      "outputs": [
        {
          "output_type": "execute_result",
          "data": {
            "text/plain": [
              "False    2228\n",
              "Name: 3.12_Exit_Destination, dtype: int64"
            ]
          },
          "metadata": {
            "tags": []
          },
          "execution_count": 14
        }
      ]
    },
    {
      "cell_type": "code",
      "metadata": {
        "id": "zbHak7SQ8xRx",
        "colab_type": "code",
        "colab": {}
      },
      "source": [
        "import numpy as np\n",
        "import pandas as pd\n",
        "from sklearn.model_selection import train_test_split\n",
        "\n",
        "train = df\n",
        "\n",
        "# Split train into train & val\n",
        "train, val = train_test_split(train, train_size=0.80, test_size=0.20, \n",
        "                              stratify=train['perm_leaver'], random_state=42)\n",
        "\n",
        "def wrangle(X):\n",
        "    \"\"\"Wrangle train, validate, and test sets in the same way\"\"\"\n",
        "    \n",
        "    # Prevent SettingWithCopyWarning\n",
        "    X = X.copy()\n",
        "    \n",
        "    # drop any private information\n",
        "    X = X.drop(columns=['3.1_FirstName', '3.1_LastName', '3.2_SocSecNo', \n",
        "                      '3.3_Birthdate', 'V5_Prior_Address'])\n",
        "    \n",
        "    # drop unusable columns\n",
        "    X = X.drop(columns=['2.1_Organization_Name', '2.4_ProjectType',\n",
        "                        'WorkSource_Referral_Most_Recent', 'YAHP_Referral_Most_Recent',\n",
        "                        'SOAR_Enrollment_Determination_(Most_Recent)',\n",
        "                        'R7_General_Health_Status', 'R8_Dental_Health_Status',\n",
        "                        'R9_Mental_Health_Status', 'RRH_Date_Of_Move-In',\n",
        "                        'RRH_In_Permanent_Housing', 'R10_Pregnancy_Due_Date',\n",
        "                        'R10_Pregnancy_Status', 'R1_Referral_Source',\n",
        "                        'R2_Date_Status_Determined', 'R2_Enroll_Status',\n",
        "                        'R2_Reason_Why_No_Services_Funded', 'R2_Runaway_Youth',\n",
        "                        'R3_Sexual_Orientation', '2.5_Utilization_Tracking_Method_(Invalid)',\n",
        "                        '2.2_Project_Name', '2.6_Federal_Grant_Programs', '3.16_Client_Location',\n",
        "                        '3.917_Stayed_Less_Than_90_Days', \n",
        "                        '3.917b_Stayed_in_Streets,_ES_or_SH_Night_Before', \n",
        "                        '3.917b_Stayed_Less_Than_7_Nights', '4.24_In_School_(Retired_Data_Element)',\n",
        "                        'CaseChildren', 'ClientID', 'HEN-HP_Referral_Most_Recent',\n",
        "                        'HEN-RRH_Referral_Most_Recent', 'Emergency_Shelter_|_Most_Recent_Enrollment',\n",
        "                        'ProgramType', 'Days_Enrolled_Until_RRH_Date_of_Move-in',\n",
        "                        'CurrentDate', 'Current_Age', 'Count_of_Bed_Nights_-_Entire_Episode',\n",
        "                        'Bed_Nights_During_Report_Period'])\n",
        "        \n",
        "    # drop rows with no exit destination (current guests at time of report)\n",
        "    X = X.dropna(subset=['3.12_Exit_Destination'])\n",
        "    \n",
        "    # remove columns to avoid data leakage\n",
        "    X = X.drop(columns=['3.12_Exit_Destination', '5.9_Household_ID', '5.8_Personal_ID',\n",
        "                       '4.2_Income_Total_at_Exit', '4.3_Non-Cash_Benefit_Count_at_Exit'])\n",
        "    \n",
        "    # Drop needless feature\n",
        "    unusable_variance = ['Enrollment_Created_By', '4.24_Current_Status_(Retired_Data_Element)']\n",
        "    X = X.drop(columns=unusable_variance)\n",
        "\n",
        "    # Drop columns with timestamp\n",
        "    timestamp_columns = ['3.10_Enroll_Date', '3.11_Exit_Date', \n",
        "                         'Date_of_Last_ES_Stay_(Beta)', 'Date_of_First_ES_Stay_(Beta)', \n",
        "                         'Prevention_|_Most_Recent_Enrollment', 'PSH_|_Most_Recent_Enrollment', \n",
        "                         'Transitional_Housing_|_Most_Recent_Enrollment', 'Coordinated_Entry_|_Most_Recent_Enrollment', \n",
        "                         'Street_Outreach_|_Most_Recent_Enrollment', 'RRH_|_Most_Recent_Enrollment', \n",
        "                         'SOAR_Eligibility_Determination_(Most_Recent)', 'Date_of_First_Contact_(Beta)',\n",
        "                         'Date_of_Last_Contact_(Beta)', '4.13_Engagement_Date', '4.11_Domestic_Violence_-_When_it_Occurred',\n",
        "                         '3.917_Homeless_Start_Date']\n",
        "    X = X.drop(columns=timestamp_columns)\n",
        "    \n",
        "    # return the wrangled dataframe\n",
        "    return X\n",
        "\n"
      ],
      "execution_count": 0,
      "outputs": []
    },
    {
      "cell_type": "code",
      "metadata": {
        "id": "HL724tgM8xUx",
        "colab_type": "code",
        "colab": {}
      },
      "source": [
        "train = wrangle(train)\n",
        "val = wrangle(val)"
      ],
      "execution_count": 0,
      "outputs": []
    },
    {
      "cell_type": "code",
      "metadata": {
        "id": "_pCiVV8Q8xZr",
        "colab_type": "code",
        "colab": {}
      },
      "source": [
        "# Hand pick features only known at entry to avoid data leakage\n",
        "features = ['CaseMembers',\n",
        "       '3.2_Social_Security_Quality', '3.3_Birthdate_Quality',\n",
        "       'Age_at_Enrollment', '3.4_Race', '3.5_Ethnicity', '3.6_Gender',\n",
        "       '3.7_Veteran_Status', '3.8_Disabling_Condition_at_Entry',\n",
        "       '3.917_Living_Situation', 'length_homeless',\n",
        "       '3.917_Times_Homeless_Last_3_Years', '3.917_Total_Months_Homeless_Last_3_Years', \n",
        "       'V5_Last_Permanent_Address', 'V5_State', 'V5_Zip', 'Municipality_(City_or_County)',\n",
        "       '4.1_Housing_Status', '4.4_Covered_by_Health_Insurance', '4.11_Domestic_Violence',\n",
        "       '4.11_Domestic_Violence_-_Currently_Fleeing_DV?', 'Household_Type', \n",
        "       'R4_Last_Grade_Completed', 'R5_School_Status',\n",
        "       'R6_Employed_Status', 'R6_Why_Not_Employed', 'R6_Type_of_Employment',\n",
        "       'R6_Looking_for_Work', 'entry_income',\n",
        "       '4.3_Non-Cash_Benefit_Count', 'Barrier_Count_at_Entry',\n",
        "       'Chronic_Homeless_Status', 'Under_25_Years_Old',\n",
        "       '4.10_Alcohol_Abuse_(Substance_Abuse)', '4.07_Chronic_Health_Condition',\n",
        "       '4.06_Developmental_Disability', '4.10_Drug_Abuse_(Substance_Abuse)',\n",
        "       '4.08_HIV/AIDS', '4.09_Mental_Health_Problem',\n",
        "       '4.05_Physical_Disability'\n",
        "          ]\n"
      ],
      "execution_count": 0,
      "outputs": []
    },
    {
      "cell_type": "code",
      "metadata": {
        "id": "LNd3vKxZeByk",
        "colab_type": "code",
        "colab": {}
      },
      "source": [
        "target = 'perm_leaver'\n",
        "X_train = train[features]\n",
        "y_train = train[target]\n",
        "X_val = val[features]\n",
        "y_val = val[target]"
      ],
      "execution_count": 0,
      "outputs": []
    },
    {
      "cell_type": "code",
      "metadata": {
        "id": "euml4xp0bBSn",
        "colab_type": "code",
        "outputId": "794f445f-f53b-4d8e-c21b-370fceac9984",
        "colab": {
          "base_uri": "https://localhost:8080/",
          "height": 67
        }
      },
      "source": [
        "# base case\n",
        "df['perm_leaver'].value_counts(normalize=True)"
      ],
      "execution_count": 19,
      "outputs": [
        {
          "output_type": "execute_result",
          "data": {
            "text/plain": [
              "False    0.598743\n",
              "True     0.401257\n",
              "Name: perm_leaver, dtype: float64"
            ]
          },
          "metadata": {
            "tags": []
          },
          "execution_count": 19
        }
      ]
    },
    {
      "cell_type": "code",
      "metadata": {
        "id": "6AGvq76T8xhq",
        "colab_type": "code",
        "outputId": "856d1355-dedd-4cd6-f093-2d3fee886c95",
        "colab": {
          "base_uri": "https://localhost:8080/",
          "height": 34
        }
      },
      "source": [
        "# fit linear model to get a 3 on Sprint\n",
        "\n",
        "from sklearn.linear_model import LogisticRegression\n",
        "\n",
        "encoder = ce.OneHotEncoder(use_cat_names=True)\n",
        "X_train_encoded = encoder.fit_transform(X_train)\n",
        "X_val_encoded = encoder.transform(X_val)\n",
        "\n",
        "\n",
        "imputer = SimpleImputer()\n",
        "X_train_imputed = imputer.fit_transform(X_train_encoded)\n",
        "X_val_imputed = imputer.transform(X_val_encoded)\n",
        "\n",
        "scaler = StandardScaler()\n",
        "X_train_scaled = scaler.fit_transform(X_train_imputed)\n",
        "X_val_scaled = scaler.transform(X_val_imputed)\n",
        "\n",
        "model = LogisticRegression(random_state=42, max_iter=5000)\n",
        "model.fit(X_train_scaled, y_train)\n",
        "print ('Validation Accuracy', model.score(X_val_scaled,y_val))"
      ],
      "execution_count": 20,
      "outputs": [
        {
          "output_type": "stream",
          "text": [
            "Validation Accuracy 0.7017937219730942\n"
          ],
          "name": "stdout"
        }
      ]
    },
    {
      "cell_type": "markdown",
      "metadata": {
        "id": "aXn29R7mei5f",
        "colab_type": "text"
      },
      "source": [
        "Linear model above beat the baseline model, now let's see if we can get even more accurate with a tree-based model"
      ]
    },
    {
      "cell_type": "code",
      "metadata": {
        "id": "kQCd-IUY8xm1",
        "colab_type": "code",
        "outputId": "84e53792-2048-4fcd-e44c-d00c5475728f",
        "colab": {
          "base_uri": "https://localhost:8080/",
          "height": 34
        }
      },
      "source": [
        "import category_encoders as ce\n",
        "from sklearn.impute import SimpleImputer\n",
        "from sklearn.ensemble import RandomForestClassifier\n",
        "from sklearn.model_selection import train_test_split\n",
        "from sklearn.pipeline import make_pipeline\n",
        "from sklearn.ensemble import GradientBoostingClassifier\n",
        "\n",
        "# Make pipeline!\n",
        "pipeline = make_pipeline(\n",
        "    ce.OrdinalEncoder(), \n",
        "    SimpleImputer(strategy='most_frequent'), \n",
        "    RandomForestClassifier(n_estimators=100, n_jobs=-1, max_features=None, random_state=42\n",
        "                       )\n",
        ")\n",
        "\n",
        "# Fit on train, score on val\n",
        "pipeline.fit(X_train, y_train)\n",
        "y_pred = pipeline.predict(X_val)\n",
        "print('Validation Accuracy', accuracy_score(y_val, y_pred))"
      ],
      "execution_count": 21,
      "outputs": [
        {
          "output_type": "stream",
          "text": [
            "Validation Accuracy 0.8183856502242153\n"
          ],
          "name": "stdout"
        }
      ]
    },
    {
      "cell_type": "code",
      "metadata": {
        "id": "L6N3Y6aw8xph",
        "colab_type": "code",
        "outputId": "5c9ddea8-c5be-4d8a-89f3-60c224c64810",
        "colab": {
          "base_uri": "https://localhost:8080/",
          "height": 607
        }
      },
      "source": [
        "# get and plot feature importances\n",
        "\n",
        "# Linear models have coefficients whereas decision trees have \"Feature Importances\"\n",
        "import matplotlib.pyplot as plt\n",
        "\n",
        "model = pipeline.named_steps['randomforestclassifier']\n",
        "encoder = pipeline.named_steps['ordinalencoder']\n",
        "encoded_columns = encoder.transform(X_val).columns\n",
        "importances = pd.Series(model.feature_importances_, encoded_columns)\n",
        "n = 20\n",
        "plt.figure(figsize=(10,n/2))\n",
        "plt.title(f'Top {n} features')\n",
        "importances.sort_values()[-n:].plot.barh(color='grey');"
      ],
      "execution_count": 22,
      "outputs": [
        {
          "output_type": "display_data",
          "data": {
            "image/png": "[encoded data removed]",
            "text/plain": [
              "<Figure size 720x720 with 1 Axes>"
            ]
          },
          "metadata": {
            "tags": []
          }
        }
      ]
    },
    {
      "cell_type": "code",
      "metadata": {
        "id": "da3rxHRB8xvG",
        "colab_type": "code",
        "outputId": "54ad41be-504f-4f9e-92c8-f4fd69287603",
        "colab": {
          "base_uri": "https://localhost:8080/",
          "height": 34
        }
      },
      "source": [
        "# cross validation \n",
        "\n",
        "k = 3\n",
        "scores = cross_val_score(pipeline, X_train, y_train, cv=k, \n",
        "                         scoring='accuracy')\n",
        "print(f'MAE for {k} folds:', -scores)"
      ],
      "execution_count": 23,
      "outputs": [
        {
          "output_type": "stream",
          "text": [
            "MAE for 3 folds: [-0.77946128 -0.80976431 -0.7996633 ]\n"
          ],
          "name": "stdout"
        }
      ]
    },
    {
      "cell_type": "code",
      "metadata": {
        "id": "wNGa9Q8o8xk9",
        "colab_type": "code",
        "outputId": "668d0cfe-bf5b-498c-fb60-dff91e78bd99",
        "colab": {
          "base_uri": "https://localhost:8080/",
          "height": 34
        }
      },
      "source": [
        "-scores.mean()"
      ],
      "execution_count": 24,
      "outputs": [
        {
          "output_type": "execute_result",
          "data": {
            "text/plain": [
              "-0.7962962962962963"
            ]
          },
          "metadata": {
            "tags": []
          },
          "execution_count": 24
        }
      ]
    },
    {
      "cell_type": "markdown",
      "metadata": {
        "id": "g7BvzrXxet1G",
        "colab_type": "text"
      },
      "source": [
        "Now that we have beaten the linear model with a tree based model, let us see if xgboost does a better job at predicting exit destination"
      ]
    },
    {
      "cell_type": "code",
      "metadata": {
        "id": "NAs8acMU8xNa",
        "colab_type": "code",
        "outputId": "366f786b-818a-443f-e3b2-baa4b037d8df",
        "colab": {
          "base_uri": "https://localhost:8080/",
          "height": 34
        }
      },
      "source": [
        "\n",
        "\n",
        "from xgboost import XGBClassifier\n",
        "\n",
        "pipeline = make_pipeline(\n",
        "    ce.OrdinalEncoder(),\n",
        "    XGBClassifier(n_estimators=100, random_state=42, n_jobs=-1)\n",
        ")\n",
        "\n",
        "# Fit on train, score on val\n",
        "pipeline.fit(X_train, y_train)\n",
        "print('Validation Accuracy:', pipeline.score(X_val, y_val))"
      ],
      "execution_count": 25,
      "outputs": [
        {
          "output_type": "stream",
          "text": [
            "Validation Accuracy: 0.7780269058295964\n"
          ],
          "name": "stdout"
        }
      ]
    },
    {
      "cell_type": "markdown",
      "metadata": {
        "id": "TNODOwwffA5u",
        "colab_type": "text"
      },
      "source": [
        "xgboost failed to beat my tree-based model, so the tree-based model is what I will use for my prediction on my web-app"
      ]
    },
    {
      "cell_type": "code",
      "metadata": {
        "id": "dAir9Q28k72U",
        "colab_type": "code",
        "outputId": "9e5a4424-0606-469d-dd41-60f202387c03",
        "colab": {
          "base_uri": "https://localhost:8080/",
          "height": 607
        }
      },
      "source": [
        "# get and plot feature importances\n",
        "\n",
        "# Linear models have coefficients whereas decision trees have \"Feature Importances\"\n",
        "import matplotlib.pyplot as plt\n",
        "\n",
        "model = pipeline.named_steps['xgbclassifier']\n",
        "encoder = pipeline.named_steps['ordinalencoder']\n",
        "encoded_columns = encoder.transform(X_val).columns\n",
        "importances = pd.Series(model.feature_importances_, encoded_columns)\n",
        "n = 20\n",
        "plt.figure(figsize=(10,n/2))\n",
        "plt.title(f'Top {n} features')\n",
        "importances.sort_values()[-n:].plot.barh(color='grey');\n",
        "\n",
        "3.917__Times_Homeless_Last_3_Years"
      ],
      "execution_count": 26,
      "outputs": [
        {
          "output_type": "display_data",
          "data": {
            "image/png": "[encoded data removed]",
            "text/plain": [
              "<Figure size 720x720 with 1 Axes>"
            ]
          },
          "metadata": {
            "tags": []
          }
        }
      ]
    }
  ]
}